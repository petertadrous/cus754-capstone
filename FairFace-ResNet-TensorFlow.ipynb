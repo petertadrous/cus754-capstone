{
 "cells": [
  {
   "cell_type": "markdown",
   "metadata": {},
   "source": [
    "# Needed Packages"
   ]
  },
  {
   "cell_type": "markdown",
   "metadata": {},
   "source": [
    "The only package needed is found at [this github repo](https://github.com/dmolony3/Torch_to_TF/blob/master/ResNet/resnet.py), and it is used only in the first section to create a tensorflow ResNet34 model. I modified the resnet.py file in this package to remove the last Dense layer, since the definition of the model does not include the parameter 'include_top'."
   ]
  },
  {
   "cell_type": "markdown",
   "metadata": {},
   "source": [
    "# Tensorflow Implementation of FairFace Model in Resnet50"
   ]
  },
  {
   "cell_type": "markdown",
   "metadata": {},
   "source": [
    "The FairFace model is trained on dataset that is balanced for race, age, and gender. This gives it increased performance in recognizing faces of minorities, as an overwhelming majority of widely available and widely used face datasets are disproportionately white, adult, males. For this experiment, we will be attempting to increase this performance further using a [Bayesian Dropout layer](https://arxiv.org/abs/1506.02142) before the fully connected layer. The FairFace model uses ResNet34 with 18 classes, with the first 7 being race, the next 2 being gender, and the final 9 being age. This final layer uses a Linear activation function, and then they take argmax of each of the three sets of classifications for the final predictions. To simplify this when porting the model over from pytorch to tensorflow keras, I have limited classification only to race, with 7 classes, and have used the softmax activation function."
   ]
  },
  {
   "cell_type": "code",
   "execution_count": 1,
   "metadata": {
    "colab": {
     "base_uri": "https://localhost:8080/",
     "height": 71
    },
    "id": "gx-DMPysmp9N",
    "outputId": "787950ea-00e9-4590-8d61-480d5656f581"
   },
   "outputs": [],
   "source": [
    "from __future__ import print_function\n",
    "import tensorflow as tf\n",
    "import tensorflow.keras\n",
    "from tensorflow.keras.layers import Dense, Dropout\n",
    "from tensorflow.keras.layers import Activation\n",
    "from tensorflow.keras.optimizers import Adam\n",
    "from tensorflow.keras.preprocessing.image import ImageDataGenerator\n",
    "from tensorflow.keras.preprocessing import image\n",
    "from tensorflow.keras.models import Model\n",
    "from tensorflow.keras.callbacks import EarlyStopping, ModelCheckpoint\n",
    "from tensorflow.keras.applications.mobilenet import preprocess_input\n",
    "import numpy as np\n",
    "import os\n",
    "import matplotlib.pyplot as plt\n",
    "\n",
    "%matplotlib inline"
   ]
  },
  {
   "cell_type": "markdown",
   "metadata": {},
   "source": [
    "This cell may not be necessary on google colab, however my GPU was having Resource Exhausted errors and configuring the GPU memory growth helped fix this."
   ]
  },
  {
   "cell_type": "code",
   "execution_count": 2,
   "metadata": {},
   "outputs": [],
   "source": [
    "physical_devices = tf.config.experimental.list_physical_devices('GPU')\n",
    "if len(physical_devices) > 0:\n",
    "    tf.config.experimental.set_memory_growth(physical_devices[0], True)"
   ]
  },
  {
   "cell_type": "markdown",
   "metadata": {},
   "source": [
    "# This is the Base Model to work with"
   ]
  },
  {
   "cell_type": "markdown",
   "metadata": {},
   "source": [
    "We will be using the ResNet34 model, same as FairFace. We will use code from [this github repo](https://github.com/dmolony3/Torch_to_TF) to copy the weights and biases from their pytorch model to my tensorflow. This ported model will still need training since it was designed for 18 classifiers and we are limiting it to 7."
   ]
  },
  {
   "cell_type": "code",
   "execution_count": 3,
   "metadata": {
    "scrolled": false
   },
   "outputs": [
    {
     "name": "stdout",
     "output_type": "stream",
     "text": [
      "Model: \"functional_1\"\n",
      "__________________________________________________________________________________________________\n",
      "Layer (type)                    Output Shape         Param #     Connected to                     \n",
      "==================================================================================================\n",
      "input_1 (InputLayer)            [(None, 244, 244, 3) 0                                            \n",
      "__________________________________________________________________________________________________\n",
      "pad (ZeroPadding2D)             (None, 250, 250, 3)  0           input_1[0][0]                    \n",
      "__________________________________________________________________________________________________\n",
      "conv1 (Conv2D)                  (None, 122, 122, 64) 9408        pad[0][0]                        \n",
      "__________________________________________________________________________________________________\n",
      "bn1 (BatchNormalization)        (None, 122, 122, 64) 256         conv1[0][0]                      \n",
      "__________________________________________________________________________________________________\n",
      "relu (Activation)               (None, 122, 122, 64) 0           bn1[0][0]                        \n",
      "__________________________________________________________________________________________________\n",
      "pad1 (ZeroPadding2D)            (None, 124, 124, 64) 0           relu[0][0]                       \n",
      "__________________________________________________________________________________________________\n",
      "maxpool (MaxPooling2D)          (None, 61, 61, 64)   0           pad1[0][0]                       \n",
      "__________________________________________________________________________________________________\n",
      "layer1.0.conv1 (Conv2D)         (None, 61, 61, 64)   36864       maxpool[0][0]                    \n",
      "__________________________________________________________________________________________________\n",
      "layer1.0.bn1 (BatchNormalizatio (None, 61, 61, 64)   256         layer1.0.conv1[0][0]             \n",
      "__________________________________________________________________________________________________\n",
      "activation (Activation)         (None, 61, 61, 64)   0           layer1.0.bn1[0][0]               \n",
      "__________________________________________________________________________________________________\n",
      "layer1.0.conv2 (Conv2D)         (None, 61, 61, 64)   36864       activation[0][0]                 \n",
      "__________________________________________________________________________________________________\n",
      "layer1.0.bn2 (BatchNormalizatio (None, 61, 61, 64)   256         layer1.0.conv2[0][0]             \n",
      "__________________________________________________________________________________________________\n",
      "add (Add)                       (None, 61, 61, 64)   0           maxpool[0][0]                    \n",
      "                                                                 layer1.0.bn2[0][0]               \n",
      "__________________________________________________________________________________________________\n",
      "activation_1 (Activation)       (None, 61, 61, 64)   0           add[0][0]                        \n",
      "__________________________________________________________________________________________________\n",
      "layer1.1.conv1 (Conv2D)         (None, 61, 61, 64)   36864       activation_1[0][0]               \n",
      "__________________________________________________________________________________________________\n",
      "layer1.1.bn1 (BatchNormalizatio (None, 61, 61, 64)   256         layer1.1.conv1[0][0]             \n",
      "__________________________________________________________________________________________________\n",
      "activation_2 (Activation)       (None, 61, 61, 64)   0           layer1.1.bn1[0][0]               \n",
      "__________________________________________________________________________________________________\n",
      "layer1.1.conv2 (Conv2D)         (None, 61, 61, 64)   36864       activation_2[0][0]               \n",
      "__________________________________________________________________________________________________\n",
      "layer1.1.bn2 (BatchNormalizatio (None, 61, 61, 64)   256         layer1.1.conv2[0][0]             \n",
      "__________________________________________________________________________________________________\n",
      "add_1 (Add)                     (None, 61, 61, 64)   0           activation_1[0][0]               \n",
      "                                                                 layer1.1.bn2[0][0]               \n",
      "__________________________________________________________________________________________________\n",
      "activation_3 (Activation)       (None, 61, 61, 64)   0           add_1[0][0]                      \n",
      "__________________________________________________________________________________________________\n",
      "layer1.2.conv1 (Conv2D)         (None, 61, 61, 64)   36864       activation_3[0][0]               \n",
      "__________________________________________________________________________________________________\n",
      "layer1.2.bn1 (BatchNormalizatio (None, 61, 61, 64)   256         layer1.2.conv1[0][0]             \n",
      "__________________________________________________________________________________________________\n",
      "activation_4 (Activation)       (None, 61, 61, 64)   0           layer1.2.bn1[0][0]               \n",
      "__________________________________________________________________________________________________\n",
      "layer1.2.conv2 (Conv2D)         (None, 61, 61, 64)   36864       activation_4[0][0]               \n",
      "__________________________________________________________________________________________________\n",
      "layer1.2.bn2 (BatchNormalizatio (None, 61, 61, 64)   256         layer1.2.conv2[0][0]             \n",
      "__________________________________________________________________________________________________\n",
      "add_2 (Add)                     (None, 61, 61, 64)   0           activation_3[0][0]               \n",
      "                                                                 layer1.2.bn2[0][0]               \n",
      "__________________________________________________________________________________________________\n",
      "activation_5 (Activation)       (None, 61, 61, 64)   0           add_2[0][0]                      \n",
      "__________________________________________________________________________________________________\n",
      "layer2.0.pad (ZeroPadding2D)    (None, 63, 63, 64)   0           activation_5[0][0]               \n",
      "__________________________________________________________________________________________________\n",
      "layer2.0.conv1 (Conv2D)         (None, 31, 31, 128)  73728       layer2.0.pad[0][0]               \n",
      "__________________________________________________________________________________________________\n",
      "layer2.0.bn1 (BatchNormalizatio (None, 31, 31, 128)  512         layer2.0.conv1[0][0]             \n",
      "__________________________________________________________________________________________________\n",
      "activation_6 (Activation)       (None, 31, 31, 128)  0           layer2.0.bn1[0][0]               \n",
      "__________________________________________________________________________________________________\n",
      "layer2.0.downsample.0 (Conv2D)  (None, 31, 31, 128)  8192        activation_5[0][0]               \n",
      "__________________________________________________________________________________________________\n",
      "layer2.0.conv2 (Conv2D)         (None, 31, 31, 128)  147456      activation_6[0][0]               \n",
      "__________________________________________________________________________________________________\n",
      "layer2.0.downsample.1 (BatchNor (None, 31, 31, 128)  512         layer2.0.downsample.0[0][0]      \n",
      "__________________________________________________________________________________________________\n",
      "layer2.0.bn2 (BatchNormalizatio (None, 31, 31, 128)  512         layer2.0.conv2[0][0]             \n",
      "__________________________________________________________________________________________________\n",
      "add_3 (Add)                     (None, 31, 31, 128)  0           layer2.0.downsample.1[0][0]      \n",
      "                                                                 layer2.0.bn2[0][0]               \n",
      "__________________________________________________________________________________________________\n",
      "activation_7 (Activation)       (None, 31, 31, 128)  0           add_3[0][0]                      \n",
      "__________________________________________________________________________________________________\n",
      "layer2.1.conv1 (Conv2D)         (None, 31, 31, 128)  147456      activation_7[0][0]               \n",
      "__________________________________________________________________________________________________\n",
      "layer2.1.bn1 (BatchNormalizatio (None, 31, 31, 128)  512         layer2.1.conv1[0][0]             \n",
      "__________________________________________________________________________________________________\n",
      "activation_8 (Activation)       (None, 31, 31, 128)  0           layer2.1.bn1[0][0]               \n",
      "__________________________________________________________________________________________________\n",
      "layer2.1.conv2 (Conv2D)         (None, 31, 31, 128)  147456      activation_8[0][0]               \n",
      "__________________________________________________________________________________________________\n",
      "layer2.1.bn2 (BatchNormalizatio (None, 31, 31, 128)  512         layer2.1.conv2[0][0]             \n",
      "__________________________________________________________________________________________________\n",
      "add_4 (Add)                     (None, 31, 31, 128)  0           activation_7[0][0]               \n",
      "                                                                 layer2.1.bn2[0][0]               \n",
      "__________________________________________________________________________________________________\n",
      "activation_9 (Activation)       (None, 31, 31, 128)  0           add_4[0][0]                      \n",
      "__________________________________________________________________________________________________\n",
      "layer2.2.conv1 (Conv2D)         (None, 31, 31, 128)  147456      activation_9[0][0]               \n",
      "__________________________________________________________________________________________________\n",
      "layer2.2.bn1 (BatchNormalizatio (None, 31, 31, 128)  512         layer2.2.conv1[0][0]             \n",
      "__________________________________________________________________________________________________\n",
      "activation_10 (Activation)      (None, 31, 31, 128)  0           layer2.2.bn1[0][0]               \n",
      "__________________________________________________________________________________________________\n",
      "layer2.2.conv2 (Conv2D)         (None, 31, 31, 128)  147456      activation_10[0][0]              \n",
      "__________________________________________________________________________________________________\n",
      "layer2.2.bn2 (BatchNormalizatio (None, 31, 31, 128)  512         layer2.2.conv2[0][0]             \n",
      "__________________________________________________________________________________________________\n",
      "add_5 (Add)                     (None, 31, 31, 128)  0           activation_9[0][0]               \n",
      "                                                                 layer2.2.bn2[0][0]               \n",
      "__________________________________________________________________________________________________\n",
      "activation_11 (Activation)      (None, 31, 31, 128)  0           add_5[0][0]                      \n",
      "__________________________________________________________________________________________________\n",
      "layer2.3.conv1 (Conv2D)         (None, 31, 31, 128)  147456      activation_11[0][0]              \n",
      "__________________________________________________________________________________________________\n",
      "layer2.3.bn1 (BatchNormalizatio (None, 31, 31, 128)  512         layer2.3.conv1[0][0]             \n",
      "__________________________________________________________________________________________________\n",
      "activation_12 (Activation)      (None, 31, 31, 128)  0           layer2.3.bn1[0][0]               \n",
      "__________________________________________________________________________________________________\n",
      "layer2.3.conv2 (Conv2D)         (None, 31, 31, 128)  147456      activation_12[0][0]              \n",
      "__________________________________________________________________________________________________\n",
      "layer2.3.bn2 (BatchNormalizatio (None, 31, 31, 128)  512         layer2.3.conv2[0][0]             \n",
      "__________________________________________________________________________________________________\n",
      "add_6 (Add)                     (None, 31, 31, 128)  0           activation_11[0][0]              \n",
      "                                                                 layer2.3.bn2[0][0]               \n",
      "__________________________________________________________________________________________________\n",
      "activation_13 (Activation)      (None, 31, 31, 128)  0           add_6[0][0]                      \n",
      "__________________________________________________________________________________________________\n",
      "layer3.0.pad (ZeroPadding2D)    (None, 33, 33, 128)  0           activation_13[0][0]              \n",
      "__________________________________________________________________________________________________\n",
      "layer3.0.conv1 (Conv2D)         (None, 16, 16, 256)  294912      layer3.0.pad[0][0]               \n",
      "__________________________________________________________________________________________________\n",
      "layer3.0.bn1 (BatchNormalizatio (None, 16, 16, 256)  1024        layer3.0.conv1[0][0]             \n",
      "__________________________________________________________________________________________________\n",
      "activation_14 (Activation)      (None, 16, 16, 256)  0           layer3.0.bn1[0][0]               \n",
      "__________________________________________________________________________________________________\n",
      "layer3.0.downsample.0 (Conv2D)  (None, 16, 16, 256)  32768       activation_13[0][0]              \n",
      "__________________________________________________________________________________________________\n",
      "layer3.0.conv2 (Conv2D)         (None, 16, 16, 256)  589824      activation_14[0][0]              \n",
      "__________________________________________________________________________________________________\n",
      "layer3.0.downsample.1 (BatchNor (None, 16, 16, 256)  1024        layer3.0.downsample.0[0][0]      \n",
      "__________________________________________________________________________________________________\n",
      "layer3.0.bn2 (BatchNormalizatio (None, 16, 16, 256)  1024        layer3.0.conv2[0][0]             \n",
      "__________________________________________________________________________________________________\n",
      "add_7 (Add)                     (None, 16, 16, 256)  0           layer3.0.downsample.1[0][0]      \n",
      "                                                                 layer3.0.bn2[0][0]               \n",
      "__________________________________________________________________________________________________\n",
      "activation_15 (Activation)      (None, 16, 16, 256)  0           add_7[0][0]                      \n",
      "__________________________________________________________________________________________________\n",
      "layer3.1.conv1 (Conv2D)         (None, 16, 16, 256)  589824      activation_15[0][0]              \n",
      "__________________________________________________________________________________________________\n",
      "layer3.1.bn1 (BatchNormalizatio (None, 16, 16, 256)  1024        layer3.1.conv1[0][0]             \n",
      "__________________________________________________________________________________________________\n",
      "activation_16 (Activation)      (None, 16, 16, 256)  0           layer3.1.bn1[0][0]               \n",
      "__________________________________________________________________________________________________\n",
      "layer3.1.conv2 (Conv2D)         (None, 16, 16, 256)  589824      activation_16[0][0]              \n",
      "__________________________________________________________________________________________________\n",
      "layer3.1.bn2 (BatchNormalizatio (None, 16, 16, 256)  1024        layer3.1.conv2[0][0]             \n",
      "__________________________________________________________________________________________________\n",
      "add_8 (Add)                     (None, 16, 16, 256)  0           activation_15[0][0]              \n",
      "                                                                 layer3.1.bn2[0][0]               \n",
      "__________________________________________________________________________________________________\n",
      "activation_17 (Activation)      (None, 16, 16, 256)  0           add_8[0][0]                      \n",
      "__________________________________________________________________________________________________\n",
      "layer3.2.conv1 (Conv2D)         (None, 16, 16, 256)  589824      activation_17[0][0]              \n",
      "__________________________________________________________________________________________________\n",
      "layer3.2.bn1 (BatchNormalizatio (None, 16, 16, 256)  1024        layer3.2.conv1[0][0]             \n",
      "__________________________________________________________________________________________________\n",
      "activation_18 (Activation)      (None, 16, 16, 256)  0           layer3.2.bn1[0][0]               \n",
      "__________________________________________________________________________________________________\n",
      "layer3.2.conv2 (Conv2D)         (None, 16, 16, 256)  589824      activation_18[0][0]              \n",
      "__________________________________________________________________________________________________\n",
      "layer3.2.bn2 (BatchNormalizatio (None, 16, 16, 256)  1024        layer3.2.conv2[0][0]             \n",
      "__________________________________________________________________________________________________\n",
      "add_9 (Add)                     (None, 16, 16, 256)  0           activation_17[0][0]              \n",
      "                                                                 layer3.2.bn2[0][0]               \n",
      "__________________________________________________________________________________________________\n",
      "activation_19 (Activation)      (None, 16, 16, 256)  0           add_9[0][0]                      \n",
      "__________________________________________________________________________________________________\n",
      "layer3.3.conv1 (Conv2D)         (None, 16, 16, 256)  589824      activation_19[0][0]              \n",
      "__________________________________________________________________________________________________\n",
      "layer3.3.bn1 (BatchNormalizatio (None, 16, 16, 256)  1024        layer3.3.conv1[0][0]             \n",
      "__________________________________________________________________________________________________\n",
      "activation_20 (Activation)      (None, 16, 16, 256)  0           layer3.3.bn1[0][0]               \n",
      "__________________________________________________________________________________________________\n",
      "layer3.3.conv2 (Conv2D)         (None, 16, 16, 256)  589824      activation_20[0][0]              \n",
      "__________________________________________________________________________________________________\n",
      "layer3.3.bn2 (BatchNormalizatio (None, 16, 16, 256)  1024        layer3.3.conv2[0][0]             \n",
      "__________________________________________________________________________________________________\n",
      "add_10 (Add)                    (None, 16, 16, 256)  0           activation_19[0][0]              \n",
      "                                                                 layer3.3.bn2[0][0]               \n",
      "__________________________________________________________________________________________________\n",
      "activation_21 (Activation)      (None, 16, 16, 256)  0           add_10[0][0]                     \n",
      "__________________________________________________________________________________________________\n",
      "layer3.4.conv1 (Conv2D)         (None, 16, 16, 256)  589824      activation_21[0][0]              \n",
      "__________________________________________________________________________________________________\n",
      "layer3.4.bn1 (BatchNormalizatio (None, 16, 16, 256)  1024        layer3.4.conv1[0][0]             \n",
      "__________________________________________________________________________________________________\n",
      "activation_22 (Activation)      (None, 16, 16, 256)  0           layer3.4.bn1[0][0]               \n",
      "__________________________________________________________________________________________________\n",
      "layer3.4.conv2 (Conv2D)         (None, 16, 16, 256)  589824      activation_22[0][0]              \n",
      "__________________________________________________________________________________________________\n",
      "layer3.4.bn2 (BatchNormalizatio (None, 16, 16, 256)  1024        layer3.4.conv2[0][0]             \n",
      "__________________________________________________________________________________________________\n",
      "add_11 (Add)                    (None, 16, 16, 256)  0           activation_21[0][0]              \n",
      "                                                                 layer3.4.bn2[0][0]               \n",
      "__________________________________________________________________________________________________\n",
      "activation_23 (Activation)      (None, 16, 16, 256)  0           add_11[0][0]                     \n",
      "__________________________________________________________________________________________________\n",
      "layer3.5.conv1 (Conv2D)         (None, 16, 16, 256)  589824      activation_23[0][0]              \n",
      "__________________________________________________________________________________________________\n",
      "layer3.5.bn1 (BatchNormalizatio (None, 16, 16, 256)  1024        layer3.5.conv1[0][0]             \n",
      "__________________________________________________________________________________________________\n",
      "activation_24 (Activation)      (None, 16, 16, 256)  0           layer3.5.bn1[0][0]               \n",
      "__________________________________________________________________________________________________\n",
      "layer3.5.conv2 (Conv2D)         (None, 16, 16, 256)  589824      activation_24[0][0]              \n",
      "__________________________________________________________________________________________________\n",
      "layer3.5.bn2 (BatchNormalizatio (None, 16, 16, 256)  1024        layer3.5.conv2[0][0]             \n",
      "__________________________________________________________________________________________________\n",
      "add_12 (Add)                    (None, 16, 16, 256)  0           activation_23[0][0]              \n",
      "                                                                 layer3.5.bn2[0][0]               \n",
      "__________________________________________________________________________________________________\n",
      "activation_25 (Activation)      (None, 16, 16, 256)  0           add_12[0][0]                     \n",
      "__________________________________________________________________________________________________\n",
      "layer4.0.pad (ZeroPadding2D)    (None, 18, 18, 256)  0           activation_25[0][0]              \n",
      "__________________________________________________________________________________________________\n",
      "layer4.0.conv1 (Conv2D)         (None, 8, 8, 512)    1179648     layer4.0.pad[0][0]               \n",
      "__________________________________________________________________________________________________\n",
      "layer4.0.bn1 (BatchNormalizatio (None, 8, 8, 512)    2048        layer4.0.conv1[0][0]             \n",
      "__________________________________________________________________________________________________\n",
      "activation_26 (Activation)      (None, 8, 8, 512)    0           layer4.0.bn1[0][0]               \n",
      "__________________________________________________________________________________________________\n",
      "layer4.0.downsample.0 (Conv2D)  (None, 8, 8, 512)    131072      activation_25[0][0]              \n",
      "__________________________________________________________________________________________________\n",
      "layer4.0.conv2 (Conv2D)         (None, 8, 8, 512)    2359296     activation_26[0][0]              \n",
      "__________________________________________________________________________________________________\n",
      "layer4.0.downsample.1 (BatchNor (None, 8, 8, 512)    2048        layer4.0.downsample.0[0][0]      \n",
      "__________________________________________________________________________________________________\n",
      "layer4.0.bn2 (BatchNormalizatio (None, 8, 8, 512)    2048        layer4.0.conv2[0][0]             \n",
      "__________________________________________________________________________________________________\n",
      "add_13 (Add)                    (None, 8, 8, 512)    0           layer4.0.downsample.1[0][0]      \n",
      "                                                                 layer4.0.bn2[0][0]               \n",
      "__________________________________________________________________________________________________\n",
      "activation_27 (Activation)      (None, 8, 8, 512)    0           add_13[0][0]                     \n",
      "__________________________________________________________________________________________________\n",
      "layer4.1.conv1 (Conv2D)         (None, 8, 8, 512)    2359296     activation_27[0][0]              \n",
      "__________________________________________________________________________________________________\n",
      "layer4.1.bn1 (BatchNormalizatio (None, 8, 8, 512)    2048        layer4.1.conv1[0][0]             \n",
      "__________________________________________________________________________________________________\n",
      "activation_28 (Activation)      (None, 8, 8, 512)    0           layer4.1.bn1[0][0]               \n",
      "__________________________________________________________________________________________________\n",
      "layer4.1.conv2 (Conv2D)         (None, 8, 8, 512)    2359296     activation_28[0][0]              \n",
      "__________________________________________________________________________________________________\n",
      "layer4.1.bn2 (BatchNormalizatio (None, 8, 8, 512)    2048        layer4.1.conv2[0][0]             \n",
      "__________________________________________________________________________________________________\n",
      "add_14 (Add)                    (None, 8, 8, 512)    0           activation_27[0][0]              \n",
      "                                                                 layer4.1.bn2[0][0]               \n",
      "__________________________________________________________________________________________________\n",
      "activation_29 (Activation)      (None, 8, 8, 512)    0           add_14[0][0]                     \n",
      "__________________________________________________________________________________________________\n",
      "layer4.2.conv1 (Conv2D)         (None, 8, 8, 512)    2359296     activation_29[0][0]              \n",
      "__________________________________________________________________________________________________\n",
      "layer4.2.bn1 (BatchNormalizatio (None, 8, 8, 512)    2048        layer4.2.conv1[0][0]             \n",
      "__________________________________________________________________________________________________\n",
      "activation_30 (Activation)      (None, 8, 8, 512)    0           layer4.2.bn1[0][0]               \n",
      "__________________________________________________________________________________________________\n",
      "layer4.2.conv2 (Conv2D)         (None, 8, 8, 512)    2359296     activation_30[0][0]              \n",
      "__________________________________________________________________________________________________\n",
      "layer4.2.bn2 (BatchNormalizatio (None, 8, 8, 512)    2048        layer4.2.conv2[0][0]             \n",
      "__________________________________________________________________________________________________\n",
      "add_15 (Add)                    (None, 8, 8, 512)    0           activation_29[0][0]              \n",
      "                                                                 layer4.2.bn2[0][0]               \n",
      "__________________________________________________________________________________________________\n",
      "activation_31 (Activation)      (None, 8, 8, 512)    0           add_15[0][0]                     \n",
      "__________________________________________________________________________________________________\n",
      "avgpool (GlobalAveragePooling2D (None, 512)          0           activation_31[0][0]              \n",
      "==================================================================================================\n",
      "Total params: 21,301,696\n",
      "Trainable params: 21,284,672\n",
      "Non-trainable params: 17,024\n",
      "__________________________________________________________________________________________________\n",
      "None\n",
      "['conv1', 'bn1', 'relu', 'maxpool', 'layer1.0.conv1', 'layer1.0.bn1', 'layer1.0.conv2', 'layer1.0.bn2', 'layer1.1.conv1', 'layer1.1.bn1', 'layer1.1.conv2', 'layer1.1.bn2', 'layer1.2.conv1', 'layer1.2.bn1', 'layer1.2.conv2', 'layer1.2.bn2', 'layer2.0.conv1', 'layer2.0.bn1', 'layer2.0.downsample.0', 'layer2.0.conv2', 'layer2.0.downsample.1', 'layer2.0.bn2', 'layer2.1.conv1', 'layer2.1.bn1', 'layer2.1.conv2', 'layer2.1.bn2', 'layer2.2.conv1', 'layer2.2.bn1', 'layer2.2.conv2', 'layer2.2.bn2', 'layer2.3.conv1', 'layer2.3.bn1', 'layer2.3.conv2', 'layer2.3.bn2', 'layer3.0.conv1', 'layer3.0.bn1', 'layer3.0.downsample.0', 'layer3.0.conv2', 'layer3.0.downsample.1', 'layer3.0.bn2', 'layer3.1.conv1', 'layer3.1.bn1', 'layer3.1.conv2', 'layer3.1.bn2', 'layer3.2.conv1', 'layer3.2.bn1', 'layer3.2.conv2', 'layer3.2.bn2', 'layer3.3.conv1', 'layer3.3.bn1', 'layer3.3.conv2', 'layer3.3.bn2', 'layer3.4.conv1', 'layer3.4.bn1', 'layer3.4.conv2', 'layer3.4.bn2', 'layer3.5.conv1', 'layer3.5.bn1', 'layer3.5.conv2', 'layer3.5.bn2', 'layer4.0.conv1', 'layer4.0.bn1', 'layer4.0.downsample.0', 'layer4.0.conv2', 'layer4.0.downsample.1', 'layer4.0.bn2', 'layer4.1.conv1', 'layer4.1.bn1', 'layer4.1.conv2', 'layer4.1.bn2', 'layer4.2.conv1', 'layer4.2.bn1', 'layer4.2.conv2', 'layer4.2.bn2', 'avgpool']\n",
      "No parameters found for relu\n",
      "No parameters found for maxpool\n",
      "No parameters found for avgpool\n"
     ]
    }
   ],
   "source": [
    "import tensorflow as tf\n",
    "from ResNet import resnet\n",
    "import torchvision.models as models\n",
    "import torch\n",
    "import torch.nn as nn\n",
    "\n",
    "# Original FairFace Model\n",
    "torch_path = './FairFace/FairFace-master/fair_face_models/res34_fair_align_multi_7_20190809.pt'\n",
    "\n",
    "# Defining the input tensor\n",
    "inputs = tf.keras.Input((244, 244,3))\n",
    "\n",
    "# Downloading a pretrained resnet34 model in pytorch\n",
    "resnet_torch = models.resnet34(pretrained=True)\n",
    "\n",
    "# We need to set the last layer to have 18 classes in order to load the weights and\n",
    "#    biases of the FairFace model, and then we can change it to 7 classes.\n",
    "resnet_torch.fc = nn.Linear(resnet_torch.fc.in_features, 18)\n",
    "resnet_torch.load_state_dict(torch.load(torch_path,map_location=torch.device('cpu')))\n",
    "resnet_torch.fc = nn.Linear(resnet_torch.fc.in_features, 7)\n",
    "\n",
    "# Downloading a resnet34 model in tensorflow\n",
    "resnet_tf = resnet.ResNet34(inputs)\n",
    "\n",
    "base_model = tf.keras.Model(inputs, resnet_tf)\n",
    "print(base_model.summary())\n",
    "\n",
    "\n",
    "# place all variables in list\n",
    "tf_layer_names = [layer.name for layer in base_model.layers]\n",
    "torch_layer_names = []\n",
    "for name, module in resnet_torch.named_modules():\n",
    "    torch_layer_names.append(name)\n",
    "\n",
    "tf_layer_names = [layer for layer in tf_layer_names if layer in torch_layer_names]\n",
    "print(tf_layer_names)\n",
    "\n",
    "# loop over all layers from Pytorch model also found in tensorflow model and port weights\n",
    "for layer in tf_layer_names:\n",
    "    if 'conv' in layer:\n",
    "        tf_conv = base_model.get_layer(layer)\n",
    "        weights = resnet_torch.state_dict()[layer+'.weight'].numpy()\n",
    "        weights_list = [weights.transpose((2, 3, 1, 0))]\n",
    "        if len(tf_conv.weights) == 2:\n",
    "            bias = resnet_torch.state_dict()[layer+'.bias'].numpy()\n",
    "            weights_list.append(bias)\n",
    "        tf_conv.set_weights(weights_list)\n",
    "    elif 'bn' in layer:\n",
    "        tf_bn = base_model.get_layer(layer)\n",
    "        gamma = resnet_torch.state_dict()[layer+'.weight'].numpy()\n",
    "        beta = resnet_torch.state_dict()[layer+'.bias'].numpy()\n",
    "        mean = resnet_torch.state_dict()[layer+'.running_mean'].numpy()\n",
    "        var = resnet_torch.state_dict()[layer+'.running_var'].numpy()\n",
    "        bn_list = [gamma, beta, mean, var]\n",
    "        tf_bn.set_weights(bn_list)\n",
    "    elif 'downsample.0' in layer:\n",
    "        tf_downsample = base_model.get_layer(layer)\n",
    "        weights = resnet_torch.state_dict()[layer+'.weight'].numpy()\n",
    "        weights_list = [weights.transpose((2, 3, 1, 0))]\n",
    "        if len(tf_downsample.weights) == 2:\n",
    "            bias = resnet_torch.state_dict()[layer+'.bias'].numpy()\n",
    "            weights_list.append(bias)\n",
    "        tf_downsample.set_weights(weights_list)\n",
    "    elif 'downsample.1' in layer:\n",
    "        tf_downsample = base_model.get_layer(layer)\n",
    "        gamma = resnet_torch.state_dict()[layer+'.weight'].numpy()\n",
    "        beta = resnet_torch.state_dict()[layer+'.bias'].numpy()\n",
    "        mean = resnet_torch.state_dict()[layer+'.running_mean'].numpy()\n",
    "        var = resnet_torch.state_dict()[layer+'.running_var'].numpy()\n",
    "        bn_list = [gamma, beta, mean, var] # [gamma, beta, mean, var]\n",
    "        tf_downsample.set_weights(bn_list)\n",
    "    elif 'fc' in layer:\n",
    "        tf_fc = base_model.get_layer(layer)\n",
    "        weights = resnet_torch.state_dict()[layer+'.weight'].numpy() \n",
    "        weights_list = [weights.transpose((1, 0))]\n",
    "        if len(tf_fc.weights) == 2:\n",
    "            bias = resnet_torch.state_dict()[layer+'.bias'].numpy()\n",
    "            weights_list.append(bias)\n",
    "        tf_fc.set_weights(weights_list)\n",
    "    else:\n",
    "        print('No parameters found for {}'.format(layer))\n",
    "\n"
   ]
  },
  {
   "cell_type": "markdown",
   "metadata": {},
   "source": [
    "### Save Base Model"
   ]
  },
  {
   "cell_type": "markdown",
   "metadata": {},
   "source": [
    "Now that we have the base model in tensorflow, we can save it as a backup and begin to create the augmented models we intend to test."
   ]
  },
  {
   "cell_type": "code",
   "execution_count": 4,
   "metadata": {},
   "outputs": [
    {
     "name": "stdout",
     "output_type": "stream",
     "text": [
      "WARNING:tensorflow:From /home/peter/anaconda3/envs/face/lib/python3.6/site-packages/tensorflow/python/training/tracking/tracking.py:111: Model.state_updates (from tensorflow.python.keras.engine.training) is deprecated and will be removed in a future version.\n",
      "Instructions for updating:\n",
      "This property should not be used in TensorFlow 2.0, as updates are applied automatically.\n",
      "WARNING:tensorflow:From /home/peter/anaconda3/envs/face/lib/python3.6/site-packages/tensorflow/python/training/tracking/tracking.py:111: Layer.updates (from tensorflow.python.keras.engine.base_layer) is deprecated and will be removed in a future version.\n",
      "Instructions for updating:\n",
      "This property should not be used in TensorFlow 2.0, as updates are applied automatically.\n",
      "INFO:tensorflow:Assets written to: ./models/base_model_tf/assets\n"
     ]
    }
   ],
   "source": [
    "from tensorflow.keras import models as M\n",
    "\n",
    "base_model.save('./models/base_model_tf/')"
   ]
  },
  {
   "cell_type": "markdown",
   "metadata": {},
   "source": [
    "# Transfer Learning"
   ]
  },
  {
   "cell_type": "markdown",
   "metadata": {},
   "source": [
    "To maintain the previous training of the original FairFace model, we will take advantage of the technique of transfer learning. Since this is a large model with nearly 100,000 images across training and validation, transfer learning will occur in 3 phases.\n",
    "\n",
    "- Phase 1: Only the added classifying layers will be trainable.\n",
    "- Phase 2: Only the ResNet34 layers without the added classifying layers will be trainable.\n",
    "- Phase 3: All layers in the model will be trainable."
   ]
  },
  {
   "cell_type": "markdown",
   "metadata": {},
   "source": [
    "# Model 1 - No Modifications"
   ]
  },
  {
   "cell_type": "markdown",
   "metadata": {},
   "source": [
    "This first model has no modifications to the original FairFace model, with the exception of the last layer having on 7 classes and using softmax activation. Since this applies to all three models, we will not make reference to this modification again. "
   ]
  },
  {
   "cell_type": "code",
   "execution_count": 5,
   "metadata": {},
   "outputs": [
    {
     "name": "stdout",
     "output_type": "stream",
     "text": [
      "WARNING:tensorflow:No training configuration found in save file, so the model was *not* compiled. Compile it manually.\n"
     ]
    }
   ],
   "source": [
    "base_1 = M.load_model('./models/base_model_tf/')\n",
    "fc_1 = tf.keras.layers.Dense(units=7, use_bias=True, activation='softmax', name='fc')(base_1.output)\n",
    "model_1 = tf.keras.models.Model(inputs=base_1.input, outputs=fc_1)"
   ]
  },
  {
   "cell_type": "code",
   "execution_count": 6,
   "metadata": {
    "scrolled": false
   },
   "outputs": [
    {
     "name": "stdout",
     "output_type": "stream",
     "text": [
      "Layer 0 (Non-trainable): <tensorflow.python.keras.engine.input_layer.InputLayer object at 0x7fb2d4a10630>\n",
      "Layer 1 (Non-trainable): <tensorflow.python.keras.layers.convolutional.ZeroPadding2D object at 0x7fb3406d6278>\n",
      "Layer 2 (Non-trainable): <tensorflow.python.keras.layers.convolutional.Conv2D object at 0x7fb3c815d160>\n",
      "Layer 3 (Non-trainable): <tensorflow.python.keras.layers.normalization_v2.BatchNormalization object at 0x7fb3c815d8d0>\n",
      "Layer 4 (Non-trainable): <tensorflow.python.keras.layers.core.Activation object at 0x7fb360338080>\n",
      "Layer 5 (Non-trainable): <tensorflow.python.keras.layers.convolutional.ZeroPadding2D object at 0x7fb3603384a8>\n",
      "Layer 6 (Non-trainable): <tensorflow.python.keras.layers.pooling.MaxPooling2D object at 0x7fb360338940>\n",
      "Layer 7 (Non-trainable): <tensorflow.python.keras.layers.convolutional.Conv2D object at 0x7fb360338f28>\n",
      "Layer 8 (Non-trainable): <tensorflow.python.keras.layers.normalization_v2.BatchNormalization object at 0x7fb360339668>\n",
      "Layer 9 (Non-trainable): <tensorflow.python.keras.layers.core.Activation object at 0x7fb360339d68>\n",
      "Layer 10 (Non-trainable): <tensorflow.python.keras.layers.convolutional.Conv2D object at 0x7fb36033b390>\n",
      "Layer 11 (Non-trainable): <tensorflow.python.keras.layers.normalization_v2.BatchNormalization object at 0x7fb36033ba90>\n",
      "Layer 12 (Non-trainable): <tensorflow.python.keras.layers.merge.Add object at 0x7fb3603632b0>\n",
      "Layer 13 (Non-trainable): <tensorflow.python.keras.layers.core.Activation object at 0x7fb360363588>\n",
      "Layer 14 (Non-trainable): <tensorflow.python.keras.layers.convolutional.Conv2D object at 0x7fb360363b00>\n",
      "Layer 15 (Non-trainable): <tensorflow.python.keras.layers.normalization_v2.BatchNormalization object at 0x7fb360351240>\n",
      "Layer 16 (Non-trainable): <tensorflow.python.keras.layers.core.Activation object at 0x7fb360351978>\n",
      "Layer 17 (Non-trainable): <tensorflow.python.keras.layers.convolutional.Conv2D object at 0x7fb360351f60>\n",
      "Layer 18 (Non-trainable): <tensorflow.python.keras.layers.normalization_v2.BatchNormalization object at 0x7fb3603426a0>\n",
      "Layer 19 (Non-trainable): <tensorflow.python.keras.layers.merge.Add object at 0x7fb360342e80>\n",
      "Layer 20 (Non-trainable): <tensorflow.python.keras.layers.core.Activation object at 0x7fb2ec76eeb8>\n",
      "Layer 21 (Non-trainable): <tensorflow.python.keras.layers.convolutional.Conv2D object at 0x7fb2ec76ee48>\n",
      "Layer 22 (Non-trainable): <tensorflow.python.keras.layers.normalization_v2.BatchNormalization object at 0x7fb2ec76e710>\n",
      "Layer 23 (Non-trainable): <tensorflow.python.keras.layers.core.Activation object at 0x7fb2ec79a588>\n",
      "Layer 24 (Non-trainable): <tensorflow.python.keras.layers.convolutional.Conv2D object at 0x7fb2ec79ab70>\n",
      "Layer 25 (Non-trainable): <tensorflow.python.keras.layers.normalization_v2.BatchNormalization object at 0x7fb2ec7a72b0>\n",
      "Layer 26 (Non-trainable): <tensorflow.python.keras.layers.merge.Add object at 0x7fb2ec7a7a90>\n",
      "Layer 27 (Non-trainable): <tensorflow.python.keras.layers.core.Activation object at 0x7fb2ec7a7d68>\n",
      "Layer 28 (Non-trainable): <tensorflow.python.keras.layers.convolutional.ZeroPadding2D object at 0x7fb2ec7800f0>\n",
      "Layer 29 (Non-trainable): <tensorflow.python.keras.layers.convolutional.Conv2D object at 0x7fb2ec7806a0>\n",
      "Layer 30 (Non-trainable): <tensorflow.python.keras.layers.normalization_v2.BatchNormalization object at 0x7fb2ec780da0>\n",
      "Layer 31 (Non-trainable): <tensorflow.python.keras.layers.core.Activation object at 0x7fb2ec77e518>\n",
      "Layer 32 (Non-trainable): <tensorflow.python.keras.layers.convolutional.Conv2D object at 0x7fb2ec77eb00>\n",
      "Layer 33 (Non-trainable): <tensorflow.python.keras.layers.convolutional.Conv2D object at 0x7fb3682342b0>\n",
      "Layer 34 (Non-trainable): <tensorflow.python.keras.layers.normalization_v2.BatchNormalization object at 0x7fb3682349b0>\n",
      "Layer 35 (Non-trainable): <tensorflow.python.keras.layers.normalization_v2.BatchNormalization object at 0x7fb36824d390>\n",
      "Layer 36 (Non-trainable): <tensorflow.python.keras.layers.merge.Add object at 0x7fb36824dbe0>\n",
      "Layer 37 (Non-trainable): <tensorflow.python.keras.layers.core.Activation object at 0x7fb36824deb8>\n",
      "Layer 38 (Non-trainable): <tensorflow.python.keras.layers.convolutional.Conv2D object at 0x7fb368248470>\n",
      "Layer 39 (Non-trainable): <tensorflow.python.keras.layers.normalization_v2.BatchNormalization object at 0x7fb368248b70>\n",
      "Layer 40 (Non-trainable): <tensorflow.python.keras.layers.core.Activation object at 0x7fb36823a2e8>\n",
      "Layer 41 (Non-trainable): <tensorflow.python.keras.layers.convolutional.Conv2D object at 0x7fb36823a8d0>\n",
      "Layer 42 (Non-trainable): <tensorflow.python.keras.layers.normalization_v2.BatchNormalization object at 0x7fb36823afd0>\n",
      "Layer 43 (Non-trainable): <tensorflow.python.keras.layers.merge.Add object at 0x7fb3682317f0>\n",
      "Layer 44 (Non-trainable): <tensorflow.python.keras.layers.core.Activation object at 0x7fb368231ac8>\n",
      "Layer 45 (Non-trainable): <tensorflow.python.keras.layers.convolutional.Conv2D object at 0x7fb36822a080>\n",
      "Layer 46 (Non-trainable): <tensorflow.python.keras.layers.normalization_v2.BatchNormalization object at 0x7fb36822a780>\n",
      "Layer 47 (Non-trainable): <tensorflow.python.keras.layers.core.Activation object at 0x7fb36822aeb8>\n",
      "Layer 48 (Non-trainable): <tensorflow.python.keras.layers.convolutional.Conv2D object at 0x7fb36266e4e0>\n",
      "Layer 49 (Non-trainable): <tensorflow.python.keras.layers.normalization_v2.BatchNormalization object at 0x7fb36266ebe0>\n",
      "Layer 50 (Non-trainable): <tensorflow.python.keras.layers.merge.Add object at 0x7fb362647400>\n",
      "Layer 51 (Non-trainable): <tensorflow.python.keras.layers.core.Activation object at 0x7fb3626476d8>\n",
      "Layer 52 (Non-trainable): <tensorflow.python.keras.layers.convolutional.Conv2D object at 0x7fb362647c50>\n",
      "Layer 53 (Non-trainable): <tensorflow.python.keras.layers.normalization_v2.BatchNormalization object at 0x7fb36266f390>\n",
      "Layer 54 (Non-trainable): <tensorflow.python.keras.layers.core.Activation object at 0x7fb36266fac8>\n",
      "Layer 55 (Non-trainable): <tensorflow.python.keras.layers.convolutional.Conv2D object at 0x7fb3626580f0>\n",
      "Layer 56 (Non-trainable): <tensorflow.python.keras.layers.normalization_v2.BatchNormalization object at 0x7fb3626587f0>\n",
      "Layer 57 (Non-trainable): <tensorflow.python.keras.layers.merge.Add object at 0x7fb362658fd0>\n",
      "Layer 58 (Non-trainable): <tensorflow.python.keras.layers.core.Activation object at 0x7fb36266c2e8>\n",
      "Layer 59 (Non-trainable): <tensorflow.python.keras.layers.convolutional.ZeroPadding2D object at 0x7fb36266c630>\n",
      "Layer 60 (Non-trainable): <tensorflow.python.keras.layers.convolutional.Conv2D object at 0x7fb36266cbe0>\n",
      "Layer 61 (Non-trainable): <tensorflow.python.keras.layers.normalization_v2.BatchNormalization object at 0x7fb362669320>\n",
      "Layer 62 (Non-trainable): <tensorflow.python.keras.layers.core.Activation object at 0x7fb362669a58>\n",
      "Layer 63 (Non-trainable): <tensorflow.python.keras.layers.convolutional.Conv2D object at 0x7fb2ec219080>\n",
      "Layer 64 (Non-trainable): <tensorflow.python.keras.layers.convolutional.Conv2D object at 0x7fb2ec2197f0>\n",
      "Layer 65 (Non-trainable): <tensorflow.python.keras.layers.normalization_v2.BatchNormalization object at 0x7fb2ec219ef0>\n",
      "Layer 66 (Non-trainable): <tensorflow.python.keras.layers.normalization_v2.BatchNormalization object at 0x7fb2ec2118d0>\n",
      "Layer 67 (Non-trainable): <tensorflow.python.keras.layers.merge.Add object at 0x7fb2ec1ee160>\n",
      "Layer 68 (Non-trainable): <tensorflow.python.keras.layers.core.Activation object at 0x7fb2ec1ee438>\n",
      "Layer 69 (Non-trainable): <tensorflow.python.keras.layers.convolutional.Conv2D object at 0x7fb2ec1ee9b0>\n",
      "Layer 70 (Non-trainable): <tensorflow.python.keras.layers.normalization_v2.BatchNormalization object at 0x7fb2ec1f00f0>\n",
      "Layer 71 (Non-trainable): <tensorflow.python.keras.layers.core.Activation object at 0x7fb2ec1f0828>\n",
      "Layer 72 (Non-trainable): <tensorflow.python.keras.layers.convolutional.Conv2D object at 0x7fb2ec1f0e10>\n",
      "Layer 73 (Non-trainable): <tensorflow.python.keras.layers.normalization_v2.BatchNormalization object at 0x7fb2ec1fa550>\n",
      "Layer 74 (Non-trainable): <tensorflow.python.keras.layers.merge.Add object at 0x7fb2ec1fad30>\n",
      "Layer 75 (Non-trainable): <tensorflow.python.keras.layers.core.Activation object at 0x7fb362527048>\n",
      "Layer 76 (Non-trainable): <tensorflow.python.keras.layers.convolutional.Conv2D object at 0x7fb3625275c0>\n",
      "Layer 77 (Non-trainable): <tensorflow.python.keras.layers.normalization_v2.BatchNormalization object at 0x7fb362527cc0>\n",
      "Layer 78 (Non-trainable): <tensorflow.python.keras.layers.core.Activation object at 0x7fb362508438>\n",
      "Layer 79 (Non-trainable): <tensorflow.python.keras.layers.convolutional.Conv2D object at 0x7fb362508a20>\n",
      "Layer 80 (Non-trainable): <tensorflow.python.keras.layers.normalization_v2.BatchNormalization object at 0x7fb3624ff160>\n",
      "Layer 81 (Non-trainable): <tensorflow.python.keras.layers.merge.Add object at 0x7fb3624ff940>\n",
      "Layer 82 (Non-trainable): <tensorflow.python.keras.layers.core.Activation object at 0x7fb3624ffc18>\n",
      "Layer 83 (Non-trainable): <tensorflow.python.keras.layers.convolutional.Conv2D object at 0x7fb36252b0b8>\n",
      "Layer 84 (Non-trainable): <tensorflow.python.keras.layers.normalization_v2.BatchNormalization object at 0x7fb36252b518>\n",
      "Layer 85 (Non-trainable): <tensorflow.python.keras.layers.core.Activation object at 0x7fb362512048>\n",
      "Layer 86 (Non-trainable): <tensorflow.python.keras.layers.convolutional.Conv2D object at 0x7fb362512630>\n",
      "Layer 87 (Non-trainable): <tensorflow.python.keras.layers.normalization_v2.BatchNormalization object at 0x7fb362512d30>\n",
      "Layer 88 (Non-trainable): <tensorflow.python.keras.layers.merge.Add object at 0x7fb362693550>\n",
      "Layer 89 (Non-trainable): <tensorflow.python.keras.layers.core.Activation object at 0x7fb362693828>\n",
      "Layer 90 (Non-trainable): <tensorflow.python.keras.layers.convolutional.Conv2D object at 0x7fb362693da0>\n",
      "Layer 91 (Non-trainable): <tensorflow.python.keras.layers.normalization_v2.BatchNormalization object at 0x7fb3626a48d0>\n",
      "Layer 92 (Non-trainable): <tensorflow.python.keras.layers.core.Activation object at 0x7fb3626a42e8>\n",
      "Layer 93 (Non-trainable): <tensorflow.python.keras.layers.convolutional.Conv2D object at 0x7fb36269a240>\n",
      "Layer 94 (Non-trainable): <tensorflow.python.keras.layers.normalization_v2.BatchNormalization object at 0x7fb36269a940>\n",
      "Layer 95 (Non-trainable): <tensorflow.python.keras.layers.merge.Add object at 0x7fb362680160>\n",
      "Layer 96 (Non-trainable): <tensorflow.python.keras.layers.core.Activation object at 0x7fb362680438>\n",
      "Layer 97 (Non-trainable): <tensorflow.python.keras.layers.convolutional.Conv2D object at 0x7fb3626809b0>\n",
      "Layer 98 (Non-trainable): <tensorflow.python.keras.layers.normalization_v2.BatchNormalization object at 0x7fb36269c0f0>\n",
      "Layer 99 (Non-trainable): <tensorflow.python.keras.layers.core.Activation object at 0x7fb36269c828>\n",
      "Layer 100 (Non-trainable): <tensorflow.python.keras.layers.convolutional.Conv2D object at 0x7fb36269ce10>\n",
      "Layer 101 (Non-trainable): <tensorflow.python.keras.layers.normalization_v2.BatchNormalization object at 0x7fb36269e550>\n",
      "Layer 102 (Non-trainable): <tensorflow.python.keras.layers.merge.Add object at 0x7fb36269ed30>\n",
      "Layer 103 (Non-trainable): <tensorflow.python.keras.layers.core.Activation object at 0x7fb34034df28>\n",
      "Layer 104 (Non-trainable): <tensorflow.python.keras.layers.convolutional.ZeroPadding2D object at 0x7fb34034d9b0>\n",
      "Layer 105 (Non-trainable): <tensorflow.python.keras.layers.convolutional.Conv2D object at 0x7fb34034d5c0>\n",
      "Layer 106 (Non-trainable): <tensorflow.python.keras.layers.normalization_v2.BatchNormalization object at 0x7fb340356080>\n",
      "Layer 107 (Non-trainable): <tensorflow.python.keras.layers.core.Activation object at 0x7fb3403567b8>\n",
      "Layer 108 (Non-trainable): <tensorflow.python.keras.layers.convolutional.Conv2D object at 0x7fb340356da0>\n",
      "Layer 109 (Non-trainable): <tensorflow.python.keras.layers.convolutional.Conv2D object at 0x7fb34033c550>\n",
      "Layer 110 (Non-trainable): <tensorflow.python.keras.layers.normalization_v2.BatchNormalization object at 0x7fb34033cc50>\n",
      "Layer 111 (Non-trainable): <tensorflow.python.keras.layers.normalization_v2.BatchNormalization object at 0x7fb34036c630>\n",
      "Layer 112 (Non-trainable): <tensorflow.python.keras.layers.merge.Add object at 0x7fb34036ce80>\n",
      "Layer 113 (Non-trainable): <tensorflow.python.keras.layers.core.Activation object at 0x7fb340357198>\n",
      "Layer 114 (Non-trainable): <tensorflow.python.keras.layers.convolutional.Conv2D object at 0x7fb340357710>\n",
      "Layer 115 (Non-trainable): <tensorflow.python.keras.layers.normalization_v2.BatchNormalization object at 0x7fb340357e10>\n",
      "Layer 116 (Non-trainable): <tensorflow.python.keras.layers.core.Activation object at 0x7fb340297588>\n",
      "Layer 117 (Non-trainable): <tensorflow.python.keras.layers.convolutional.Conv2D object at 0x7fb340297b70>\n",
      "Layer 118 (Non-trainable): <tensorflow.python.keras.layers.normalization_v2.BatchNormalization object at 0x7fb3402b62b0>\n",
      "Layer 119 (Non-trainable): <tensorflow.python.keras.layers.merge.Add object at 0x7fb3402b6a90>\n",
      "Layer 120 (Non-trainable): <tensorflow.python.keras.layers.core.Activation object at 0x7fb3402b6d68>\n",
      "Layer 121 (Non-trainable): <tensorflow.python.keras.layers.convolutional.Conv2D object at 0x7fb34028a320>\n",
      "Layer 122 (Non-trainable): <tensorflow.python.keras.layers.normalization_v2.BatchNormalization object at 0x7fb34028aa20>\n",
      "Layer 123 (Non-trainable): <tensorflow.python.keras.layers.core.Activation object at 0x7fb34028f198>\n",
      "Layer 124 (Non-trainable): <tensorflow.python.keras.layers.convolutional.Conv2D object at 0x7fb34028f780>\n",
      "Layer 125 (Non-trainable): <tensorflow.python.keras.layers.normalization_v2.BatchNormalization object at 0x7fb34028fe80>\n",
      "Layer 126 (Non-trainable): <tensorflow.python.keras.layers.merge.Add object at 0x7fb3402a66a0>\n",
      "Layer 127 (Non-trainable): <tensorflow.python.keras.layers.core.Activation object at 0x7fb3402a6978>\n",
      "Layer 128 (Non-trainable): <tensorflow.python.keras.layers.pooling.GlobalAveragePooling2D object at 0x7fb3402a6d30>\n",
      "Layer 129 (Trainable): <tensorflow.python.keras.layers.core.Dense object at 0x7fb2fc732ef0>\n"
     ]
    }
   ],
   "source": [
    "for i, layer in enumerate(model_1.layers):\n",
    "    if layer.name == 'fc':\n",
    "        layer.trainable = True \n",
    "        print(f\"Layer {i} (Trainable): {layer}\")\n",
    "    else:\n",
    "        layer.trainable = False \n",
    "        print(f\"Layer {i} (Non-trainable): {layer}\")"
   ]
  },
  {
   "cell_type": "code",
   "execution_count": 7,
   "metadata": {},
   "outputs": [],
   "source": [
    "# Now we can prepaire our model for training\n",
    "\n",
    "model_1.compile(optimizer='Adam', loss='categorical_crossentropy', metrics=['accuracy'])"
   ]
  },
  {
   "cell_type": "code",
   "execution_count": 8,
   "metadata": {
    "scrolled": false
   },
   "outputs": [
    {
     "name": "stdout",
     "output_type": "stream",
     "text": [
      "Model: \"functional_3\"\n",
      "__________________________________________________________________________________________________\n",
      "Layer (type)                    Output Shape         Param #     Connected to                     \n",
      "==================================================================================================\n",
      "input_1 (InputLayer)            [(None, 244, 244, 3) 0                                            \n",
      "__________________________________________________________________________________________________\n",
      "pad (ZeroPadding2D)             (None, 250, 250, 3)  0           input_1[0][0]                    \n",
      "__________________________________________________________________________________________________\n",
      "conv1 (Conv2D)                  (None, 122, 122, 64) 9408        pad[0][0]                        \n",
      "__________________________________________________________________________________________________\n",
      "bn1 (BatchNormalization)        (None, 122, 122, 64) 256         conv1[0][0]                      \n",
      "__________________________________________________________________________________________________\n",
      "relu (Activation)               (None, 122, 122, 64) 0           bn1[0][0]                        \n",
      "__________________________________________________________________________________________________\n",
      "pad1 (ZeroPadding2D)            (None, 124, 124, 64) 0           relu[0][0]                       \n",
      "__________________________________________________________________________________________________\n",
      "maxpool (MaxPooling2D)          (None, 61, 61, 64)   0           pad1[0][0]                       \n",
      "__________________________________________________________________________________________________\n",
      "layer1.0.conv1 (Conv2D)         (None, 61, 61, 64)   36864       maxpool[0][0]                    \n",
      "__________________________________________________________________________________________________\n",
      "layer1.0.bn1 (BatchNormalizatio (None, 61, 61, 64)   256         layer1.0.conv1[0][0]             \n",
      "__________________________________________________________________________________________________\n",
      "activation (Activation)         (None, 61, 61, 64)   0           layer1.0.bn1[0][0]               \n",
      "__________________________________________________________________________________________________\n",
      "layer1.0.conv2 (Conv2D)         (None, 61, 61, 64)   36864       activation[0][0]                 \n",
      "__________________________________________________________________________________________________\n",
      "layer1.0.bn2 (BatchNormalizatio (None, 61, 61, 64)   256         layer1.0.conv2[0][0]             \n",
      "__________________________________________________________________________________________________\n",
      "add (Add)                       (None, 61, 61, 64)   0           maxpool[0][0]                    \n",
      "                                                                 layer1.0.bn2[0][0]               \n",
      "__________________________________________________________________________________________________\n",
      "activation_1 (Activation)       (None, 61, 61, 64)   0           add[0][0]                        \n",
      "__________________________________________________________________________________________________\n",
      "layer1.1.conv1 (Conv2D)         (None, 61, 61, 64)   36864       activation_1[0][0]               \n",
      "__________________________________________________________________________________________________\n",
      "layer1.1.bn1 (BatchNormalizatio (None, 61, 61, 64)   256         layer1.1.conv1[0][0]             \n",
      "__________________________________________________________________________________________________\n",
      "activation_2 (Activation)       (None, 61, 61, 64)   0           layer1.1.bn1[0][0]               \n",
      "__________________________________________________________________________________________________\n",
      "layer1.1.conv2 (Conv2D)         (None, 61, 61, 64)   36864       activation_2[0][0]               \n",
      "__________________________________________________________________________________________________\n",
      "layer1.1.bn2 (BatchNormalizatio (None, 61, 61, 64)   256         layer1.1.conv2[0][0]             \n",
      "__________________________________________________________________________________________________\n",
      "add_1 (Add)                     (None, 61, 61, 64)   0           activation_1[0][0]               \n",
      "                                                                 layer1.1.bn2[0][0]               \n",
      "__________________________________________________________________________________________________\n",
      "activation_3 (Activation)       (None, 61, 61, 64)   0           add_1[0][0]                      \n",
      "__________________________________________________________________________________________________\n",
      "layer1.2.conv1 (Conv2D)         (None, 61, 61, 64)   36864       activation_3[0][0]               \n",
      "__________________________________________________________________________________________________\n",
      "layer1.2.bn1 (BatchNormalizatio (None, 61, 61, 64)   256         layer1.2.conv1[0][0]             \n",
      "__________________________________________________________________________________________________\n",
      "activation_4 (Activation)       (None, 61, 61, 64)   0           layer1.2.bn1[0][0]               \n",
      "__________________________________________________________________________________________________\n",
      "layer1.2.conv2 (Conv2D)         (None, 61, 61, 64)   36864       activation_4[0][0]               \n",
      "__________________________________________________________________________________________________\n",
      "layer1.2.bn2 (BatchNormalizatio (None, 61, 61, 64)   256         layer1.2.conv2[0][0]             \n",
      "__________________________________________________________________________________________________\n",
      "add_2 (Add)                     (None, 61, 61, 64)   0           activation_3[0][0]               \n",
      "                                                                 layer1.2.bn2[0][0]               \n",
      "__________________________________________________________________________________________________\n",
      "activation_5 (Activation)       (None, 61, 61, 64)   0           add_2[0][0]                      \n",
      "__________________________________________________________________________________________________\n",
      "layer2.0.pad (ZeroPadding2D)    (None, 63, 63, 64)   0           activation_5[0][0]               \n",
      "__________________________________________________________________________________________________\n",
      "layer2.0.conv1 (Conv2D)         (None, 31, 31, 128)  73728       layer2.0.pad[0][0]               \n",
      "__________________________________________________________________________________________________\n",
      "layer2.0.bn1 (BatchNormalizatio (None, 31, 31, 128)  512         layer2.0.conv1[0][0]             \n",
      "__________________________________________________________________________________________________\n",
      "activation_6 (Activation)       (None, 31, 31, 128)  0           layer2.0.bn1[0][0]               \n",
      "__________________________________________________________________________________________________\n",
      "layer2.0.downsample.0 (Conv2D)  (None, 31, 31, 128)  8192        activation_5[0][0]               \n",
      "__________________________________________________________________________________________________\n",
      "layer2.0.conv2 (Conv2D)         (None, 31, 31, 128)  147456      activation_6[0][0]               \n",
      "__________________________________________________________________________________________________\n",
      "layer2.0.downsample.1 (BatchNor (None, 31, 31, 128)  512         layer2.0.downsample.0[0][0]      \n",
      "__________________________________________________________________________________________________\n",
      "layer2.0.bn2 (BatchNormalizatio (None, 31, 31, 128)  512         layer2.0.conv2[0][0]             \n",
      "__________________________________________________________________________________________________\n",
      "add_3 (Add)                     (None, 31, 31, 128)  0           layer2.0.downsample.1[0][0]      \n",
      "                                                                 layer2.0.bn2[0][0]               \n",
      "__________________________________________________________________________________________________\n",
      "activation_7 (Activation)       (None, 31, 31, 128)  0           add_3[0][0]                      \n",
      "__________________________________________________________________________________________________\n",
      "layer2.1.conv1 (Conv2D)         (None, 31, 31, 128)  147456      activation_7[0][0]               \n",
      "__________________________________________________________________________________________________\n",
      "layer2.1.bn1 (BatchNormalizatio (None, 31, 31, 128)  512         layer2.1.conv1[0][0]             \n",
      "__________________________________________________________________________________________________\n",
      "activation_8 (Activation)       (None, 31, 31, 128)  0           layer2.1.bn1[0][0]               \n",
      "__________________________________________________________________________________________________\n",
      "layer2.1.conv2 (Conv2D)         (None, 31, 31, 128)  147456      activation_8[0][0]               \n",
      "__________________________________________________________________________________________________\n",
      "layer2.1.bn2 (BatchNormalizatio (None, 31, 31, 128)  512         layer2.1.conv2[0][0]             \n",
      "__________________________________________________________________________________________________\n",
      "add_4 (Add)                     (None, 31, 31, 128)  0           activation_7[0][0]               \n",
      "                                                                 layer2.1.bn2[0][0]               \n",
      "__________________________________________________________________________________________________\n",
      "activation_9 (Activation)       (None, 31, 31, 128)  0           add_4[0][0]                      \n",
      "__________________________________________________________________________________________________\n",
      "layer2.2.conv1 (Conv2D)         (None, 31, 31, 128)  147456      activation_9[0][0]               \n",
      "__________________________________________________________________________________________________\n",
      "layer2.2.bn1 (BatchNormalizatio (None, 31, 31, 128)  512         layer2.2.conv1[0][0]             \n",
      "__________________________________________________________________________________________________\n",
      "activation_10 (Activation)      (None, 31, 31, 128)  0           layer2.2.bn1[0][0]               \n",
      "__________________________________________________________________________________________________\n",
      "layer2.2.conv2 (Conv2D)         (None, 31, 31, 128)  147456      activation_10[0][0]              \n",
      "__________________________________________________________________________________________________\n",
      "layer2.2.bn2 (BatchNormalizatio (None, 31, 31, 128)  512         layer2.2.conv2[0][0]             \n",
      "__________________________________________________________________________________________________\n",
      "add_5 (Add)                     (None, 31, 31, 128)  0           activation_9[0][0]               \n",
      "                                                                 layer2.2.bn2[0][0]               \n",
      "__________________________________________________________________________________________________\n",
      "activation_11 (Activation)      (None, 31, 31, 128)  0           add_5[0][0]                      \n",
      "__________________________________________________________________________________________________\n",
      "layer2.3.conv1 (Conv2D)         (None, 31, 31, 128)  147456      activation_11[0][0]              \n",
      "__________________________________________________________________________________________________\n",
      "layer2.3.bn1 (BatchNormalizatio (None, 31, 31, 128)  512         layer2.3.conv1[0][0]             \n",
      "__________________________________________________________________________________________________\n",
      "activation_12 (Activation)      (None, 31, 31, 128)  0           layer2.3.bn1[0][0]               \n",
      "__________________________________________________________________________________________________\n",
      "layer2.3.conv2 (Conv2D)         (None, 31, 31, 128)  147456      activation_12[0][0]              \n",
      "__________________________________________________________________________________________________\n",
      "layer2.3.bn2 (BatchNormalizatio (None, 31, 31, 128)  512         layer2.3.conv2[0][0]             \n",
      "__________________________________________________________________________________________________\n",
      "add_6 (Add)                     (None, 31, 31, 128)  0           activation_11[0][0]              \n",
      "                                                                 layer2.3.bn2[0][0]               \n",
      "__________________________________________________________________________________________________\n",
      "activation_13 (Activation)      (None, 31, 31, 128)  0           add_6[0][0]                      \n",
      "__________________________________________________________________________________________________\n",
      "layer3.0.pad (ZeroPadding2D)    (None, 33, 33, 128)  0           activation_13[0][0]              \n",
      "__________________________________________________________________________________________________\n",
      "layer3.0.conv1 (Conv2D)         (None, 16, 16, 256)  294912      layer3.0.pad[0][0]               \n",
      "__________________________________________________________________________________________________\n",
      "layer3.0.bn1 (BatchNormalizatio (None, 16, 16, 256)  1024        layer3.0.conv1[0][0]             \n",
      "__________________________________________________________________________________________________\n",
      "activation_14 (Activation)      (None, 16, 16, 256)  0           layer3.0.bn1[0][0]               \n",
      "__________________________________________________________________________________________________\n",
      "layer3.0.downsample.0 (Conv2D)  (None, 16, 16, 256)  32768       activation_13[0][0]              \n",
      "__________________________________________________________________________________________________\n",
      "layer3.0.conv2 (Conv2D)         (None, 16, 16, 256)  589824      activation_14[0][0]              \n",
      "__________________________________________________________________________________________________\n",
      "layer3.0.downsample.1 (BatchNor (None, 16, 16, 256)  1024        layer3.0.downsample.0[0][0]      \n",
      "__________________________________________________________________________________________________\n",
      "layer3.0.bn2 (BatchNormalizatio (None, 16, 16, 256)  1024        layer3.0.conv2[0][0]             \n",
      "__________________________________________________________________________________________________\n",
      "add_7 (Add)                     (None, 16, 16, 256)  0           layer3.0.downsample.1[0][0]      \n",
      "                                                                 layer3.0.bn2[0][0]               \n",
      "__________________________________________________________________________________________________\n",
      "activation_15 (Activation)      (None, 16, 16, 256)  0           add_7[0][0]                      \n",
      "__________________________________________________________________________________________________\n",
      "layer3.1.conv1 (Conv2D)         (None, 16, 16, 256)  589824      activation_15[0][0]              \n",
      "__________________________________________________________________________________________________\n",
      "layer3.1.bn1 (BatchNormalizatio (None, 16, 16, 256)  1024        layer3.1.conv1[0][0]             \n",
      "__________________________________________________________________________________________________\n",
      "activation_16 (Activation)      (None, 16, 16, 256)  0           layer3.1.bn1[0][0]               \n",
      "__________________________________________________________________________________________________\n",
      "layer3.1.conv2 (Conv2D)         (None, 16, 16, 256)  589824      activation_16[0][0]              \n",
      "__________________________________________________________________________________________________\n",
      "layer3.1.bn2 (BatchNormalizatio (None, 16, 16, 256)  1024        layer3.1.conv2[0][0]             \n",
      "__________________________________________________________________________________________________\n",
      "add_8 (Add)                     (None, 16, 16, 256)  0           activation_15[0][0]              \n",
      "                                                                 layer3.1.bn2[0][0]               \n",
      "__________________________________________________________________________________________________\n",
      "activation_17 (Activation)      (None, 16, 16, 256)  0           add_8[0][0]                      \n",
      "__________________________________________________________________________________________________\n",
      "layer3.2.conv1 (Conv2D)         (None, 16, 16, 256)  589824      activation_17[0][0]              \n",
      "__________________________________________________________________________________________________\n",
      "layer3.2.bn1 (BatchNormalizatio (None, 16, 16, 256)  1024        layer3.2.conv1[0][0]             \n",
      "__________________________________________________________________________________________________\n",
      "activation_18 (Activation)      (None, 16, 16, 256)  0           layer3.2.bn1[0][0]               \n",
      "__________________________________________________________________________________________________\n",
      "layer3.2.conv2 (Conv2D)         (None, 16, 16, 256)  589824      activation_18[0][0]              \n",
      "__________________________________________________________________________________________________\n",
      "layer3.2.bn2 (BatchNormalizatio (None, 16, 16, 256)  1024        layer3.2.conv2[0][0]             \n",
      "__________________________________________________________________________________________________\n",
      "add_9 (Add)                     (None, 16, 16, 256)  0           activation_17[0][0]              \n",
      "                                                                 layer3.2.bn2[0][0]               \n",
      "__________________________________________________________________________________________________\n",
      "activation_19 (Activation)      (None, 16, 16, 256)  0           add_9[0][0]                      \n",
      "__________________________________________________________________________________________________\n",
      "layer3.3.conv1 (Conv2D)         (None, 16, 16, 256)  589824      activation_19[0][0]              \n",
      "__________________________________________________________________________________________________\n",
      "layer3.3.bn1 (BatchNormalizatio (None, 16, 16, 256)  1024        layer3.3.conv1[0][0]             \n",
      "__________________________________________________________________________________________________\n",
      "activation_20 (Activation)      (None, 16, 16, 256)  0           layer3.3.bn1[0][0]               \n",
      "__________________________________________________________________________________________________\n",
      "layer3.3.conv2 (Conv2D)         (None, 16, 16, 256)  589824      activation_20[0][0]              \n",
      "__________________________________________________________________________________________________\n",
      "layer3.3.bn2 (BatchNormalizatio (None, 16, 16, 256)  1024        layer3.3.conv2[0][0]             \n",
      "__________________________________________________________________________________________________\n",
      "add_10 (Add)                    (None, 16, 16, 256)  0           activation_19[0][0]              \n",
      "                                                                 layer3.3.bn2[0][0]               \n",
      "__________________________________________________________________________________________________\n",
      "activation_21 (Activation)      (None, 16, 16, 256)  0           add_10[0][0]                     \n",
      "__________________________________________________________________________________________________\n",
      "layer3.4.conv1 (Conv2D)         (None, 16, 16, 256)  589824      activation_21[0][0]              \n",
      "__________________________________________________________________________________________________\n",
      "layer3.4.bn1 (BatchNormalizatio (None, 16, 16, 256)  1024        layer3.4.conv1[0][0]             \n",
      "__________________________________________________________________________________________________\n",
      "activation_22 (Activation)      (None, 16, 16, 256)  0           layer3.4.bn1[0][0]               \n",
      "__________________________________________________________________________________________________\n",
      "layer3.4.conv2 (Conv2D)         (None, 16, 16, 256)  589824      activation_22[0][0]              \n",
      "__________________________________________________________________________________________________\n",
      "layer3.4.bn2 (BatchNormalizatio (None, 16, 16, 256)  1024        layer3.4.conv2[0][0]             \n",
      "__________________________________________________________________________________________________\n",
      "add_11 (Add)                    (None, 16, 16, 256)  0           activation_21[0][0]              \n",
      "                                                                 layer3.4.bn2[0][0]               \n",
      "__________________________________________________________________________________________________\n",
      "activation_23 (Activation)      (None, 16, 16, 256)  0           add_11[0][0]                     \n",
      "__________________________________________________________________________________________________\n",
      "layer3.5.conv1 (Conv2D)         (None, 16, 16, 256)  589824      activation_23[0][0]              \n",
      "__________________________________________________________________________________________________\n",
      "layer3.5.bn1 (BatchNormalizatio (None, 16, 16, 256)  1024        layer3.5.conv1[0][0]             \n",
      "__________________________________________________________________________________________________\n",
      "activation_24 (Activation)      (None, 16, 16, 256)  0           layer3.5.bn1[0][0]               \n",
      "__________________________________________________________________________________________________\n",
      "layer3.5.conv2 (Conv2D)         (None, 16, 16, 256)  589824      activation_24[0][0]              \n",
      "__________________________________________________________________________________________________\n",
      "layer3.5.bn2 (BatchNormalizatio (None, 16, 16, 256)  1024        layer3.5.conv2[0][0]             \n",
      "__________________________________________________________________________________________________\n",
      "add_12 (Add)                    (None, 16, 16, 256)  0           activation_23[0][0]              \n",
      "                                                                 layer3.5.bn2[0][0]               \n",
      "__________________________________________________________________________________________________\n",
      "activation_25 (Activation)      (None, 16, 16, 256)  0           add_12[0][0]                     \n",
      "__________________________________________________________________________________________________\n",
      "layer4.0.pad (ZeroPadding2D)    (None, 18, 18, 256)  0           activation_25[0][0]              \n",
      "__________________________________________________________________________________________________\n",
      "layer4.0.conv1 (Conv2D)         (None, 8, 8, 512)    1179648     layer4.0.pad[0][0]               \n",
      "__________________________________________________________________________________________________\n",
      "layer4.0.bn1 (BatchNormalizatio (None, 8, 8, 512)    2048        layer4.0.conv1[0][0]             \n",
      "__________________________________________________________________________________________________\n",
      "activation_26 (Activation)      (None, 8, 8, 512)    0           layer4.0.bn1[0][0]               \n",
      "__________________________________________________________________________________________________\n",
      "layer4.0.downsample.0 (Conv2D)  (None, 8, 8, 512)    131072      activation_25[0][0]              \n",
      "__________________________________________________________________________________________________\n",
      "layer4.0.conv2 (Conv2D)         (None, 8, 8, 512)    2359296     activation_26[0][0]              \n",
      "__________________________________________________________________________________________________\n",
      "layer4.0.downsample.1 (BatchNor (None, 8, 8, 512)    2048        layer4.0.downsample.0[0][0]      \n",
      "__________________________________________________________________________________________________\n",
      "layer4.0.bn2 (BatchNormalizatio (None, 8, 8, 512)    2048        layer4.0.conv2[0][0]             \n",
      "__________________________________________________________________________________________________\n",
      "add_13 (Add)                    (None, 8, 8, 512)    0           layer4.0.downsample.1[0][0]      \n",
      "                                                                 layer4.0.bn2[0][0]               \n",
      "__________________________________________________________________________________________________\n",
      "activation_27 (Activation)      (None, 8, 8, 512)    0           add_13[0][0]                     \n",
      "__________________________________________________________________________________________________\n",
      "layer4.1.conv1 (Conv2D)         (None, 8, 8, 512)    2359296     activation_27[0][0]              \n",
      "__________________________________________________________________________________________________\n",
      "layer4.1.bn1 (BatchNormalizatio (None, 8, 8, 512)    2048        layer4.1.conv1[0][0]             \n",
      "__________________________________________________________________________________________________\n",
      "activation_28 (Activation)      (None, 8, 8, 512)    0           layer4.1.bn1[0][0]               \n",
      "__________________________________________________________________________________________________\n",
      "layer4.1.conv2 (Conv2D)         (None, 8, 8, 512)    2359296     activation_28[0][0]              \n",
      "__________________________________________________________________________________________________\n",
      "layer4.1.bn2 (BatchNormalizatio (None, 8, 8, 512)    2048        layer4.1.conv2[0][0]             \n",
      "__________________________________________________________________________________________________\n",
      "add_14 (Add)                    (None, 8, 8, 512)    0           activation_27[0][0]              \n",
      "                                                                 layer4.1.bn2[0][0]               \n",
      "__________________________________________________________________________________________________\n",
      "activation_29 (Activation)      (None, 8, 8, 512)    0           add_14[0][0]                     \n",
      "__________________________________________________________________________________________________\n",
      "layer4.2.conv1 (Conv2D)         (None, 8, 8, 512)    2359296     activation_29[0][0]              \n",
      "__________________________________________________________________________________________________\n",
      "layer4.2.bn1 (BatchNormalizatio (None, 8, 8, 512)    2048        layer4.2.conv1[0][0]             \n",
      "__________________________________________________________________________________________________\n",
      "activation_30 (Activation)      (None, 8, 8, 512)    0           layer4.2.bn1[0][0]               \n",
      "__________________________________________________________________________________________________\n",
      "layer4.2.conv2 (Conv2D)         (None, 8, 8, 512)    2359296     activation_30[0][0]              \n",
      "__________________________________________________________________________________________________\n",
      "layer4.2.bn2 (BatchNormalizatio (None, 8, 8, 512)    2048        layer4.2.conv2[0][0]             \n",
      "__________________________________________________________________________________________________\n",
      "add_15 (Add)                    (None, 8, 8, 512)    0           activation_29[0][0]              \n",
      "                                                                 layer4.2.bn2[0][0]               \n",
      "__________________________________________________________________________________________________\n",
      "activation_31 (Activation)      (None, 8, 8, 512)    0           add_15[0][0]                     \n",
      "__________________________________________________________________________________________________\n",
      "avgpool (GlobalAveragePooling2D (None, 512)          0           activation_31[0][0]              \n",
      "__________________________________________________________________________________________________\n",
      "fc (Dense)                      (None, 7)            3591        avgpool[0][0]                    \n",
      "==================================================================================================\n",
      "Total params: 21,305,287\n",
      "Trainable params: 3,591\n",
      "Non-trainable params: 21,301,696\n",
      "__________________________________________________________________________________________________\n"
     ]
    }
   ],
   "source": [
    "model_1.summary()"
   ]
  },
  {
   "cell_type": "markdown",
   "metadata": {},
   "source": [
    "# Model 2 - Add Dropout Layer"
   ]
  },
  {
   "cell_type": "markdown",
   "metadata": {},
   "source": [
    "This second augmented model has a traditional Dropout layer before the classifier, with a Dropout rate=0.5. This augmented model is part of the experiment to see if there is significant change of performance not just between the control and the Dropout as a Bayesian Approximation, but also to show that changes in performance, if any, are in fact attributed to Bayesian Approximation or if it was just the addition of a Dropout layer that changed performance."
   ]
  },
  {
   "cell_type": "code",
   "execution_count": 9,
   "metadata": {},
   "outputs": [
    {
     "name": "stdout",
     "output_type": "stream",
     "text": [
      "WARNING:tensorflow:No training configuration found in save file, so the model was *not* compiled. Compile it manually.\n"
     ]
    }
   ],
   "source": [
    "base_2 = M.load_model('./models/base_model_tf/')\n",
    "dropout_1 = tf.keras.layers.Dropout(0.5,name='AddedDropout')(base_2.output)\n",
    "fc_2 = tf.keras.layers.Dense(units=7, use_bias=True, activation='softmax', name='fc')(dropout_1)\n",
    "model_2 = tf.keras.models.Model(inputs=base_2.input, outputs=fc_2)"
   ]
  },
  {
   "cell_type": "code",
   "execution_count": 10,
   "metadata": {
    "scrolled": false
   },
   "outputs": [
    {
     "name": "stdout",
     "output_type": "stream",
     "text": [
      "Layer 0 (Non-trainable): <tensorflow.python.keras.engine.input_layer.InputLayer object at 0x7fb2a273f860>\n",
      "Layer 1 (Non-trainable): <tensorflow.python.keras.layers.convolutional.ZeroPadding2D object at 0x7fb2a273fc18>\n",
      "Layer 2 (Non-trainable): <tensorflow.python.keras.layers.convolutional.Conv2D object at 0x7fb2a274c3c8>\n",
      "Layer 3 (Non-trainable): <tensorflow.python.keras.layers.normalization_v2.BatchNormalization object at 0x7fb2a274cac8>\n",
      "Layer 4 (Non-trainable): <tensorflow.python.keras.layers.core.Activation object at 0x7fb2a27542b0>\n",
      "Layer 5 (Non-trainable): <tensorflow.python.keras.layers.convolutional.ZeroPadding2D object at 0x7fb2a27546d8>\n",
      "Layer 6 (Non-trainable): <tensorflow.python.keras.layers.pooling.MaxPooling2D object at 0x7fb2a2754b70>\n",
      "Layer 7 (Non-trainable): <tensorflow.python.keras.layers.convolutional.Conv2D object at 0x7fb2a2759198>\n",
      "Layer 8 (Non-trainable): <tensorflow.python.keras.layers.normalization_v2.BatchNormalization object at 0x7fb2a2759898>\n",
      "Layer 9 (Non-trainable): <tensorflow.python.keras.layers.core.Activation object at 0x7fb2a2759f98>\n",
      "Layer 10 (Non-trainable): <tensorflow.python.keras.layers.convolutional.Conv2D object at 0x7fb2a27655c0>\n",
      "Layer 11 (Non-trainable): <tensorflow.python.keras.layers.normalization_v2.BatchNormalization object at 0x7fb2a2765cc0>\n",
      "Layer 12 (Non-trainable): <tensorflow.python.keras.layers.merge.Add object at 0x7fb2a276d4e0>\n",
      "Layer 13 (Non-trainable): <tensorflow.python.keras.layers.core.Activation object at 0x7fb2a276d7b8>\n",
      "Layer 14 (Non-trainable): <tensorflow.python.keras.layers.convolutional.Conv2D object at 0x7fb2a276dd30>\n",
      "Layer 15 (Non-trainable): <tensorflow.python.keras.layers.normalization_v2.BatchNormalization object at 0x7fb2a2775470>\n",
      "Layer 16 (Non-trainable): <tensorflow.python.keras.layers.core.Activation object at 0x7fb2a2775ba8>\n",
      "Layer 17 (Non-trainable): <tensorflow.python.keras.layers.convolutional.Conv2D object at 0x7fb2a26fe1d0>\n",
      "Layer 18 (Non-trainable): <tensorflow.python.keras.layers.normalization_v2.BatchNormalization object at 0x7fb2a26fe8d0>\n",
      "Layer 19 (Non-trainable): <tensorflow.python.keras.layers.merge.Add object at 0x7fb2a27050f0>\n",
      "Layer 20 (Non-trainable): <tensorflow.python.keras.layers.core.Activation object at 0x7fb2a27053c8>\n",
      "Layer 21 (Non-trainable): <tensorflow.python.keras.layers.convolutional.Conv2D object at 0x7fb2a2705940>\n",
      "Layer 22 (Non-trainable): <tensorflow.python.keras.layers.normalization_v2.BatchNormalization object at 0x7fb2a2710080>\n",
      "Layer 23 (Non-trainable): <tensorflow.python.keras.layers.core.Activation object at 0x7fb2a27107b8>\n",
      "Layer 24 (Non-trainable): <tensorflow.python.keras.layers.convolutional.Conv2D object at 0x7fb2a2710da0>\n",
      "Layer 25 (Non-trainable): <tensorflow.python.keras.layers.normalization_v2.BatchNormalization object at 0x7fb2a27194e0>\n",
      "Layer 26 (Non-trainable): <tensorflow.python.keras.layers.merge.Add object at 0x7fb2a2719cc0>\n",
      "Layer 27 (Non-trainable): <tensorflow.python.keras.layers.core.Activation object at 0x7fb2a2719f98>\n",
      "Layer 28 (Non-trainable): <tensorflow.python.keras.layers.convolutional.ZeroPadding2D object at 0x7fb2a2724320>\n",
      "Layer 29 (Non-trainable): <tensorflow.python.keras.layers.convolutional.Conv2D object at 0x7fb2a27248d0>\n",
      "Layer 30 (Non-trainable): <tensorflow.python.keras.layers.normalization_v2.BatchNormalization object at 0x7fb2a2724fd0>\n",
      "Layer 31 (Non-trainable): <tensorflow.python.keras.layers.core.Activation object at 0x7fb2a272b748>\n",
      "Layer 32 (Non-trainable): <tensorflow.python.keras.layers.convolutional.Conv2D object at 0x7fb2a272bd30>\n",
      "Layer 33 (Non-trainable): <tensorflow.python.keras.layers.convolutional.Conv2D object at 0x7fb2a27374e0>\n",
      "Layer 34 (Non-trainable): <tensorflow.python.keras.layers.normalization_v2.BatchNormalization object at 0x7fb2a2737be0>\n",
      "Layer 35 (Non-trainable): <tensorflow.python.keras.layers.normalization_v2.BatchNormalization object at 0x7fb2a26c25c0>\n",
      "Layer 36 (Non-trainable): <tensorflow.python.keras.layers.merge.Add object at 0x7fb2a26c2e10>\n",
      "Layer 37 (Non-trainable): <tensorflow.python.keras.layers.core.Activation object at 0x7fb2a26cb128>\n",
      "Layer 38 (Non-trainable): <tensorflow.python.keras.layers.convolutional.Conv2D object at 0x7fb2a26cb6a0>\n",
      "Layer 39 (Non-trainable): <tensorflow.python.keras.layers.normalization_v2.BatchNormalization object at 0x7fb2a26cbda0>\n",
      "Layer 40 (Non-trainable): <tensorflow.python.keras.layers.core.Activation object at 0x7fb2a26d4518>\n",
      "Layer 41 (Non-trainable): <tensorflow.python.keras.layers.convolutional.Conv2D object at 0x7fb2a26d4b00>\n",
      "Layer 42 (Non-trainable): <tensorflow.python.keras.layers.normalization_v2.BatchNormalization object at 0x7fb2a26db240>\n",
      "Layer 43 (Non-trainable): <tensorflow.python.keras.layers.merge.Add object at 0x7fb2a26dba20>\n",
      "Layer 44 (Non-trainable): <tensorflow.python.keras.layers.core.Activation object at 0x7fb2a26dbcf8>\n",
      "Layer 45 (Non-trainable): <tensorflow.python.keras.layers.convolutional.Conv2D object at 0x7fb2a26e52b0>\n",
      "Layer 46 (Non-trainable): <tensorflow.python.keras.layers.normalization_v2.BatchNormalization object at 0x7fb2a26e59b0>\n",
      "Layer 47 (Non-trainable): <tensorflow.python.keras.layers.core.Activation object at 0x7fb2a26f1128>\n",
      "Layer 48 (Non-trainable): <tensorflow.python.keras.layers.convolutional.Conv2D object at 0x7fb2a26f1710>\n",
      "Layer 49 (Non-trainable): <tensorflow.python.keras.layers.normalization_v2.BatchNormalization object at 0x7fb2a26f1e10>\n",
      "Layer 50 (Non-trainable): <tensorflow.python.keras.layers.merge.Add object at 0x7fb2a26fb630>\n",
      "Layer 51 (Non-trainable): <tensorflow.python.keras.layers.core.Activation object at 0x7fb2a26fb908>\n",
      "Layer 52 (Non-trainable): <tensorflow.python.keras.layers.convolutional.Conv2D object at 0x7fb2a26fbe80>\n",
      "Layer 53 (Non-trainable): <tensorflow.python.keras.layers.normalization_v2.BatchNormalization object at 0x7fb2a26825c0>\n",
      "Layer 54 (Non-trainable): <tensorflow.python.keras.layers.core.Activation object at 0x7fb2a2682cf8>\n",
      "Layer 55 (Non-trainable): <tensorflow.python.keras.layers.convolutional.Conv2D object at 0x7fb2a268c320>\n",
      "Layer 56 (Non-trainable): <tensorflow.python.keras.layers.normalization_v2.BatchNormalization object at 0x7fb2a268ca20>\n",
      "Layer 57 (Non-trainable): <tensorflow.python.keras.layers.merge.Add object at 0x7fb2a2698240>\n",
      "Layer 58 (Non-trainable): <tensorflow.python.keras.layers.core.Activation object at 0x7fb2a2698518>\n",
      "Layer 59 (Non-trainable): <tensorflow.python.keras.layers.convolutional.ZeroPadding2D object at 0x7fb2a2698860>\n",
      "Layer 60 (Non-trainable): <tensorflow.python.keras.layers.convolutional.Conv2D object at 0x7fb2a2698e10>\n",
      "Layer 61 (Non-trainable): <tensorflow.python.keras.layers.normalization_v2.BatchNormalization object at 0x7fb2a26a0550>\n",
      "Layer 62 (Non-trainable): <tensorflow.python.keras.layers.core.Activation object at 0x7fb2a26a0c88>\n",
      "Layer 63 (Non-trainable): <tensorflow.python.keras.layers.convolutional.Conv2D object at 0x7fb2a26ab2b0>\n",
      "Layer 64 (Non-trainable): <tensorflow.python.keras.layers.convolutional.Conv2D object at 0x7fb2a26aba20>\n",
      "Layer 65 (Non-trainable): <tensorflow.python.keras.layers.normalization_v2.BatchNormalization object at 0x7fb2a26b1160>\n",
      "Layer 66 (Non-trainable): <tensorflow.python.keras.layers.normalization_v2.BatchNormalization object at 0x7fb2a26b1b00>\n",
      "Layer 67 (Non-trainable): <tensorflow.python.keras.layers.merge.Add object at 0x7fb2a263f390>\n",
      "Layer 68 (Non-trainable): <tensorflow.python.keras.layers.core.Activation object at 0x7fb2a263f668>\n",
      "Layer 69 (Non-trainable): <tensorflow.python.keras.layers.convolutional.Conv2D object at 0x7fb2a263fbe0>\n",
      "Layer 70 (Non-trainable): <tensorflow.python.keras.layers.normalization_v2.BatchNormalization object at 0x7fb2a2646320>\n",
      "Layer 71 (Non-trainable): <tensorflow.python.keras.layers.core.Activation object at 0x7fb2a2646a58>\n",
      "Layer 72 (Non-trainable): <tensorflow.python.keras.layers.convolutional.Conv2D object at 0x7fb2a264e080>\n",
      "Layer 73 (Non-trainable): <tensorflow.python.keras.layers.normalization_v2.BatchNormalization object at 0x7fb2a264e780>\n",
      "Layer 74 (Non-trainable): <tensorflow.python.keras.layers.merge.Add object at 0x7fb2a264ef60>\n",
      "Layer 75 (Non-trainable): <tensorflow.python.keras.layers.core.Activation object at 0x7fb2a265c278>\n",
      "Layer 76 (Non-trainable): <tensorflow.python.keras.layers.convolutional.Conv2D object at 0x7fb2a265c7f0>\n",
      "Layer 77 (Non-trainable): <tensorflow.python.keras.layers.normalization_v2.BatchNormalization object at 0x7fb2a265cef0>\n",
      "Layer 78 (Non-trainable): <tensorflow.python.keras.layers.core.Activation object at 0x7fb2a2664668>\n",
      "Layer 79 (Non-trainable): <tensorflow.python.keras.layers.convolutional.Conv2D object at 0x7fb2a2664c50>\n",
      "Layer 80 (Non-trainable): <tensorflow.python.keras.layers.normalization_v2.BatchNormalization object at 0x7fb2a266c390>\n",
      "Layer 81 (Non-trainable): <tensorflow.python.keras.layers.merge.Add object at 0x7fb2a266cb70>\n",
      "Layer 82 (Non-trainable): <tensorflow.python.keras.layers.core.Activation object at 0x7fb2a266ce48>\n",
      "Layer 83 (Non-trainable): <tensorflow.python.keras.layers.convolutional.Conv2D object at 0x7fb2a2675400>\n",
      "Layer 84 (Non-trainable): <tensorflow.python.keras.layers.normalization_v2.BatchNormalization object at 0x7fb2a2675b00>\n",
      "Layer 85 (Non-trainable): <tensorflow.python.keras.layers.core.Activation object at 0x7fb2a2600278>\n",
      "Layer 86 (Non-trainable): <tensorflow.python.keras.layers.convolutional.Conv2D object at 0x7fb2a2600860>\n",
      "Layer 87 (Non-trainable): <tensorflow.python.keras.layers.normalization_v2.BatchNormalization object at 0x7fb2a2600f60>\n",
      "Layer 88 (Non-trainable): <tensorflow.python.keras.layers.merge.Add object at 0x7fb2a2609780>\n",
      "Layer 89 (Non-trainable): <tensorflow.python.keras.layers.core.Activation object at 0x7fb2a2609a58>\n",
      "Layer 90 (Non-trainable): <tensorflow.python.keras.layers.convolutional.Conv2D object at 0x7fb2a2609fd0>\n",
      "Layer 91 (Non-trainable): <tensorflow.python.keras.layers.normalization_v2.BatchNormalization object at 0x7fb2a2612710>\n",
      "Layer 92 (Non-trainable): <tensorflow.python.keras.layers.core.Activation object at 0x7fb2a2612e48>\n",
      "Layer 93 (Non-trainable): <tensorflow.python.keras.layers.convolutional.Conv2D object at 0x7fb2a261f470>\n",
      "Layer 94 (Non-trainable): <tensorflow.python.keras.layers.normalization_v2.BatchNormalization object at 0x7fb2a261fb70>\n",
      "Layer 95 (Non-trainable): <tensorflow.python.keras.layers.merge.Add object at 0x7fb2a262a390>\n",
      "Layer 96 (Non-trainable): <tensorflow.python.keras.layers.core.Activation object at 0x7fb2a262a668>\n",
      "Layer 97 (Non-trainable): <tensorflow.python.keras.layers.convolutional.Conv2D object at 0x7fb2a262abe0>\n",
      "Layer 98 (Non-trainable): <tensorflow.python.keras.layers.normalization_v2.BatchNormalization object at 0x7fb2a2630320>\n",
      "Layer 99 (Non-trainable): <tensorflow.python.keras.layers.core.Activation object at 0x7fb2a2630a58>\n",
      "Layer 100 (Non-trainable): <tensorflow.python.keras.layers.convolutional.Conv2D object at 0x7fb2a263b080>\n",
      "Layer 101 (Non-trainable): <tensorflow.python.keras.layers.normalization_v2.BatchNormalization object at 0x7fb2a263b780>\n",
      "Layer 102 (Non-trainable): <tensorflow.python.keras.layers.merge.Add object at 0x7fb2a263bf60>\n",
      "Layer 103 (Non-trainable): <tensorflow.python.keras.layers.core.Activation object at 0x7fb2a25c5278>\n",
      "Layer 104 (Non-trainable): <tensorflow.python.keras.layers.convolutional.ZeroPadding2D object at 0x7fb2a25c55c0>\n",
      "Layer 105 (Non-trainable): <tensorflow.python.keras.layers.convolutional.Conv2D object at 0x7fb2a25c5b70>\n",
      "Layer 106 (Non-trainable): <tensorflow.python.keras.layers.normalization_v2.BatchNormalization object at 0x7fb2a25ce2b0>\n",
      "Layer 107 (Non-trainable): <tensorflow.python.keras.layers.core.Activation object at 0x7fb2a25ce9e8>\n",
      "Layer 108 (Non-trainable): <tensorflow.python.keras.layers.convolutional.Conv2D object at 0x7fb2a25cefd0>\n",
      "Layer 109 (Non-trainable): <tensorflow.python.keras.layers.convolutional.Conv2D object at 0x7fb2a25d8780>\n",
      "Layer 110 (Non-trainable): <tensorflow.python.keras.layers.normalization_v2.BatchNormalization object at 0x7fb2a25d8e80>\n",
      "Layer 111 (Non-trainable): <tensorflow.python.keras.layers.normalization_v2.BatchNormalization object at 0x7fb2a25e3860>\n",
      "Layer 112 (Non-trainable): <tensorflow.python.keras.layers.merge.Add object at 0x7fb2a25eb0f0>\n",
      "Layer 113 (Non-trainable): <tensorflow.python.keras.layers.core.Activation object at 0x7fb2a25eb3c8>\n",
      "Layer 114 (Non-trainable): <tensorflow.python.keras.layers.convolutional.Conv2D object at 0x7fb2a25eb940>\n",
      "Layer 115 (Non-trainable): <tensorflow.python.keras.layers.normalization_v2.BatchNormalization object at 0x7fb2a25f7080>\n",
      "Layer 116 (Non-trainable): <tensorflow.python.keras.layers.core.Activation object at 0x7fb2a25f77b8>\n",
      "Layer 117 (Non-trainable): <tensorflow.python.keras.layers.convolutional.Conv2D object at 0x7fb2a25f7da0>\n",
      "Layer 118 (Non-trainable): <tensorflow.python.keras.layers.normalization_v2.BatchNormalization object at 0x7fb2a25804e0>\n",
      "Layer 119 (Non-trainable): <tensorflow.python.keras.layers.merge.Add object at 0x7fb2a2580cc0>\n",
      "Layer 120 (Non-trainable): <tensorflow.python.keras.layers.core.Activation object at 0x7fb2a2580f98>\n",
      "Layer 121 (Non-trainable): <tensorflow.python.keras.layers.convolutional.Conv2D object at 0x7fb2a258a550>\n",
      "Layer 122 (Non-trainable): <tensorflow.python.keras.layers.normalization_v2.BatchNormalization object at 0x7fb2a258ac50>\n",
      "Layer 123 (Non-trainable): <tensorflow.python.keras.layers.core.Activation object at 0x7fb2a25953c8>\n",
      "Layer 124 (Non-trainable): <tensorflow.python.keras.layers.convolutional.Conv2D object at 0x7fb2a25959b0>\n",
      "Layer 125 (Non-trainable): <tensorflow.python.keras.layers.normalization_v2.BatchNormalization object at 0x7fb2a25a00f0>\n",
      "Layer 126 (Non-trainable): <tensorflow.python.keras.layers.merge.Add object at 0x7fb2a25a08d0>\n",
      "Layer 127 (Non-trainable): <tensorflow.python.keras.layers.core.Activation object at 0x7fb2a25a0ba8>\n",
      "Layer 128 (Non-trainable): <tensorflow.python.keras.layers.pooling.GlobalAveragePooling2D object at 0x7fb2a25a0f60>\n",
      "Layer 129 (Trainable): <tensorflow.python.keras.layers.core.Dropout object at 0x7fb2fc376278>\n",
      "Layer 130 (Trainable): <tensorflow.python.keras.layers.core.Dense object at 0x7fb2a28570b8>\n"
     ]
    }
   ],
   "source": [
    "for i, layer in enumerate(model_2.layers):\n",
    "    if layer.name == 'fc':\n",
    "        layer.trainable = True \n",
    "        print(f\"Layer {i} (Trainable): {layer}\")\n",
    "    elif layer.name == 'AddedDropout':\n",
    "        layer.trainable = True \n",
    "        print(f\"Layer {i} (Trainable): {layer}\")\n",
    "    else:\n",
    "        layer.trainable = False \n",
    "        print(f\"Layer {i} (Non-trainable): {layer}\")"
   ]
  },
  {
   "cell_type": "code",
   "execution_count": 11,
   "metadata": {},
   "outputs": [],
   "source": [
    "# Now we can prepaire our model for training\n",
    "\n",
    "model_2.compile(optimizer='Adam', loss='categorical_crossentropy', metrics=['accuracy'])"
   ]
  },
  {
   "cell_type": "code",
   "execution_count": 12,
   "metadata": {
    "scrolled": false
   },
   "outputs": [
    {
     "name": "stdout",
     "output_type": "stream",
     "text": [
      "Model: \"functional_5\"\n",
      "__________________________________________________________________________________________________\n",
      "Layer (type)                    Output Shape         Param #     Connected to                     \n",
      "==================================================================================================\n",
      "input_1 (InputLayer)            [(None, 244, 244, 3) 0                                            \n",
      "__________________________________________________________________________________________________\n",
      "pad (ZeroPadding2D)             (None, 250, 250, 3)  0           input_1[0][0]                    \n",
      "__________________________________________________________________________________________________\n",
      "conv1 (Conv2D)                  (None, 122, 122, 64) 9408        pad[0][0]                        \n",
      "__________________________________________________________________________________________________\n",
      "bn1 (BatchNormalization)        (None, 122, 122, 64) 256         conv1[0][0]                      \n",
      "__________________________________________________________________________________________________\n",
      "relu (Activation)               (None, 122, 122, 64) 0           bn1[0][0]                        \n",
      "__________________________________________________________________________________________________\n",
      "pad1 (ZeroPadding2D)            (None, 124, 124, 64) 0           relu[0][0]                       \n",
      "__________________________________________________________________________________________________\n",
      "maxpool (MaxPooling2D)          (None, 61, 61, 64)   0           pad1[0][0]                       \n",
      "__________________________________________________________________________________________________\n",
      "layer1.0.conv1 (Conv2D)         (None, 61, 61, 64)   36864       maxpool[0][0]                    \n",
      "__________________________________________________________________________________________________\n",
      "layer1.0.bn1 (BatchNormalizatio (None, 61, 61, 64)   256         layer1.0.conv1[0][0]             \n",
      "__________________________________________________________________________________________________\n",
      "activation (Activation)         (None, 61, 61, 64)   0           layer1.0.bn1[0][0]               \n",
      "__________________________________________________________________________________________________\n",
      "layer1.0.conv2 (Conv2D)         (None, 61, 61, 64)   36864       activation[0][0]                 \n",
      "__________________________________________________________________________________________________\n",
      "layer1.0.bn2 (BatchNormalizatio (None, 61, 61, 64)   256         layer1.0.conv2[0][0]             \n",
      "__________________________________________________________________________________________________\n",
      "add (Add)                       (None, 61, 61, 64)   0           maxpool[0][0]                    \n",
      "                                                                 layer1.0.bn2[0][0]               \n",
      "__________________________________________________________________________________________________\n",
      "activation_1 (Activation)       (None, 61, 61, 64)   0           add[0][0]                        \n",
      "__________________________________________________________________________________________________\n",
      "layer1.1.conv1 (Conv2D)         (None, 61, 61, 64)   36864       activation_1[0][0]               \n",
      "__________________________________________________________________________________________________\n",
      "layer1.1.bn1 (BatchNormalizatio (None, 61, 61, 64)   256         layer1.1.conv1[0][0]             \n",
      "__________________________________________________________________________________________________\n",
      "activation_2 (Activation)       (None, 61, 61, 64)   0           layer1.1.bn1[0][0]               \n",
      "__________________________________________________________________________________________________\n",
      "layer1.1.conv2 (Conv2D)         (None, 61, 61, 64)   36864       activation_2[0][0]               \n",
      "__________________________________________________________________________________________________\n",
      "layer1.1.bn2 (BatchNormalizatio (None, 61, 61, 64)   256         layer1.1.conv2[0][0]             \n",
      "__________________________________________________________________________________________________\n",
      "add_1 (Add)                     (None, 61, 61, 64)   0           activation_1[0][0]               \n",
      "                                                                 layer1.1.bn2[0][0]               \n",
      "__________________________________________________________________________________________________\n",
      "activation_3 (Activation)       (None, 61, 61, 64)   0           add_1[0][0]                      \n",
      "__________________________________________________________________________________________________\n",
      "layer1.2.conv1 (Conv2D)         (None, 61, 61, 64)   36864       activation_3[0][0]               \n",
      "__________________________________________________________________________________________________\n",
      "layer1.2.bn1 (BatchNormalizatio (None, 61, 61, 64)   256         layer1.2.conv1[0][0]             \n",
      "__________________________________________________________________________________________________\n",
      "activation_4 (Activation)       (None, 61, 61, 64)   0           layer1.2.bn1[0][0]               \n",
      "__________________________________________________________________________________________________\n",
      "layer1.2.conv2 (Conv2D)         (None, 61, 61, 64)   36864       activation_4[0][0]               \n",
      "__________________________________________________________________________________________________\n",
      "layer1.2.bn2 (BatchNormalizatio (None, 61, 61, 64)   256         layer1.2.conv2[0][0]             \n",
      "__________________________________________________________________________________________________\n",
      "add_2 (Add)                     (None, 61, 61, 64)   0           activation_3[0][0]               \n",
      "                                                                 layer1.2.bn2[0][0]               \n",
      "__________________________________________________________________________________________________\n",
      "activation_5 (Activation)       (None, 61, 61, 64)   0           add_2[0][0]                      \n",
      "__________________________________________________________________________________________________\n",
      "layer2.0.pad (ZeroPadding2D)    (None, 63, 63, 64)   0           activation_5[0][0]               \n",
      "__________________________________________________________________________________________________\n",
      "layer2.0.conv1 (Conv2D)         (None, 31, 31, 128)  73728       layer2.0.pad[0][0]               \n",
      "__________________________________________________________________________________________________\n",
      "layer2.0.bn1 (BatchNormalizatio (None, 31, 31, 128)  512         layer2.0.conv1[0][0]             \n",
      "__________________________________________________________________________________________________\n",
      "activation_6 (Activation)       (None, 31, 31, 128)  0           layer2.0.bn1[0][0]               \n",
      "__________________________________________________________________________________________________\n",
      "layer2.0.downsample.0 (Conv2D)  (None, 31, 31, 128)  8192        activation_5[0][0]               \n",
      "__________________________________________________________________________________________________\n",
      "layer2.0.conv2 (Conv2D)         (None, 31, 31, 128)  147456      activation_6[0][0]               \n",
      "__________________________________________________________________________________________________\n",
      "layer2.0.downsample.1 (BatchNor (None, 31, 31, 128)  512         layer2.0.downsample.0[0][0]      \n",
      "__________________________________________________________________________________________________\n",
      "layer2.0.bn2 (BatchNormalizatio (None, 31, 31, 128)  512         layer2.0.conv2[0][0]             \n",
      "__________________________________________________________________________________________________\n",
      "add_3 (Add)                     (None, 31, 31, 128)  0           layer2.0.downsample.1[0][0]      \n",
      "                                                                 layer2.0.bn2[0][0]               \n",
      "__________________________________________________________________________________________________\n",
      "activation_7 (Activation)       (None, 31, 31, 128)  0           add_3[0][0]                      \n",
      "__________________________________________________________________________________________________\n",
      "layer2.1.conv1 (Conv2D)         (None, 31, 31, 128)  147456      activation_7[0][0]               \n",
      "__________________________________________________________________________________________________\n",
      "layer2.1.bn1 (BatchNormalizatio (None, 31, 31, 128)  512         layer2.1.conv1[0][0]             \n",
      "__________________________________________________________________________________________________\n",
      "activation_8 (Activation)       (None, 31, 31, 128)  0           layer2.1.bn1[0][0]               \n",
      "__________________________________________________________________________________________________\n",
      "layer2.1.conv2 (Conv2D)         (None, 31, 31, 128)  147456      activation_8[0][0]               \n",
      "__________________________________________________________________________________________________\n",
      "layer2.1.bn2 (BatchNormalizatio (None, 31, 31, 128)  512         layer2.1.conv2[0][0]             \n",
      "__________________________________________________________________________________________________\n",
      "add_4 (Add)                     (None, 31, 31, 128)  0           activation_7[0][0]               \n",
      "                                                                 layer2.1.bn2[0][0]               \n",
      "__________________________________________________________________________________________________\n",
      "activation_9 (Activation)       (None, 31, 31, 128)  0           add_4[0][0]                      \n",
      "__________________________________________________________________________________________________\n",
      "layer2.2.conv1 (Conv2D)         (None, 31, 31, 128)  147456      activation_9[0][0]               \n",
      "__________________________________________________________________________________________________\n",
      "layer2.2.bn1 (BatchNormalizatio (None, 31, 31, 128)  512         layer2.2.conv1[0][0]             \n",
      "__________________________________________________________________________________________________\n",
      "activation_10 (Activation)      (None, 31, 31, 128)  0           layer2.2.bn1[0][0]               \n",
      "__________________________________________________________________________________________________\n",
      "layer2.2.conv2 (Conv2D)         (None, 31, 31, 128)  147456      activation_10[0][0]              \n",
      "__________________________________________________________________________________________________\n",
      "layer2.2.bn2 (BatchNormalizatio (None, 31, 31, 128)  512         layer2.2.conv2[0][0]             \n",
      "__________________________________________________________________________________________________\n",
      "add_5 (Add)                     (None, 31, 31, 128)  0           activation_9[0][0]               \n",
      "                                                                 layer2.2.bn2[0][0]               \n",
      "__________________________________________________________________________________________________\n",
      "activation_11 (Activation)      (None, 31, 31, 128)  0           add_5[0][0]                      \n",
      "__________________________________________________________________________________________________\n",
      "layer2.3.conv1 (Conv2D)         (None, 31, 31, 128)  147456      activation_11[0][0]              \n",
      "__________________________________________________________________________________________________\n",
      "layer2.3.bn1 (BatchNormalizatio (None, 31, 31, 128)  512         layer2.3.conv1[0][0]             \n",
      "__________________________________________________________________________________________________\n",
      "activation_12 (Activation)      (None, 31, 31, 128)  0           layer2.3.bn1[0][0]               \n",
      "__________________________________________________________________________________________________\n",
      "layer2.3.conv2 (Conv2D)         (None, 31, 31, 128)  147456      activation_12[0][0]              \n",
      "__________________________________________________________________________________________________\n",
      "layer2.3.bn2 (BatchNormalizatio (None, 31, 31, 128)  512         layer2.3.conv2[0][0]             \n",
      "__________________________________________________________________________________________________\n",
      "add_6 (Add)                     (None, 31, 31, 128)  0           activation_11[0][0]              \n",
      "                                                                 layer2.3.bn2[0][0]               \n",
      "__________________________________________________________________________________________________\n",
      "activation_13 (Activation)      (None, 31, 31, 128)  0           add_6[0][0]                      \n",
      "__________________________________________________________________________________________________\n",
      "layer3.0.pad (ZeroPadding2D)    (None, 33, 33, 128)  0           activation_13[0][0]              \n",
      "__________________________________________________________________________________________________\n",
      "layer3.0.conv1 (Conv2D)         (None, 16, 16, 256)  294912      layer3.0.pad[0][0]               \n",
      "__________________________________________________________________________________________________\n",
      "layer3.0.bn1 (BatchNormalizatio (None, 16, 16, 256)  1024        layer3.0.conv1[0][0]             \n",
      "__________________________________________________________________________________________________\n",
      "activation_14 (Activation)      (None, 16, 16, 256)  0           layer3.0.bn1[0][0]               \n",
      "__________________________________________________________________________________________________\n",
      "layer3.0.downsample.0 (Conv2D)  (None, 16, 16, 256)  32768       activation_13[0][0]              \n",
      "__________________________________________________________________________________________________\n",
      "layer3.0.conv2 (Conv2D)         (None, 16, 16, 256)  589824      activation_14[0][0]              \n",
      "__________________________________________________________________________________________________\n",
      "layer3.0.downsample.1 (BatchNor (None, 16, 16, 256)  1024        layer3.0.downsample.0[0][0]      \n",
      "__________________________________________________________________________________________________\n",
      "layer3.0.bn2 (BatchNormalizatio (None, 16, 16, 256)  1024        layer3.0.conv2[0][0]             \n",
      "__________________________________________________________________________________________________\n",
      "add_7 (Add)                     (None, 16, 16, 256)  0           layer3.0.downsample.1[0][0]      \n",
      "                                                                 layer3.0.bn2[0][0]               \n",
      "__________________________________________________________________________________________________\n",
      "activation_15 (Activation)      (None, 16, 16, 256)  0           add_7[0][0]                      \n",
      "__________________________________________________________________________________________________\n",
      "layer3.1.conv1 (Conv2D)         (None, 16, 16, 256)  589824      activation_15[0][0]              \n",
      "__________________________________________________________________________________________________\n",
      "layer3.1.bn1 (BatchNormalizatio (None, 16, 16, 256)  1024        layer3.1.conv1[0][0]             \n",
      "__________________________________________________________________________________________________\n",
      "activation_16 (Activation)      (None, 16, 16, 256)  0           layer3.1.bn1[0][0]               \n",
      "__________________________________________________________________________________________________\n",
      "layer3.1.conv2 (Conv2D)         (None, 16, 16, 256)  589824      activation_16[0][0]              \n",
      "__________________________________________________________________________________________________\n",
      "layer3.1.bn2 (BatchNormalizatio (None, 16, 16, 256)  1024        layer3.1.conv2[0][0]             \n",
      "__________________________________________________________________________________________________\n",
      "add_8 (Add)                     (None, 16, 16, 256)  0           activation_15[0][0]              \n",
      "                                                                 layer3.1.bn2[0][0]               \n",
      "__________________________________________________________________________________________________\n",
      "activation_17 (Activation)      (None, 16, 16, 256)  0           add_8[0][0]                      \n",
      "__________________________________________________________________________________________________\n",
      "layer3.2.conv1 (Conv2D)         (None, 16, 16, 256)  589824      activation_17[0][0]              \n",
      "__________________________________________________________________________________________________\n",
      "layer3.2.bn1 (BatchNormalizatio (None, 16, 16, 256)  1024        layer3.2.conv1[0][0]             \n",
      "__________________________________________________________________________________________________\n",
      "activation_18 (Activation)      (None, 16, 16, 256)  0           layer3.2.bn1[0][0]               \n",
      "__________________________________________________________________________________________________\n",
      "layer3.2.conv2 (Conv2D)         (None, 16, 16, 256)  589824      activation_18[0][0]              \n",
      "__________________________________________________________________________________________________\n",
      "layer3.2.bn2 (BatchNormalizatio (None, 16, 16, 256)  1024        layer3.2.conv2[0][0]             \n",
      "__________________________________________________________________________________________________\n",
      "add_9 (Add)                     (None, 16, 16, 256)  0           activation_17[0][0]              \n",
      "                                                                 layer3.2.bn2[0][0]               \n",
      "__________________________________________________________________________________________________\n",
      "activation_19 (Activation)      (None, 16, 16, 256)  0           add_9[0][0]                      \n",
      "__________________________________________________________________________________________________\n",
      "layer3.3.conv1 (Conv2D)         (None, 16, 16, 256)  589824      activation_19[0][0]              \n",
      "__________________________________________________________________________________________________\n",
      "layer3.3.bn1 (BatchNormalizatio (None, 16, 16, 256)  1024        layer3.3.conv1[0][0]             \n",
      "__________________________________________________________________________________________________\n",
      "activation_20 (Activation)      (None, 16, 16, 256)  0           layer3.3.bn1[0][0]               \n",
      "__________________________________________________________________________________________________\n",
      "layer3.3.conv2 (Conv2D)         (None, 16, 16, 256)  589824      activation_20[0][0]              \n",
      "__________________________________________________________________________________________________\n",
      "layer3.3.bn2 (BatchNormalizatio (None, 16, 16, 256)  1024        layer3.3.conv2[0][0]             \n",
      "__________________________________________________________________________________________________\n",
      "add_10 (Add)                    (None, 16, 16, 256)  0           activation_19[0][0]              \n",
      "                                                                 layer3.3.bn2[0][0]               \n",
      "__________________________________________________________________________________________________\n",
      "activation_21 (Activation)      (None, 16, 16, 256)  0           add_10[0][0]                     \n",
      "__________________________________________________________________________________________________\n",
      "layer3.4.conv1 (Conv2D)         (None, 16, 16, 256)  589824      activation_21[0][0]              \n",
      "__________________________________________________________________________________________________\n",
      "layer3.4.bn1 (BatchNormalizatio (None, 16, 16, 256)  1024        layer3.4.conv1[0][0]             \n",
      "__________________________________________________________________________________________________\n",
      "activation_22 (Activation)      (None, 16, 16, 256)  0           layer3.4.bn1[0][0]               \n",
      "__________________________________________________________________________________________________\n",
      "layer3.4.conv2 (Conv2D)         (None, 16, 16, 256)  589824      activation_22[0][0]              \n",
      "__________________________________________________________________________________________________\n",
      "layer3.4.bn2 (BatchNormalizatio (None, 16, 16, 256)  1024        layer3.4.conv2[0][0]             \n",
      "__________________________________________________________________________________________________\n",
      "add_11 (Add)                    (None, 16, 16, 256)  0           activation_21[0][0]              \n",
      "                                                                 layer3.4.bn2[0][0]               \n",
      "__________________________________________________________________________________________________\n",
      "activation_23 (Activation)      (None, 16, 16, 256)  0           add_11[0][0]                     \n",
      "__________________________________________________________________________________________________\n",
      "layer3.5.conv1 (Conv2D)         (None, 16, 16, 256)  589824      activation_23[0][0]              \n",
      "__________________________________________________________________________________________________\n",
      "layer3.5.bn1 (BatchNormalizatio (None, 16, 16, 256)  1024        layer3.5.conv1[0][0]             \n",
      "__________________________________________________________________________________________________\n",
      "activation_24 (Activation)      (None, 16, 16, 256)  0           layer3.5.bn1[0][0]               \n",
      "__________________________________________________________________________________________________\n",
      "layer3.5.conv2 (Conv2D)         (None, 16, 16, 256)  589824      activation_24[0][0]              \n",
      "__________________________________________________________________________________________________\n",
      "layer3.5.bn2 (BatchNormalizatio (None, 16, 16, 256)  1024        layer3.5.conv2[0][0]             \n",
      "__________________________________________________________________________________________________\n",
      "add_12 (Add)                    (None, 16, 16, 256)  0           activation_23[0][0]              \n",
      "                                                                 layer3.5.bn2[0][0]               \n",
      "__________________________________________________________________________________________________\n",
      "activation_25 (Activation)      (None, 16, 16, 256)  0           add_12[0][0]                     \n",
      "__________________________________________________________________________________________________\n",
      "layer4.0.pad (ZeroPadding2D)    (None, 18, 18, 256)  0           activation_25[0][0]              \n",
      "__________________________________________________________________________________________________\n",
      "layer4.0.conv1 (Conv2D)         (None, 8, 8, 512)    1179648     layer4.0.pad[0][0]               \n",
      "__________________________________________________________________________________________________\n",
      "layer4.0.bn1 (BatchNormalizatio (None, 8, 8, 512)    2048        layer4.0.conv1[0][0]             \n",
      "__________________________________________________________________________________________________\n",
      "activation_26 (Activation)      (None, 8, 8, 512)    0           layer4.0.bn1[0][0]               \n",
      "__________________________________________________________________________________________________\n",
      "layer4.0.downsample.0 (Conv2D)  (None, 8, 8, 512)    131072      activation_25[0][0]              \n",
      "__________________________________________________________________________________________________\n",
      "layer4.0.conv2 (Conv2D)         (None, 8, 8, 512)    2359296     activation_26[0][0]              \n",
      "__________________________________________________________________________________________________\n",
      "layer4.0.downsample.1 (BatchNor (None, 8, 8, 512)    2048        layer4.0.downsample.0[0][0]      \n",
      "__________________________________________________________________________________________________\n",
      "layer4.0.bn2 (BatchNormalizatio (None, 8, 8, 512)    2048        layer4.0.conv2[0][0]             \n",
      "__________________________________________________________________________________________________\n",
      "add_13 (Add)                    (None, 8, 8, 512)    0           layer4.0.downsample.1[0][0]      \n",
      "                                                                 layer4.0.bn2[0][0]               \n",
      "__________________________________________________________________________________________________\n",
      "activation_27 (Activation)      (None, 8, 8, 512)    0           add_13[0][0]                     \n",
      "__________________________________________________________________________________________________\n",
      "layer4.1.conv1 (Conv2D)         (None, 8, 8, 512)    2359296     activation_27[0][0]              \n",
      "__________________________________________________________________________________________________\n",
      "layer4.1.bn1 (BatchNormalizatio (None, 8, 8, 512)    2048        layer4.1.conv1[0][0]             \n",
      "__________________________________________________________________________________________________\n",
      "activation_28 (Activation)      (None, 8, 8, 512)    0           layer4.1.bn1[0][0]               \n",
      "__________________________________________________________________________________________________\n",
      "layer4.1.conv2 (Conv2D)         (None, 8, 8, 512)    2359296     activation_28[0][0]              \n",
      "__________________________________________________________________________________________________\n",
      "layer4.1.bn2 (BatchNormalizatio (None, 8, 8, 512)    2048        layer4.1.conv2[0][0]             \n",
      "__________________________________________________________________________________________________\n",
      "add_14 (Add)                    (None, 8, 8, 512)    0           activation_27[0][0]              \n",
      "                                                                 layer4.1.bn2[0][0]               \n",
      "__________________________________________________________________________________________________\n",
      "activation_29 (Activation)      (None, 8, 8, 512)    0           add_14[0][0]                     \n",
      "__________________________________________________________________________________________________\n",
      "layer4.2.conv1 (Conv2D)         (None, 8, 8, 512)    2359296     activation_29[0][0]              \n",
      "__________________________________________________________________________________________________\n",
      "layer4.2.bn1 (BatchNormalizatio (None, 8, 8, 512)    2048        layer4.2.conv1[0][0]             \n",
      "__________________________________________________________________________________________________\n",
      "activation_30 (Activation)      (None, 8, 8, 512)    0           layer4.2.bn1[0][0]               \n",
      "__________________________________________________________________________________________________\n",
      "layer4.2.conv2 (Conv2D)         (None, 8, 8, 512)    2359296     activation_30[0][0]              \n",
      "__________________________________________________________________________________________________\n",
      "layer4.2.bn2 (BatchNormalizatio (None, 8, 8, 512)    2048        layer4.2.conv2[0][0]             \n",
      "__________________________________________________________________________________________________\n",
      "add_15 (Add)                    (None, 8, 8, 512)    0           activation_29[0][0]              \n",
      "                                                                 layer4.2.bn2[0][0]               \n",
      "__________________________________________________________________________________________________\n",
      "activation_31 (Activation)      (None, 8, 8, 512)    0           add_15[0][0]                     \n",
      "__________________________________________________________________________________________________\n",
      "avgpool (GlobalAveragePooling2D (None, 512)          0           activation_31[0][0]              \n",
      "__________________________________________________________________________________________________\n",
      "AddedDropout (Dropout)          (None, 512)          0           avgpool[0][0]                    \n",
      "__________________________________________________________________________________________________\n",
      "fc (Dense)                      (None, 7)            3591        AddedDropout[0][0]               \n",
      "==================================================================================================\n",
      "Total params: 21,305,287\n",
      "Trainable params: 3,591\n",
      "Non-trainable params: 21,301,696\n",
      "__________________________________________________________________________________________________\n"
     ]
    }
   ],
   "source": [
    "model_2.summary()"
   ]
  },
  {
   "cell_type": "markdown",
   "metadata": {},
   "source": [
    "# Model 3 - Add Bayesian Dropout Layer"
   ]
  },
  {
   "cell_type": "markdown",
   "metadata": {},
   "source": [
    "Lastly, this third model uses Dropout as a Bayesian Approximation right before the classifier, to measure if there is any significant change in performance if"
   ]
  },
  {
   "cell_type": "code",
   "execution_count": 13,
   "metadata": {},
   "outputs": [],
   "source": [
    "import tensorflow as tf\n",
    "from tensorflow.python.ops.distributions.bernoulli import Bernoulli\n",
    "\n",
    "class VariationalDense:\n",
    "    \"\"\"Variational Dense Layer Class\"\"\"\n",
    "    def __init__(self, n_in, n_out, model_prob, model_lam):\n",
    "        self.model_prob = model_prob\n",
    "        self.model_lam = model_lam\n",
    "        self.model_bern = Bernoulli(probs=self.model_prob, dtype=tf.float32)\n",
    "        self.model_M = tf.Variable(tf.random.truncated_normal([n_in, n_out], stddev=0.01))\n",
    "        self.model_m = tf.Variable(tf.zeros([n_out]))\n",
    "        self.model_W = tf.matmul(\n",
    "            tf.compat.v1.diag(self.model_bern.sample((n_in, ))), self.model_M\n",
    "        )\n",
    "\n",
    "    def __call__(self, X, activation=tf.identity):\n",
    "        output = activation(tf.matmul(X, self.model_W) + self.model_m)\n",
    "        if self.model_M.shape[1] == 1:\n",
    "            output = tf.squeeze(output)\n",
    "        return output\n",
    "\n",
    "    @property\n",
    "    def regularization(self):\n",
    "        return self.model_lam * (\n",
    "            self.model_prob * tf.reduce_sum(tf.square(self.model_M)) +\n",
    "            tf.reduce_sum(tf.square(self.model_m))\n",
    "        )\n"
   ]
  },
  {
   "cell_type": "code",
   "execution_count": 14,
   "metadata": {},
   "outputs": [
    {
     "name": "stdout",
     "output_type": "stream",
     "text": [
      "WARNING:tensorflow:No training configuration found in save file, so the model was *not* compiled. Compile it manually.\n",
      "WARNING:tensorflow:From <ipython-input-13-6f069f902578>:9: Bernoulli.__init__ (from tensorflow.python.ops.distributions.bernoulli) is deprecated and will be removed after 2019-01-01.\n",
      "Instructions for updating:\n",
      "The TensorFlow Distributions library has moved to TensorFlow Probability (https://github.com/tensorflow/probability). You should update all references to use `tfp.distributions` instead of `tf.distributions`.\n",
      "WARNING:tensorflow:From /home/peter/anaconda3/envs/face/lib/python3.6/site-packages/tensorflow/python/ops/distributions/bernoulli.py:97: Distribution.__init__ (from tensorflow.python.ops.distributions.distribution) is deprecated and will be removed after 2019-01-01.\n",
      "Instructions for updating:\n",
      "The TensorFlow Distributions library has moved to TensorFlow Probability (https://github.com/tensorflow/probability). You should update all references to use `tfp.distributions` instead of `tf.distributions`.\n"
     ]
    }
   ],
   "source": [
    "base_3 = M.load_model('./models/base_model_tf/')\n",
    "\n",
    "model_prob = 0.9\n",
    "model_lam = 1e-2\n",
    "\n",
    "dropout_2 = VariationalDense(n_in=512,n_out=512,model_lam=model_lam,model_prob=model_prob)(base_3.output)\n",
    "fc_3 = tf.keras.layers.Dense(units=7, use_bias=True, activation='softmax', name='fc')(dropout_2)\n",
    "model_3 = tf.keras.models.Model(inputs=base_3.input, outputs=fc_3)"
   ]
  },
  {
   "cell_type": "code",
   "execution_count": 15,
   "metadata": {
    "scrolled": false
   },
   "outputs": [
    {
     "name": "stdout",
     "output_type": "stream",
     "text": [
      "Layer 0 (Non-trainable): <tensorflow.python.keras.engine.input_layer.InputLayer object at 0x7fb29bf802b0>\n",
      "Layer 1 (Non-trainable): <tensorflow.python.keras.layers.convolutional.ZeroPadding2D object at 0x7fb29bf80668>\n",
      "Layer 2 (Non-trainable): <tensorflow.python.keras.layers.convolutional.Conv2D object at 0x7fb29bf80dd8>\n",
      "Layer 3 (Non-trainable): <tensorflow.python.keras.layers.normalization_v2.BatchNormalization object at 0x7fb29bf8b588>\n",
      "Layer 4 (Non-trainable): <tensorflow.python.keras.layers.core.Activation object at 0x7fb29bf8bcf8>\n",
      "Layer 5 (Non-trainable): <tensorflow.python.keras.layers.convolutional.ZeroPadding2D object at 0x7fb29bf93160>\n",
      "Layer 6 (Non-trainable): <tensorflow.python.keras.layers.pooling.MaxPooling2D object at 0x7fb29bf935f8>\n",
      "Layer 7 (Non-trainable): <tensorflow.python.keras.layers.convolutional.Conv2D object at 0x7fb29bf93be0>\n",
      "Layer 8 (Non-trainable): <tensorflow.python.keras.layers.normalization_v2.BatchNormalization object at 0x7fb29bf99320>\n",
      "Layer 9 (Non-trainable): <tensorflow.python.keras.layers.core.Activation object at 0x7fb29bf99a20>\n",
      "Layer 10 (Non-trainable): <tensorflow.python.keras.layers.convolutional.Conv2D object at 0x7fb29bfa3048>\n",
      "Layer 11 (Non-trainable): <tensorflow.python.keras.layers.normalization_v2.BatchNormalization object at 0x7fb29bfa3748>\n",
      "Layer 12 (Non-trainable): <tensorflow.python.keras.layers.merge.Add object at 0x7fb29bfa3f28>\n",
      "Layer 13 (Non-trainable): <tensorflow.python.keras.layers.core.Activation object at 0x7fb29bfa9240>\n",
      "Layer 14 (Non-trainable): <tensorflow.python.keras.layers.convolutional.Conv2D object at 0x7fb29bfa97b8>\n",
      "Layer 15 (Non-trainable): <tensorflow.python.keras.layers.normalization_v2.BatchNormalization object at 0x7fb29bfa9eb8>\n",
      "Layer 16 (Non-trainable): <tensorflow.python.keras.layers.core.Activation object at 0x7fb29bfb5630>\n",
      "Layer 17 (Non-trainable): <tensorflow.python.keras.layers.convolutional.Conv2D object at 0x7fb29bfb5c18>\n",
      "Layer 18 (Non-trainable): <tensorflow.python.keras.layers.normalization_v2.BatchNormalization object at 0x7fb29bfbb358>\n",
      "Layer 19 (Non-trainable): <tensorflow.python.keras.layers.merge.Add object at 0x7fb29bfbbb38>\n",
      "Layer 20 (Non-trainable): <tensorflow.python.keras.layers.core.Activation object at 0x7fb29bfbbe10>\n",
      "Layer 21 (Non-trainable): <tensorflow.python.keras.layers.convolutional.Conv2D object at 0x7fb29bf483c8>\n",
      "Layer 22 (Non-trainable): <tensorflow.python.keras.layers.normalization_v2.BatchNormalization object at 0x7fb29bf48ac8>\n",
      "Layer 23 (Non-trainable): <tensorflow.python.keras.layers.core.Activation object at 0x7fb29bf52240>\n",
      "Layer 24 (Non-trainable): <tensorflow.python.keras.layers.convolutional.Conv2D object at 0x7fb29bf52828>\n",
      "Layer 25 (Non-trainable): <tensorflow.python.keras.layers.normalization_v2.BatchNormalization object at 0x7fb29bf52f28>\n",
      "Layer 26 (Non-trainable): <tensorflow.python.keras.layers.merge.Add object at 0x7fb29bf59748>\n",
      "Layer 27 (Non-trainable): <tensorflow.python.keras.layers.core.Activation object at 0x7fb29bf59a20>\n",
      "Layer 28 (Non-trainable): <tensorflow.python.keras.layers.convolutional.ZeroPadding2D object at 0x7fb29bf59d68>\n",
      "Layer 29 (Non-trainable): <tensorflow.python.keras.layers.convolutional.Conv2D object at 0x7fb29bf63358>\n",
      "Layer 30 (Non-trainable): <tensorflow.python.keras.layers.normalization_v2.BatchNormalization object at 0x7fb29bf63a58>\n",
      "Layer 31 (Non-trainable): <tensorflow.python.keras.layers.core.Activation object at 0x7fb29bf6c1d0>\n",
      "Layer 32 (Non-trainable): <tensorflow.python.keras.layers.convolutional.Conv2D object at 0x7fb29bf6c7b8>\n",
      "Layer 33 (Non-trainable): <tensorflow.python.keras.layers.convolutional.Conv2D object at 0x7fb29bf6cf28>\n",
      "Layer 34 (Non-trainable): <tensorflow.python.keras.layers.normalization_v2.BatchNormalization object at 0x7fb29bf74668>\n",
      "Layer 35 (Non-trainable): <tensorflow.python.keras.layers.normalization_v2.BatchNormalization object at 0x7fb29bf00048>\n",
      "Layer 36 (Non-trainable): <tensorflow.python.keras.layers.merge.Add object at 0x7fb29bf00898>\n",
      "Layer 37 (Non-trainable): <tensorflow.python.keras.layers.core.Activation object at 0x7fb29bf00b70>\n",
      "Layer 38 (Non-trainable): <tensorflow.python.keras.layers.convolutional.Conv2D object at 0x7fb29bf08128>\n",
      "Layer 39 (Non-trainable): <tensorflow.python.keras.layers.normalization_v2.BatchNormalization object at 0x7fb29bf08828>\n",
      "Layer 40 (Non-trainable): <tensorflow.python.keras.layers.core.Activation object at 0x7fb29bf08f60>\n",
      "Layer 41 (Non-trainable): <tensorflow.python.keras.layers.convolutional.Conv2D object at 0x7fb29bf12588>\n",
      "Layer 42 (Non-trainable): <tensorflow.python.keras.layers.normalization_v2.BatchNormalization object at 0x7fb29bf12c88>\n",
      "Layer 43 (Non-trainable): <tensorflow.python.keras.layers.merge.Add object at 0x7fb29bf1c4a8>\n",
      "Layer 44 (Non-trainable): <tensorflow.python.keras.layers.core.Activation object at 0x7fb29bf1c780>\n",
      "Layer 45 (Non-trainable): <tensorflow.python.keras.layers.convolutional.Conv2D object at 0x7fb29bf1ccf8>\n",
      "Layer 46 (Non-trainable): <tensorflow.python.keras.layers.normalization_v2.BatchNormalization object at 0x7fb29bf27438>\n",
      "Layer 47 (Non-trainable): <tensorflow.python.keras.layers.core.Activation object at 0x7fb29bf27b70>\n",
      "Layer 48 (Non-trainable): <tensorflow.python.keras.layers.convolutional.Conv2D object at 0x7fb29bf2f198>\n",
      "Layer 49 (Non-trainable): <tensorflow.python.keras.layers.normalization_v2.BatchNormalization object at 0x7fb29bf2f898>\n",
      "Layer 50 (Non-trainable): <tensorflow.python.keras.layers.merge.Add object at 0x7fb29bf390b8>\n",
      "Layer 51 (Non-trainable): <tensorflow.python.keras.layers.core.Activation object at 0x7fb29bf39390>\n",
      "Layer 52 (Non-trainable): <tensorflow.python.keras.layers.convolutional.Conv2D object at 0x7fb29bf39908>\n",
      "Layer 53 (Non-trainable): <tensorflow.python.keras.layers.normalization_v2.BatchNormalization object at 0x7fb29bec2048>\n",
      "Layer 54 (Non-trainable): <tensorflow.python.keras.layers.core.Activation object at 0x7fb29bec2780>\n",
      "Layer 55 (Non-trainable): <tensorflow.python.keras.layers.convolutional.Conv2D object at 0x7fb29bec2d68>\n",
      "Layer 56 (Non-trainable): <tensorflow.python.keras.layers.normalization_v2.BatchNormalization object at 0x7fb29becd4a8>\n",
      "Layer 57 (Non-trainable): <tensorflow.python.keras.layers.merge.Add object at 0x7fb29becdc88>\n",
      "Layer 58 (Non-trainable): <tensorflow.python.keras.layers.core.Activation object at 0x7fb29becdf60>\n",
      "Layer 59 (Non-trainable): <tensorflow.python.keras.layers.convolutional.ZeroPadding2D object at 0x7fb29bed52e8>\n",
      "Layer 60 (Non-trainable): <tensorflow.python.keras.layers.convolutional.Conv2D object at 0x7fb29bed5898>\n",
      "Layer 61 (Non-trainable): <tensorflow.python.keras.layers.normalization_v2.BatchNormalization object at 0x7fb29bed5f98>\n",
      "Layer 62 (Non-trainable): <tensorflow.python.keras.layers.core.Activation object at 0x7fb29bede710>\n",
      "Layer 63 (Non-trainable): <tensorflow.python.keras.layers.convolutional.Conv2D object at 0x7fb29bedecf8>\n",
      "Layer 64 (Non-trainable): <tensorflow.python.keras.layers.convolutional.Conv2D object at 0x7fb29bee94a8>\n",
      "Layer 65 (Non-trainable): <tensorflow.python.keras.layers.normalization_v2.BatchNormalization object at 0x7fb29bee9ba8>\n",
      "Layer 66 (Non-trainable): <tensorflow.python.keras.layers.normalization_v2.BatchNormalization object at 0x7fb29bef3588>\n",
      "Layer 67 (Non-trainable): <tensorflow.python.keras.layers.merge.Add object at 0x7fb29bef3dd8>\n",
      "Layer 68 (Non-trainable): <tensorflow.python.keras.layers.core.Activation object at 0x7fb29befc0f0>\n",
      "Layer 69 (Non-trainable): <tensorflow.python.keras.layers.convolutional.Conv2D object at 0x7fb29befc668>\n",
      "Layer 70 (Non-trainable): <tensorflow.python.keras.layers.normalization_v2.BatchNormalization object at 0x7fb29befcd68>\n",
      "Layer 71 (Non-trainable): <tensorflow.python.keras.layers.core.Activation object at 0x7fb29be864e0>\n",
      "Layer 72 (Non-trainable): <tensorflow.python.keras.layers.convolutional.Conv2D object at 0x7fb29be86ac8>\n",
      "Layer 73 (Non-trainable): <tensorflow.python.keras.layers.normalization_v2.BatchNormalization object at 0x7fb29be90208>\n",
      "Layer 74 (Non-trainable): <tensorflow.python.keras.layers.merge.Add object at 0x7fb29be909e8>\n",
      "Layer 75 (Non-trainable): <tensorflow.python.keras.layers.core.Activation object at 0x7fb29be90cc0>\n",
      "Layer 76 (Non-trainable): <tensorflow.python.keras.layers.convolutional.Conv2D object at 0x7fb29be98278>\n",
      "Layer 77 (Non-trainable): <tensorflow.python.keras.layers.normalization_v2.BatchNormalization object at 0x7fb29be98978>\n",
      "Layer 78 (Non-trainable): <tensorflow.python.keras.layers.core.Activation object at 0x7fb29bea40f0>\n",
      "Layer 79 (Non-trainable): <tensorflow.python.keras.layers.convolutional.Conv2D object at 0x7fb29bea46d8>\n",
      "Layer 80 (Non-trainable): <tensorflow.python.keras.layers.normalization_v2.BatchNormalization object at 0x7fb29bea4dd8>\n",
      "Layer 81 (Non-trainable): <tensorflow.python.keras.layers.merge.Add object at 0x7fb29beac5f8>\n",
      "Layer 82 (Non-trainable): <tensorflow.python.keras.layers.core.Activation object at 0x7fb29beac8d0>\n",
      "Layer 83 (Non-trainable): <tensorflow.python.keras.layers.convolutional.Conv2D object at 0x7fb29beace48>\n",
      "Layer 84 (Non-trainable): <tensorflow.python.keras.layers.normalization_v2.BatchNormalization object at 0x7fb29beb5588>\n",
      "Layer 85 (Non-trainable): <tensorflow.python.keras.layers.core.Activation object at 0x7fb29beb5cc0>\n",
      "Layer 86 (Non-trainable): <tensorflow.python.keras.layers.convolutional.Conv2D object at 0x7fb29be432e8>\n",
      "Layer 87 (Non-trainable): <tensorflow.python.keras.layers.normalization_v2.BatchNormalization object at 0x7fb29be439e8>\n",
      "Layer 88 (Non-trainable): <tensorflow.python.keras.layers.merge.Add object at 0x7fb29be4b208>\n",
      "Layer 89 (Non-trainable): <tensorflow.python.keras.layers.core.Activation object at 0x7fb29be4b4e0>\n",
      "Layer 90 (Non-trainable): <tensorflow.python.keras.layers.convolutional.Conv2D object at 0x7fb29be4ba58>\n",
      "Layer 91 (Non-trainable): <tensorflow.python.keras.layers.normalization_v2.BatchNormalization object at 0x7fb29be53198>\n",
      "Layer 92 (Non-trainable): <tensorflow.python.keras.layers.core.Activation object at 0x7fb29be538d0>\n",
      "Layer 93 (Non-trainable): <tensorflow.python.keras.layers.convolutional.Conv2D object at 0x7fb29be53eb8>\n",
      "Layer 94 (Non-trainable): <tensorflow.python.keras.layers.normalization_v2.BatchNormalization object at 0x7fb29be5e5f8>\n",
      "Layer 95 (Non-trainable): <tensorflow.python.keras.layers.merge.Add object at 0x7fb29be5edd8>\n",
      "Layer 96 (Non-trainable): <tensorflow.python.keras.layers.core.Activation object at 0x7fb29be670f0>\n",
      "Layer 97 (Non-trainable): <tensorflow.python.keras.layers.convolutional.Conv2D object at 0x7fb29be67668>\n",
      "Layer 98 (Non-trainable): <tensorflow.python.keras.layers.normalization_v2.BatchNormalization object at 0x7fb29be67d68>\n",
      "Layer 99 (Non-trainable): <tensorflow.python.keras.layers.core.Activation object at 0x7fb29be6e4e0>\n",
      "Layer 100 (Non-trainable): <tensorflow.python.keras.layers.convolutional.Conv2D object at 0x7fb29be6eac8>\n",
      "Layer 101 (Non-trainable): <tensorflow.python.keras.layers.normalization_v2.BatchNormalization object at 0x7fb29be7a208>\n",
      "Layer 102 (Non-trainable): <tensorflow.python.keras.layers.merge.Add object at 0x7fb29be7a9e8>\n",
      "Layer 103 (Non-trainable): <tensorflow.python.keras.layers.core.Activation object at 0x7fb29be7acc0>\n",
      "Layer 104 (Non-trainable): <tensorflow.python.keras.layers.convolutional.ZeroPadding2D object at 0x7fb29be06048>\n",
      "Layer 105 (Non-trainable): <tensorflow.python.keras.layers.convolutional.Conv2D object at 0x7fb29be065f8>\n",
      "Layer 106 (Non-trainable): <tensorflow.python.keras.layers.normalization_v2.BatchNormalization object at 0x7fb29be06cf8>\n",
      "Layer 107 (Non-trainable): <tensorflow.python.keras.layers.core.Activation object at 0x7fb29be0e470>\n",
      "Layer 108 (Non-trainable): <tensorflow.python.keras.layers.convolutional.Conv2D object at 0x7fb29be0ea58>\n",
      "Layer 109 (Non-trainable): <tensorflow.python.keras.layers.convolutional.Conv2D object at 0x7fb29be16208>\n",
      "Layer 110 (Non-trainable): <tensorflow.python.keras.layers.normalization_v2.BatchNormalization object at 0x7fb29be16908>\n",
      "Layer 111 (Non-trainable): <tensorflow.python.keras.layers.normalization_v2.BatchNormalization object at 0x7fb29be212e8>\n",
      "Layer 112 (Non-trainable): <tensorflow.python.keras.layers.merge.Add object at 0x7fb29be21b38>\n",
      "Layer 113 (Non-trainable): <tensorflow.python.keras.layers.core.Activation object at 0x7fb29be21e10>\n",
      "Layer 114 (Non-trainable): <tensorflow.python.keras.layers.convolutional.Conv2D object at 0x7fb29be2b3c8>\n",
      "Layer 115 (Non-trainable): <tensorflow.python.keras.layers.normalization_v2.BatchNormalization object at 0x7fb29be2bac8>\n",
      "Layer 116 (Non-trainable): <tensorflow.python.keras.layers.core.Activation object at 0x7fb29be36240>\n",
      "Layer 117 (Non-trainable): <tensorflow.python.keras.layers.convolutional.Conv2D object at 0x7fb29be36828>\n",
      "Layer 118 (Non-trainable): <tensorflow.python.keras.layers.normalization_v2.BatchNormalization object at 0x7fb29be36f28>\n",
      "Layer 119 (Non-trainable): <tensorflow.python.keras.layers.merge.Add object at 0x7fb29be3f748>\n",
      "Layer 120 (Non-trainable): <tensorflow.python.keras.layers.core.Activation object at 0x7fb29be3fa20>\n",
      "Layer 121 (Non-trainable): <tensorflow.python.keras.layers.convolutional.Conv2D object at 0x7fb29be3ff98>\n",
      "Layer 122 (Non-trainable): <tensorflow.python.keras.layers.normalization_v2.BatchNormalization object at 0x7fb29bdc96d8>\n",
      "Layer 123 (Non-trainable): <tensorflow.python.keras.layers.core.Activation object at 0x7fb29bdc9e10>\n",
      "Layer 124 (Non-trainable): <tensorflow.python.keras.layers.convolutional.Conv2D object at 0x7fb29bdd3438>\n",
      "Layer 125 (Non-trainable): <tensorflow.python.keras.layers.normalization_v2.BatchNormalization object at 0x7fb29bdd3b38>\n",
      "Layer 126 (Non-trainable): <tensorflow.python.keras.layers.merge.Add object at 0x7fb29bddd358>\n",
      "Layer 127 (Non-trainable): <tensorflow.python.keras.layers.core.Activation object at 0x7fb29bddd630>\n",
      "Layer 128 (Non-trainable): <tensorflow.python.keras.layers.pooling.GlobalAveragePooling2D object at 0x7fb29bddd9e8>\n",
      "Layer 129 (Non-trainable): <tensorflow.python.keras.engine.base_layer.TensorFlowOpLayer object at 0x7fb29b370748>\n",
      "Layer 130 (Non-trainable): <tensorflow.python.keras.engine.base_layer.TensorFlowOpLayer object at 0x7fb29b6e7ba8>\n",
      "Layer 131 (Non-trainable): <tensorflow.python.keras.engine.base_layer.TensorFlowOpLayer object at 0x7fb29b370e48>\n",
      "Layer 132 (Trainable): <tensorflow.python.keras.layers.core.Dense object at 0x7fb2a1e6e208>\n"
     ]
    }
   ],
   "source": [
    "for i, layer in enumerate(model_3.layers):\n",
    "    if layer.name == 'fc':\n",
    "        layer.trainable = True \n",
    "        print(f\"Layer {i} (Trainable): {layer}\")\n",
    "    elif layer.name == 'tf_op_layer_MatMul_4':\n",
    "        layer.trainable = True \n",
    "        print(f\"Layer {i} (Trainable): {layer}\")\n",
    "    elif layer.name == 'tf_op_layer_AddV2_4':\n",
    "        layer.trainable = True \n",
    "        print(f\"Layer {i} (Trainable): {layer}\")\n",
    "    elif layer.name == 'tf_op_layer_Identity_4':\n",
    "        layer.trainable = True \n",
    "        print(f\"Layer {i} (Trainable): {layer}\")\n",
    "    else:\n",
    "        layer.trainable = False \n",
    "        print(f\"Layer {i} (Non-trainable): {layer}\")"
   ]
  },
  {
   "cell_type": "code",
   "execution_count": 16,
   "metadata": {},
   "outputs": [],
   "source": [
    "# Now we can prepaire our model for training\n",
    "\n",
    "model_3.compile(optimizer='Adam', loss='categorical_crossentropy', metrics=['accuracy'])"
   ]
  },
  {
   "cell_type": "code",
   "execution_count": 17,
   "metadata": {
    "scrolled": false
   },
   "outputs": [
    {
     "name": "stdout",
     "output_type": "stream",
     "text": [
      "Model: \"functional_7\"\n",
      "__________________________________________________________________________________________________\n",
      "Layer (type)                    Output Shape         Param #     Connected to                     \n",
      "==================================================================================================\n",
      "input_1 (InputLayer)            [(None, 244, 244, 3) 0                                            \n",
      "__________________________________________________________________________________________________\n",
      "pad (ZeroPadding2D)             (None, 250, 250, 3)  0           input_1[0][0]                    \n",
      "__________________________________________________________________________________________________\n",
      "conv1 (Conv2D)                  (None, 122, 122, 64) 9408        pad[0][0]                        \n",
      "__________________________________________________________________________________________________\n",
      "bn1 (BatchNormalization)        (None, 122, 122, 64) 256         conv1[0][0]                      \n",
      "__________________________________________________________________________________________________\n",
      "relu (Activation)               (None, 122, 122, 64) 0           bn1[0][0]                        \n",
      "__________________________________________________________________________________________________\n",
      "pad1 (ZeroPadding2D)            (None, 124, 124, 64) 0           relu[0][0]                       \n",
      "__________________________________________________________________________________________________\n",
      "maxpool (MaxPooling2D)          (None, 61, 61, 64)   0           pad1[0][0]                       \n",
      "__________________________________________________________________________________________________\n",
      "layer1.0.conv1 (Conv2D)         (None, 61, 61, 64)   36864       maxpool[0][0]                    \n",
      "__________________________________________________________________________________________________\n",
      "layer1.0.bn1 (BatchNormalizatio (None, 61, 61, 64)   256         layer1.0.conv1[0][0]             \n",
      "__________________________________________________________________________________________________\n",
      "activation (Activation)         (None, 61, 61, 64)   0           layer1.0.bn1[0][0]               \n",
      "__________________________________________________________________________________________________\n",
      "layer1.0.conv2 (Conv2D)         (None, 61, 61, 64)   36864       activation[0][0]                 \n",
      "__________________________________________________________________________________________________\n",
      "layer1.0.bn2 (BatchNormalizatio (None, 61, 61, 64)   256         layer1.0.conv2[0][0]             \n",
      "__________________________________________________________________________________________________\n",
      "add (Add)                       (None, 61, 61, 64)   0           maxpool[0][0]                    \n",
      "                                                                 layer1.0.bn2[0][0]               \n",
      "__________________________________________________________________________________________________\n",
      "activation_1 (Activation)       (None, 61, 61, 64)   0           add[0][0]                        \n",
      "__________________________________________________________________________________________________\n",
      "layer1.1.conv1 (Conv2D)         (None, 61, 61, 64)   36864       activation_1[0][0]               \n",
      "__________________________________________________________________________________________________\n",
      "layer1.1.bn1 (BatchNormalizatio (None, 61, 61, 64)   256         layer1.1.conv1[0][0]             \n",
      "__________________________________________________________________________________________________\n",
      "activation_2 (Activation)       (None, 61, 61, 64)   0           layer1.1.bn1[0][0]               \n",
      "__________________________________________________________________________________________________\n",
      "layer1.1.conv2 (Conv2D)         (None, 61, 61, 64)   36864       activation_2[0][0]               \n",
      "__________________________________________________________________________________________________\n",
      "layer1.1.bn2 (BatchNormalizatio (None, 61, 61, 64)   256         layer1.1.conv2[0][0]             \n",
      "__________________________________________________________________________________________________\n",
      "add_1 (Add)                     (None, 61, 61, 64)   0           activation_1[0][0]               \n",
      "                                                                 layer1.1.bn2[0][0]               \n",
      "__________________________________________________________________________________________________\n",
      "activation_3 (Activation)       (None, 61, 61, 64)   0           add_1[0][0]                      \n",
      "__________________________________________________________________________________________________\n",
      "layer1.2.conv1 (Conv2D)         (None, 61, 61, 64)   36864       activation_3[0][0]               \n",
      "__________________________________________________________________________________________________\n",
      "layer1.2.bn1 (BatchNormalizatio (None, 61, 61, 64)   256         layer1.2.conv1[0][0]             \n",
      "__________________________________________________________________________________________________\n",
      "activation_4 (Activation)       (None, 61, 61, 64)   0           layer1.2.bn1[0][0]               \n",
      "__________________________________________________________________________________________________\n",
      "layer1.2.conv2 (Conv2D)         (None, 61, 61, 64)   36864       activation_4[0][0]               \n",
      "__________________________________________________________________________________________________\n",
      "layer1.2.bn2 (BatchNormalizatio (None, 61, 61, 64)   256         layer1.2.conv2[0][0]             \n",
      "__________________________________________________________________________________________________\n",
      "add_2 (Add)                     (None, 61, 61, 64)   0           activation_3[0][0]               \n",
      "                                                                 layer1.2.bn2[0][0]               \n",
      "__________________________________________________________________________________________________\n",
      "activation_5 (Activation)       (None, 61, 61, 64)   0           add_2[0][0]                      \n",
      "__________________________________________________________________________________________________\n",
      "layer2.0.pad (ZeroPadding2D)    (None, 63, 63, 64)   0           activation_5[0][0]               \n",
      "__________________________________________________________________________________________________\n",
      "layer2.0.conv1 (Conv2D)         (None, 31, 31, 128)  73728       layer2.0.pad[0][0]               \n",
      "__________________________________________________________________________________________________\n",
      "layer2.0.bn1 (BatchNormalizatio (None, 31, 31, 128)  512         layer2.0.conv1[0][0]             \n",
      "__________________________________________________________________________________________________\n",
      "activation_6 (Activation)       (None, 31, 31, 128)  0           layer2.0.bn1[0][0]               \n",
      "__________________________________________________________________________________________________\n",
      "layer2.0.downsample.0 (Conv2D)  (None, 31, 31, 128)  8192        activation_5[0][0]               \n",
      "__________________________________________________________________________________________________\n",
      "layer2.0.conv2 (Conv2D)         (None, 31, 31, 128)  147456      activation_6[0][0]               \n",
      "__________________________________________________________________________________________________\n",
      "layer2.0.downsample.1 (BatchNor (None, 31, 31, 128)  512         layer2.0.downsample.0[0][0]      \n",
      "__________________________________________________________________________________________________\n",
      "layer2.0.bn2 (BatchNormalizatio (None, 31, 31, 128)  512         layer2.0.conv2[0][0]             \n",
      "__________________________________________________________________________________________________\n",
      "add_3 (Add)                     (None, 31, 31, 128)  0           layer2.0.downsample.1[0][0]      \n",
      "                                                                 layer2.0.bn2[0][0]               \n",
      "__________________________________________________________________________________________________\n",
      "activation_7 (Activation)       (None, 31, 31, 128)  0           add_3[0][0]                      \n",
      "__________________________________________________________________________________________________\n",
      "layer2.1.conv1 (Conv2D)         (None, 31, 31, 128)  147456      activation_7[0][0]               \n",
      "__________________________________________________________________________________________________\n",
      "layer2.1.bn1 (BatchNormalizatio (None, 31, 31, 128)  512         layer2.1.conv1[0][0]             \n",
      "__________________________________________________________________________________________________\n",
      "activation_8 (Activation)       (None, 31, 31, 128)  0           layer2.1.bn1[0][0]               \n",
      "__________________________________________________________________________________________________\n",
      "layer2.1.conv2 (Conv2D)         (None, 31, 31, 128)  147456      activation_8[0][0]               \n",
      "__________________________________________________________________________________________________\n",
      "layer2.1.bn2 (BatchNormalizatio (None, 31, 31, 128)  512         layer2.1.conv2[0][0]             \n",
      "__________________________________________________________________________________________________\n",
      "add_4 (Add)                     (None, 31, 31, 128)  0           activation_7[0][0]               \n",
      "                                                                 layer2.1.bn2[0][0]               \n",
      "__________________________________________________________________________________________________\n",
      "activation_9 (Activation)       (None, 31, 31, 128)  0           add_4[0][0]                      \n",
      "__________________________________________________________________________________________________\n",
      "layer2.2.conv1 (Conv2D)         (None, 31, 31, 128)  147456      activation_9[0][0]               \n",
      "__________________________________________________________________________________________________\n",
      "layer2.2.bn1 (BatchNormalizatio (None, 31, 31, 128)  512         layer2.2.conv1[0][0]             \n",
      "__________________________________________________________________________________________________\n",
      "activation_10 (Activation)      (None, 31, 31, 128)  0           layer2.2.bn1[0][0]               \n",
      "__________________________________________________________________________________________________\n",
      "layer2.2.conv2 (Conv2D)         (None, 31, 31, 128)  147456      activation_10[0][0]              \n",
      "__________________________________________________________________________________________________\n",
      "layer2.2.bn2 (BatchNormalizatio (None, 31, 31, 128)  512         layer2.2.conv2[0][0]             \n",
      "__________________________________________________________________________________________________\n",
      "add_5 (Add)                     (None, 31, 31, 128)  0           activation_9[0][0]               \n",
      "                                                                 layer2.2.bn2[0][0]               \n",
      "__________________________________________________________________________________________________\n",
      "activation_11 (Activation)      (None, 31, 31, 128)  0           add_5[0][0]                      \n",
      "__________________________________________________________________________________________________\n",
      "layer2.3.conv1 (Conv2D)         (None, 31, 31, 128)  147456      activation_11[0][0]              \n",
      "__________________________________________________________________________________________________\n",
      "layer2.3.bn1 (BatchNormalizatio (None, 31, 31, 128)  512         layer2.3.conv1[0][0]             \n",
      "__________________________________________________________________________________________________\n",
      "activation_12 (Activation)      (None, 31, 31, 128)  0           layer2.3.bn1[0][0]               \n",
      "__________________________________________________________________________________________________\n",
      "layer2.3.conv2 (Conv2D)         (None, 31, 31, 128)  147456      activation_12[0][0]              \n",
      "__________________________________________________________________________________________________\n",
      "layer2.3.bn2 (BatchNormalizatio (None, 31, 31, 128)  512         layer2.3.conv2[0][0]             \n",
      "__________________________________________________________________________________________________\n",
      "add_6 (Add)                     (None, 31, 31, 128)  0           activation_11[0][0]              \n",
      "                                                                 layer2.3.bn2[0][0]               \n",
      "__________________________________________________________________________________________________\n",
      "activation_13 (Activation)      (None, 31, 31, 128)  0           add_6[0][0]                      \n",
      "__________________________________________________________________________________________________\n",
      "layer3.0.pad (ZeroPadding2D)    (None, 33, 33, 128)  0           activation_13[0][0]              \n",
      "__________________________________________________________________________________________________\n",
      "layer3.0.conv1 (Conv2D)         (None, 16, 16, 256)  294912      layer3.0.pad[0][0]               \n",
      "__________________________________________________________________________________________________\n",
      "layer3.0.bn1 (BatchNormalizatio (None, 16, 16, 256)  1024        layer3.0.conv1[0][0]             \n",
      "__________________________________________________________________________________________________\n",
      "activation_14 (Activation)      (None, 16, 16, 256)  0           layer3.0.bn1[0][0]               \n",
      "__________________________________________________________________________________________________\n",
      "layer3.0.downsample.0 (Conv2D)  (None, 16, 16, 256)  32768       activation_13[0][0]              \n",
      "__________________________________________________________________________________________________\n",
      "layer3.0.conv2 (Conv2D)         (None, 16, 16, 256)  589824      activation_14[0][0]              \n",
      "__________________________________________________________________________________________________\n",
      "layer3.0.downsample.1 (BatchNor (None, 16, 16, 256)  1024        layer3.0.downsample.0[0][0]      \n",
      "__________________________________________________________________________________________________\n",
      "layer3.0.bn2 (BatchNormalizatio (None, 16, 16, 256)  1024        layer3.0.conv2[0][0]             \n",
      "__________________________________________________________________________________________________\n",
      "add_7 (Add)                     (None, 16, 16, 256)  0           layer3.0.downsample.1[0][0]      \n",
      "                                                                 layer3.0.bn2[0][0]               \n",
      "__________________________________________________________________________________________________\n",
      "activation_15 (Activation)      (None, 16, 16, 256)  0           add_7[0][0]                      \n",
      "__________________________________________________________________________________________________\n",
      "layer3.1.conv1 (Conv2D)         (None, 16, 16, 256)  589824      activation_15[0][0]              \n",
      "__________________________________________________________________________________________________\n",
      "layer3.1.bn1 (BatchNormalizatio (None, 16, 16, 256)  1024        layer3.1.conv1[0][0]             \n",
      "__________________________________________________________________________________________________\n",
      "activation_16 (Activation)      (None, 16, 16, 256)  0           layer3.1.bn1[0][0]               \n",
      "__________________________________________________________________________________________________\n",
      "layer3.1.conv2 (Conv2D)         (None, 16, 16, 256)  589824      activation_16[0][0]              \n",
      "__________________________________________________________________________________________________\n",
      "layer3.1.bn2 (BatchNormalizatio (None, 16, 16, 256)  1024        layer3.1.conv2[0][0]             \n",
      "__________________________________________________________________________________________________\n",
      "add_8 (Add)                     (None, 16, 16, 256)  0           activation_15[0][0]              \n",
      "                                                                 layer3.1.bn2[0][0]               \n",
      "__________________________________________________________________________________________________\n",
      "activation_17 (Activation)      (None, 16, 16, 256)  0           add_8[0][0]                      \n",
      "__________________________________________________________________________________________________\n",
      "layer3.2.conv1 (Conv2D)         (None, 16, 16, 256)  589824      activation_17[0][0]              \n",
      "__________________________________________________________________________________________________\n",
      "layer3.2.bn1 (BatchNormalizatio (None, 16, 16, 256)  1024        layer3.2.conv1[0][0]             \n",
      "__________________________________________________________________________________________________\n",
      "activation_18 (Activation)      (None, 16, 16, 256)  0           layer3.2.bn1[0][0]               \n",
      "__________________________________________________________________________________________________\n",
      "layer3.2.conv2 (Conv2D)         (None, 16, 16, 256)  589824      activation_18[0][0]              \n",
      "__________________________________________________________________________________________________\n",
      "layer3.2.bn2 (BatchNormalizatio (None, 16, 16, 256)  1024        layer3.2.conv2[0][0]             \n",
      "__________________________________________________________________________________________________\n",
      "add_9 (Add)                     (None, 16, 16, 256)  0           activation_17[0][0]              \n",
      "                                                                 layer3.2.bn2[0][0]               \n",
      "__________________________________________________________________________________________________\n",
      "activation_19 (Activation)      (None, 16, 16, 256)  0           add_9[0][0]                      \n",
      "__________________________________________________________________________________________________\n",
      "layer3.3.conv1 (Conv2D)         (None, 16, 16, 256)  589824      activation_19[0][0]              \n",
      "__________________________________________________________________________________________________\n",
      "layer3.3.bn1 (BatchNormalizatio (None, 16, 16, 256)  1024        layer3.3.conv1[0][0]             \n",
      "__________________________________________________________________________________________________\n",
      "activation_20 (Activation)      (None, 16, 16, 256)  0           layer3.3.bn1[0][0]               \n",
      "__________________________________________________________________________________________________\n",
      "layer3.3.conv2 (Conv2D)         (None, 16, 16, 256)  589824      activation_20[0][0]              \n",
      "__________________________________________________________________________________________________\n",
      "layer3.3.bn2 (BatchNormalizatio (None, 16, 16, 256)  1024        layer3.3.conv2[0][0]             \n",
      "__________________________________________________________________________________________________\n",
      "add_10 (Add)                    (None, 16, 16, 256)  0           activation_19[0][0]              \n",
      "                                                                 layer3.3.bn2[0][0]               \n",
      "__________________________________________________________________________________________________\n",
      "activation_21 (Activation)      (None, 16, 16, 256)  0           add_10[0][0]                     \n",
      "__________________________________________________________________________________________________\n",
      "layer3.4.conv1 (Conv2D)         (None, 16, 16, 256)  589824      activation_21[0][0]              \n",
      "__________________________________________________________________________________________________\n",
      "layer3.4.bn1 (BatchNormalizatio (None, 16, 16, 256)  1024        layer3.4.conv1[0][0]             \n",
      "__________________________________________________________________________________________________\n",
      "activation_22 (Activation)      (None, 16, 16, 256)  0           layer3.4.bn1[0][0]               \n",
      "__________________________________________________________________________________________________\n",
      "layer3.4.conv2 (Conv2D)         (None, 16, 16, 256)  589824      activation_22[0][0]              \n",
      "__________________________________________________________________________________________________\n",
      "layer3.4.bn2 (BatchNormalizatio (None, 16, 16, 256)  1024        layer3.4.conv2[0][0]             \n",
      "__________________________________________________________________________________________________\n",
      "add_11 (Add)                    (None, 16, 16, 256)  0           activation_21[0][0]              \n",
      "                                                                 layer3.4.bn2[0][0]               \n",
      "__________________________________________________________________________________________________\n",
      "activation_23 (Activation)      (None, 16, 16, 256)  0           add_11[0][0]                     \n",
      "__________________________________________________________________________________________________\n",
      "layer3.5.conv1 (Conv2D)         (None, 16, 16, 256)  589824      activation_23[0][0]              \n",
      "__________________________________________________________________________________________________\n",
      "layer3.5.bn1 (BatchNormalizatio (None, 16, 16, 256)  1024        layer3.5.conv1[0][0]             \n",
      "__________________________________________________________________________________________________\n",
      "activation_24 (Activation)      (None, 16, 16, 256)  0           layer3.5.bn1[0][0]               \n",
      "__________________________________________________________________________________________________\n",
      "layer3.5.conv2 (Conv2D)         (None, 16, 16, 256)  589824      activation_24[0][0]              \n",
      "__________________________________________________________________________________________________\n",
      "layer3.5.bn2 (BatchNormalizatio (None, 16, 16, 256)  1024        layer3.5.conv2[0][0]             \n",
      "__________________________________________________________________________________________________\n",
      "add_12 (Add)                    (None, 16, 16, 256)  0           activation_23[0][0]              \n",
      "                                                                 layer3.5.bn2[0][0]               \n",
      "__________________________________________________________________________________________________\n",
      "activation_25 (Activation)      (None, 16, 16, 256)  0           add_12[0][0]                     \n",
      "__________________________________________________________________________________________________\n",
      "layer4.0.pad (ZeroPadding2D)    (None, 18, 18, 256)  0           activation_25[0][0]              \n",
      "__________________________________________________________________________________________________\n",
      "layer4.0.conv1 (Conv2D)         (None, 8, 8, 512)    1179648     layer4.0.pad[0][0]               \n",
      "__________________________________________________________________________________________________\n",
      "layer4.0.bn1 (BatchNormalizatio (None, 8, 8, 512)    2048        layer4.0.conv1[0][0]             \n",
      "__________________________________________________________________________________________________\n",
      "activation_26 (Activation)      (None, 8, 8, 512)    0           layer4.0.bn1[0][0]               \n",
      "__________________________________________________________________________________________________\n",
      "layer4.0.downsample.0 (Conv2D)  (None, 8, 8, 512)    131072      activation_25[0][0]              \n",
      "__________________________________________________________________________________________________\n",
      "layer4.0.conv2 (Conv2D)         (None, 8, 8, 512)    2359296     activation_26[0][0]              \n",
      "__________________________________________________________________________________________________\n",
      "layer4.0.downsample.1 (BatchNor (None, 8, 8, 512)    2048        layer4.0.downsample.0[0][0]      \n",
      "__________________________________________________________________________________________________\n",
      "layer4.0.bn2 (BatchNormalizatio (None, 8, 8, 512)    2048        layer4.0.conv2[0][0]             \n",
      "__________________________________________________________________________________________________\n",
      "add_13 (Add)                    (None, 8, 8, 512)    0           layer4.0.downsample.1[0][0]      \n",
      "                                                                 layer4.0.bn2[0][0]               \n",
      "__________________________________________________________________________________________________\n",
      "activation_27 (Activation)      (None, 8, 8, 512)    0           add_13[0][0]                     \n",
      "__________________________________________________________________________________________________\n",
      "layer4.1.conv1 (Conv2D)         (None, 8, 8, 512)    2359296     activation_27[0][0]              \n",
      "__________________________________________________________________________________________________\n",
      "layer4.1.bn1 (BatchNormalizatio (None, 8, 8, 512)    2048        layer4.1.conv1[0][0]             \n",
      "__________________________________________________________________________________________________\n",
      "activation_28 (Activation)      (None, 8, 8, 512)    0           layer4.1.bn1[0][0]               \n",
      "__________________________________________________________________________________________________\n",
      "layer4.1.conv2 (Conv2D)         (None, 8, 8, 512)    2359296     activation_28[0][0]              \n",
      "__________________________________________________________________________________________________\n",
      "layer4.1.bn2 (BatchNormalizatio (None, 8, 8, 512)    2048        layer4.1.conv2[0][0]             \n",
      "__________________________________________________________________________________________________\n",
      "add_14 (Add)                    (None, 8, 8, 512)    0           activation_27[0][0]              \n",
      "                                                                 layer4.1.bn2[0][0]               \n",
      "__________________________________________________________________________________________________\n",
      "activation_29 (Activation)      (None, 8, 8, 512)    0           add_14[0][0]                     \n",
      "__________________________________________________________________________________________________\n",
      "layer4.2.conv1 (Conv2D)         (None, 8, 8, 512)    2359296     activation_29[0][0]              \n",
      "__________________________________________________________________________________________________\n",
      "layer4.2.bn1 (BatchNormalizatio (None, 8, 8, 512)    2048        layer4.2.conv1[0][0]             \n",
      "__________________________________________________________________________________________________\n",
      "activation_30 (Activation)      (None, 8, 8, 512)    0           layer4.2.bn1[0][0]               \n",
      "__________________________________________________________________________________________________\n",
      "layer4.2.conv2 (Conv2D)         (None, 8, 8, 512)    2359296     activation_30[0][0]              \n",
      "__________________________________________________________________________________________________\n",
      "layer4.2.bn2 (BatchNormalizatio (None, 8, 8, 512)    2048        layer4.2.conv2[0][0]             \n",
      "__________________________________________________________________________________________________\n",
      "add_15 (Add)                    (None, 8, 8, 512)    0           activation_29[0][0]              \n",
      "                                                                 layer4.2.bn2[0][0]               \n",
      "__________________________________________________________________________________________________\n",
      "activation_31 (Activation)      (None, 8, 8, 512)    0           add_15[0][0]                     \n",
      "__________________________________________________________________________________________________\n",
      "avgpool (GlobalAveragePooling2D (None, 512)          0           activation_31[0][0]              \n",
      "__________________________________________________________________________________________________\n",
      "tf_op_layer_MatMul (TensorFlowO [(None, 512)]        0           avgpool[0][0]                    \n",
      "__________________________________________________________________________________________________\n",
      "tf_op_layer_AddV2 (TensorFlowOp [(None, 512)]        0           tf_op_layer_MatMul[0][0]         \n",
      "__________________________________________________________________________________________________\n",
      "tf_op_layer_Identity (TensorFlo [(None, 512)]        0           tf_op_layer_AddV2[0][0]          \n",
      "__________________________________________________________________________________________________\n",
      "fc (Dense)                      (None, 7)            3591        tf_op_layer_Identity[0][0]       \n",
      "==================================================================================================\n",
      "Total params: 21,305,287\n",
      "Trainable params: 3,591\n",
      "Non-trainable params: 21,301,696\n",
      "__________________________________________________________________________________________________\n"
     ]
    }
   ],
   "source": [
    "model_3.summary()"
   ]
  },
  {
   "cell_type": "markdown",
   "metadata": {},
   "source": [
    "# Preparing Input Data"
   ]
  },
  {
   "cell_type": "code",
   "execution_count": 18,
   "metadata": {},
   "outputs": [],
   "source": [
    "main_dir = './FairFace/fairface-img-margin025-trainval/'"
   ]
  },
  {
   "cell_type": "markdown",
   "metadata": {},
   "source": [
    "### Cleaning Data First"
   ]
  },
  {
   "cell_type": "code",
   "execution_count": 19,
   "metadata": {},
   "outputs": [
    {
     "name": "stdout",
     "output_type": "stream",
     "text": [
      "0 jpeg files removed out of 86744 in folder ./FairFace/fairface-img-margin025-trainval/train/\n",
      "0 jpeg files removed out of 10954 in folder ./FairFace/fairface-img-margin025-trainval/val/\n"
     ]
    }
   ],
   "source": [
    "# Remove corrupted images from data.\n",
    "\n",
    "from PIL import Image\n",
    "import piexif\n",
    "\n",
    "def is_valid_jpg(filename):\n",
    "    try:\n",
    "        i=Image.open(filename)\n",
    "        return i.format =='JPEG'\n",
    "    except IOError:\n",
    "        return False\n",
    "\n",
    "def remove_corrupted_images_from_folder(cdir, verbose=False):\n",
    "    total=0\n",
    "    counter = 0\n",
    "    for subdir, dirs, files in os.walk(cdir):\n",
    "        for filename in files:\n",
    "            filepath = subdir + os.sep + filename\n",
    "            if filepath.endswith(\".jpg\") or filepath.endswith(\".png\"):\n",
    "                total += 1\n",
    "                if not is_valid_jpg(filepath):\n",
    "                    counter +=1\n",
    "                    os.remove(filepath)\n",
    "                    if (verbose):\n",
    "                        print(f\"--Removed file ${filepath}\")\n",
    "    print(f\"{counter} jpeg files removed out of {total} in folder {cdir}\")\n",
    "\n",
    "train_dir = main_dir + 'train/'\n",
    "val_dir = main_dir + 'val/'\n",
    "\n",
    "\n",
    "remove_corrupted_images_from_folder(train_dir,verbose=True) \n",
    "remove_corrupted_images_from_folder(val_dir,verbose=True)"
   ]
  },
  {
   "cell_type": "markdown",
   "metadata": {},
   "source": [
    "### Splitting Data By Race"
   ]
  },
  {
   "cell_type": "markdown",
   "metadata": {},
   "source": [
    "FairFace model predicts race, age, and gender. We will only focus on race for our model. FairFace provides a csv with all the locations and labels for their pictures, so we will be manipulating this csv to only focus on the Race label and move the images to their own subdirectories in /train and /val for the image datagen."
   ]
  },
  {
   "cell_type": "code",
   "execution_count": 20,
   "metadata": {},
   "outputs": [],
   "source": [
    "import pandas as pd\n",
    "\n",
    "train_labels = pd.read_csv(main_dir + 'fairface_label_train.csv')\n",
    "val_labels = pd.read_csv(main_dir + 'fairface_label_val.csv')\n",
    "\n",
    "races_list = list(train_labels['race'].unique())\n",
    "\n",
    "train_labels['copy_to'] = train_labels.apply(lambda x: 'train/' + x['race'] + '/', axis=1)\n",
    "val_labels['copy_to'] = val_labels.apply(lambda x: 'val/' + x['race'] + '/', axis=1)\n",
    "\n",
    "train_labels = train_labels[['file','copy_to']]\n",
    "val_labels = val_labels[['file','copy_to']]"
   ]
  },
  {
   "cell_type": "code",
   "execution_count": 21,
   "metadata": {},
   "outputs": [
    {
     "data": {
      "text/html": [
       "<div>\n",
       "<style scoped>\n",
       "    .dataframe tbody tr th:only-of-type {\n",
       "        vertical-align: middle;\n",
       "    }\n",
       "\n",
       "    .dataframe tbody tr th {\n",
       "        vertical-align: top;\n",
       "    }\n",
       "\n",
       "    .dataframe thead th {\n",
       "        text-align: right;\n",
       "    }\n",
       "</style>\n",
       "<table border=\"1\" class=\"dataframe\">\n",
       "  <thead>\n",
       "    <tr style=\"text-align: right;\">\n",
       "      <th></th>\n",
       "      <th>file</th>\n",
       "      <th>copy_to</th>\n",
       "    </tr>\n",
       "  </thead>\n",
       "  <tbody>\n",
       "    <tr>\n",
       "      <th>0</th>\n",
       "      <td>train/1.jpg</td>\n",
       "      <td>train/East Asian/</td>\n",
       "    </tr>\n",
       "    <tr>\n",
       "      <th>1</th>\n",
       "      <td>train/2.jpg</td>\n",
       "      <td>train/Indian/</td>\n",
       "    </tr>\n",
       "    <tr>\n",
       "      <th>2</th>\n",
       "      <td>train/3.jpg</td>\n",
       "      <td>train/Black/</td>\n",
       "    </tr>\n",
       "    <tr>\n",
       "      <th>3</th>\n",
       "      <td>train/4.jpg</td>\n",
       "      <td>train/Indian/</td>\n",
       "    </tr>\n",
       "    <tr>\n",
       "      <th>4</th>\n",
       "      <td>train/5.jpg</td>\n",
       "      <td>train/Indian/</td>\n",
       "    </tr>\n",
       "  </tbody>\n",
       "</table>\n",
       "</div>"
      ],
      "text/plain": [
       "          file            copy_to\n",
       "0  train/1.jpg  train/East Asian/\n",
       "1  train/2.jpg      train/Indian/\n",
       "2  train/3.jpg       train/Black/\n",
       "3  train/4.jpg      train/Indian/\n",
       "4  train/5.jpg      train/Indian/"
      ]
     },
     "execution_count": 21,
     "metadata": {},
     "output_type": "execute_result"
    }
   ],
   "source": [
    "train_labels.head(5)"
   ]
  },
  {
   "cell_type": "code",
   "execution_count": 22,
   "metadata": {},
   "outputs": [
    {
     "data": {
      "text/html": [
       "<div>\n",
       "<style scoped>\n",
       "    .dataframe tbody tr th:only-of-type {\n",
       "        vertical-align: middle;\n",
       "    }\n",
       "\n",
       "    .dataframe tbody tr th {\n",
       "        vertical-align: top;\n",
       "    }\n",
       "\n",
       "    .dataframe thead th {\n",
       "        text-align: right;\n",
       "    }\n",
       "</style>\n",
       "<table border=\"1\" class=\"dataframe\">\n",
       "  <thead>\n",
       "    <tr style=\"text-align: right;\">\n",
       "      <th></th>\n",
       "      <th>file</th>\n",
       "      <th>copy_to</th>\n",
       "    </tr>\n",
       "  </thead>\n",
       "  <tbody>\n",
       "    <tr>\n",
       "      <th>0</th>\n",
       "      <td>val/1.jpg</td>\n",
       "      <td>val/East Asian/</td>\n",
       "    </tr>\n",
       "    <tr>\n",
       "      <th>1</th>\n",
       "      <td>val/2.jpg</td>\n",
       "      <td>val/East Asian/</td>\n",
       "    </tr>\n",
       "    <tr>\n",
       "      <th>2</th>\n",
       "      <td>val/3.jpg</td>\n",
       "      <td>val/White/</td>\n",
       "    </tr>\n",
       "    <tr>\n",
       "      <th>3</th>\n",
       "      <td>val/4.jpg</td>\n",
       "      <td>val/Latino_Hispanic/</td>\n",
       "    </tr>\n",
       "    <tr>\n",
       "      <th>4</th>\n",
       "      <td>val/5.jpg</td>\n",
       "      <td>val/Southeast Asian/</td>\n",
       "    </tr>\n",
       "  </tbody>\n",
       "</table>\n",
       "</div>"
      ],
      "text/plain": [
       "        file               copy_to\n",
       "0  val/1.jpg       val/East Asian/\n",
       "1  val/2.jpg       val/East Asian/\n",
       "2  val/3.jpg            val/White/\n",
       "3  val/4.jpg  val/Latino_Hispanic/\n",
       "4  val/5.jpg  val/Southeast Asian/"
      ]
     },
     "execution_count": 22,
     "metadata": {},
     "output_type": "execute_result"
    }
   ],
   "source": [
    "val_labels.head(5)"
   ]
  },
  {
   "cell_type": "code",
   "execution_count": null,
   "metadata": {},
   "outputs": [],
   "source": [
    "import shutil\n",
    "\n",
    "for race in races_list:\n",
    "    for folder in ['train/','val/']:\n",
    "        os.mkdir(main_dir + folder + race)\n",
    "\n",
    "for idx, row in train_labels.iterrows():\n",
    "    shutil.move(main_dir + row['file'], main_dir + row['copy_to'])\n",
    "    \n",
    "for idx, row in val_labels.iterrows():\n",
    "    shutil.move(main_dir + row['file'], main_dir + row['copy_to'])"
   ]
  },
  {
   "cell_type": "markdown",
   "metadata": {},
   "source": [
    "### Image Data Generators"
   ]
  },
  {
   "cell_type": "code",
   "execution_count": 85,
   "metadata": {},
   "outputs": [
    {
     "name": "stdout",
     "output_type": "stream",
     "text": [
      "Found 86744 images belonging to 7 classes.\n",
      "Found 10954 images belonging to 7 classes.\n"
     ]
    }
   ],
   "source": [
    "img_datagen = ImageDataGenerator(rescale=1./255,\n",
    "                            rotation_range=10,\n",
    "                            width_shift_range=0.2,\n",
    "                            height_shift_range=0.2,\n",
    "                            horizontal_flip=True) \n",
    "\n",
    "\n",
    "train_generator = img_datagen.flow_from_directory(train_dir,\n",
    "                                                  target_size=(224,224),\n",
    "                                                  batch_size=5,\n",
    "                                                  class_mode='categorical')\n",
    "\n",
    "validation_generator = img_datagen.flow_from_directory(val_dir,\n",
    "                                                       target_size=(224,224),\n",
    "                                                       batch_size=5,\n",
    "                                                       class_mode='categorical')\n",
    "\n",
    "\n",
    "\n",
    "step_size_train = train_generator.n / train_generator.batch_size\n",
    "step_size_valid = validation_generator.n / validation_generator.batch_size"
   ]
  },
  {
   "cell_type": "markdown",
   "metadata": {},
   "source": [
    "# Training and Testing"
   ]
  },
  {
   "cell_type": "markdown",
   "metadata": {},
   "source": [
    "### Early Stopping and Model Callback"
   ]
  },
  {
   "cell_type": "code",
   "execution_count": 24,
   "metadata": {},
   "outputs": [],
   "source": [
    "es = EarlyStopping(monitor='val_loss',\n",
    "                   mode='min',\n",
    "                   patience=10,\n",
    "                   min_delta=0.01)"
   ]
  },
  {
   "cell_type": "code",
   "execution_count": 25,
   "metadata": {},
   "outputs": [],
   "source": [
    "model_1_checkpoint_filepath = main_dir + 'checkpoints/model_1'\n",
    "model_1_checkpoint_callback = ModelCheckpoint(filepath=model_1_checkpoint_filepath,\n",
    "                                            save_weights_only=True,\n",
    "                                            monitor='val_accuracy',\n",
    "                                            mode='max',\n",
    "                                            save_best_only=True)"
   ]
  },
  {
   "cell_type": "code",
   "execution_count": 26,
   "metadata": {},
   "outputs": [],
   "source": [
    "model_2_checkpoint_filepath = main_dir + 'checkpoints/model_2'\n",
    "model_2_checkpoint_callback = ModelCheckpoint(filepath=model_2_checkpoint_filepath,\n",
    "                                            save_weights_only=True,\n",
    "                                            monitor='val_accuracy',\n",
    "                                            mode='max',\n",
    "                                            save_best_only=True)"
   ]
  },
  {
   "cell_type": "code",
   "execution_count": 27,
   "metadata": {},
   "outputs": [],
   "source": [
    "model_3_checkpoint_filepath = main_dir + 'checkpoints/model_3'\n",
    "model_3_checkpoint_callback = ModelCheckpoint(filepath=model_3_checkpoint_filepath,\n",
    "                                            save_weights_only=True,\n",
    "                                            monitor='val_accuracy',\n",
    "                                            mode='max',\n",
    "                                            save_best_only=True)"
   ]
  },
  {
   "cell_type": "markdown",
   "metadata": {},
   "source": [
    "### Training all 3 models:"
   ]
  },
  {
   "cell_type": "code",
   "execution_count": 28,
   "metadata": {},
   "outputs": [],
   "source": [
    "epochs = 30"
   ]
  },
  {
   "cell_type": "code",
   "execution_count": 29,
   "metadata": {
    "scrolled": false
   },
   "outputs": [
    {
     "name": "stdout",
     "output_type": "stream",
     "text": [
      "Epoch 1/30\n",
      "17349/17348 [==============================] - 698s 40ms/step - loss: 2.5499 - accuracy: 0.2125 - val_loss: 2.6367 - val_accuracy: 0.2269\n",
      "Epoch 2/30\n",
      "17349/17348 [==============================] - 698s 40ms/step - loss: 2.4767 - accuracy: 0.2306 - val_loss: 2.5170 - val_accuracy: 0.2049\n",
      "Epoch 3/30\n",
      "17349/17348 [==============================] - 698s 40ms/step - loss: 2.4456 - accuracy: 0.2370 - val_loss: 3.0768 - val_accuracy: 0.2102\n",
      "Epoch 4/30\n",
      "17349/17348 [==============================] - 696s 40ms/step - loss: 2.4361 - accuracy: 0.2423 - val_loss: 3.8957 - val_accuracy: 0.2016\n",
      "Epoch 5/30\n",
      "17349/17348 [==============================] - 698s 40ms/step - loss: 2.4437 - accuracy: 0.2421 - val_loss: 2.2769 - val_accuracy: 0.2676\n",
      "Epoch 6/30\n",
      "17349/17348 [==============================] - 699s 40ms/step - loss: 2.4196 - accuracy: 0.2453 - val_loss: 2.4870 - val_accuracy: 0.2930\n",
      "Epoch 7/30\n",
      "17349/17348 [==============================] - 700s 40ms/step - loss: 2.4186 - accuracy: 0.2478 - val_loss: 2.0168 - val_accuracy: 0.2810\n",
      "Epoch 8/30\n",
      "17349/17348 [==============================] - 698s 40ms/step - loss: 2.4302 - accuracy: 0.2498 - val_loss: 2.0561 - val_accuracy: 0.2773\n",
      "Epoch 9/30\n",
      "17349/17348 [==============================] - 673s 39ms/step - loss: 2.4118 - accuracy: 0.2493 - val_loss: 2.2880 - val_accuracy: 0.2951\n",
      "Epoch 10/30\n",
      "17349/17348 [==============================] - 665s 38ms/step - loss: 2.4080 - accuracy: 0.2515 - val_loss: 2.2253 - val_accuracy: 0.2322\n",
      "Epoch 11/30\n",
      "17349/17348 [==============================] - 664s 38ms/step - loss: 2.4122 - accuracy: 0.2531 - val_loss: 2.4278 - val_accuracy: 0.2642\n",
      "Epoch 12/30\n",
      "17349/17348 [==============================] - 665s 38ms/step - loss: 2.4284 - accuracy: 0.2506 - val_loss: 2.1542 - val_accuracy: 0.2374\n",
      "Epoch 13/30\n",
      "17349/17348 [==============================] - 665s 38ms/step - loss: 2.4138 - accuracy: 0.2567 - val_loss: 2.1573 - val_accuracy: 0.2601\n",
      "Epoch 14/30\n",
      "17349/17348 [==============================] - 664s 38ms/step - loss: 2.4190 - accuracy: 0.2541 - val_loss: 2.0768 - val_accuracy: 0.2466\n",
      "Epoch 15/30\n",
      "17349/17348 [==============================] - 665s 38ms/step - loss: 2.4018 - accuracy: 0.2527 - val_loss: 2.4443 - val_accuracy: 0.3019\n",
      "Epoch 16/30\n",
      "17349/17348 [==============================] - 665s 38ms/step - loss: 2.4165 - accuracy: 0.2537 - val_loss: 2.1025 - val_accuracy: 0.2563\n",
      "Epoch 17/30\n",
      "17349/17348 [==============================] - 665s 38ms/step - loss: 2.4044 - accuracy: 0.2568 - val_loss: 2.2415 - val_accuracy: 0.2406\n"
     ]
    }
   ],
   "source": [
    "hist1 = model_1.fit(train_generator,\n",
    "                    steps_per_epoch=step_size_train,\n",
    "                    epochs=epochs,\n",
    "                    validation_data=validation_generator,\n",
    "                    validation_steps=step_size_valid,\n",
    "                    callbacks=[es,model_1_checkpoint_callback])"
   ]
  },
  {
   "cell_type": "code",
   "execution_count": 30,
   "metadata": {},
   "outputs": [
    {
     "name": "stdout",
     "output_type": "stream",
     "text": [
      "Epoch 1/30\n",
      "17349/17348 [==============================] - 666s 38ms/step - loss: 3.7599 - accuracy: 0.1778 - val_loss: 2.6529 - val_accuracy: 0.2066\n",
      "Epoch 2/30\n",
      "17349/17348 [==============================] - 664s 38ms/step - loss: 3.2562 - accuracy: 0.1819 - val_loss: 3.1150 - val_accuracy: 0.2195\n",
      "Epoch 3/30\n",
      "17349/17348 [==============================] - 665s 38ms/step - loss: 3.2346 - accuracy: 0.1808 - val_loss: 2.2023 - val_accuracy: 0.2336\n",
      "Epoch 4/30\n",
      "17349/17348 [==============================] - 664s 38ms/step - loss: 3.2316 - accuracy: 0.1815 - val_loss: 3.1716 - val_accuracy: 0.1435\n",
      "Epoch 5/30\n",
      "17349/17348 [==============================] - 664s 38ms/step - loss: 3.2504 - accuracy: 0.1819 - val_loss: 3.2331 - val_accuracy: 0.1658\n",
      "Epoch 6/30\n",
      "17349/17348 [==============================] - 664s 38ms/step - loss: 3.2584 - accuracy: 0.1818 - val_loss: 2.7294 - val_accuracy: 0.2022\n",
      "Epoch 7/30\n",
      "17349/17348 [==============================] - 664s 38ms/step - loss: 3.2229 - accuracy: 0.1828 - val_loss: 2.6385 - val_accuracy: 0.1750\n",
      "Epoch 8/30\n",
      "17349/17348 [==============================] - 664s 38ms/step - loss: 3.2491 - accuracy: 0.1831 - val_loss: 2.3410 - val_accuracy: 0.2160\n",
      "Epoch 9/30\n",
      "17349/17348 [==============================] - 664s 38ms/step - loss: 3.2570 - accuracy: 0.1816 - val_loss: 2.4231 - val_accuracy: 0.1951\n",
      "Epoch 10/30\n",
      "17349/17348 [==============================] - 664s 38ms/step - loss: 3.2486 - accuracy: 0.1820 - val_loss: 4.0341 - val_accuracy: 0.1541\n",
      "Epoch 11/30\n",
      "17349/17348 [==============================] - 665s 38ms/step - loss: 3.2432 - accuracy: 0.1819 - val_loss: 2.0273 - val_accuracy: 0.2241\n",
      "Epoch 12/30\n",
      "17349/17348 [==============================] - 665s 38ms/step - loss: 3.2572 - accuracy: 0.1822 - val_loss: 2.0357 - val_accuracy: 0.2199\n",
      "Epoch 13/30\n",
      "17349/17348 [==============================] - 665s 38ms/step - loss: 3.2567 - accuracy: 0.1826 - val_loss: 2.2301 - val_accuracy: 0.2000\n",
      "Epoch 14/30\n",
      "17349/17348 [==============================] - 665s 38ms/step - loss: 3.2367 - accuracy: 0.1828 - val_loss: 2.4716 - val_accuracy: 0.1785\n",
      "Epoch 15/30\n",
      "17349/17348 [==============================] - 666s 38ms/step - loss: 3.2433 - accuracy: 0.1808 - val_loss: 3.0243 - val_accuracy: 0.1629\n",
      "Epoch 16/30\n",
      "17349/17348 [==============================] - 665s 38ms/step - loss: 3.2432 - accuracy: 0.1830 - val_loss: 2.3814 - val_accuracy: 0.1871\n",
      "Epoch 17/30\n",
      "17349/17348 [==============================] - 665s 38ms/step - loss: 3.2606 - accuracy: 0.1806 - val_loss: 3.6267 - val_accuracy: 0.2000\n",
      "Epoch 18/30\n",
      "17349/17348 [==============================] - 665s 38ms/step - loss: 3.2381 - accuracy: 0.1834 - val_loss: 2.6804 - val_accuracy: 0.2320\n",
      "Epoch 19/30\n",
      "17349/17348 [==============================] - 664s 38ms/step - loss: 3.2649 - accuracy: 0.1834 - val_loss: 2.7953 - val_accuracy: 0.1847\n",
      "Epoch 20/30\n",
      "17349/17348 [==============================] - 665s 38ms/step - loss: 3.2589 - accuracy: 0.1815 - val_loss: 2.8331 - val_accuracy: 0.2261\n",
      "Epoch 21/30\n",
      "17349/17348 [==============================] - 666s 38ms/step - loss: 3.2299 - accuracy: 0.1824 - val_loss: 2.4594 - val_accuracy: 0.1734\n"
     ]
    }
   ],
   "source": [
    "hist2 = model_2.fit(train_generator,\n",
    "                    steps_per_epoch=step_size_train,\n",
    "                    epochs=epochs,\n",
    "                    validation_data=validation_generator,\n",
    "                    validation_steps=step_size_valid,\n",
    "                    callbacks=[es,model_2_checkpoint_callback])"
   ]
  },
  {
   "cell_type": "code",
   "execution_count": 31,
   "metadata": {
    "scrolled": false
   },
   "outputs": [
    {
     "name": "stdout",
     "output_type": "stream",
     "text": [
      "Epoch 1/30\n",
      "17349/17348 [==============================] - 667s 38ms/step - loss: 2.0040 - accuracy: 0.2288 - val_loss: 2.0707 - val_accuracy: 0.2437\n",
      "Epoch 2/30\n",
      "17349/17348 [==============================] - 665s 38ms/step - loss: 1.9761 - accuracy: 0.2414 - val_loss: 2.2442 - val_accuracy: 0.2535\n",
      "Epoch 3/30\n",
      "17349/17348 [==============================] - 665s 38ms/step - loss: 1.9627 - accuracy: 0.2450 - val_loss: 1.9842 - val_accuracy: 0.2904\n",
      "Epoch 4/30\n",
      "17349/17348 [==============================] - 665s 38ms/step - loss: 1.9582 - accuracy: 0.2507 - val_loss: 1.9157 - val_accuracy: 0.2381\n",
      "Epoch 5/30\n",
      "17349/17348 [==============================] - 664s 38ms/step - loss: 1.9539 - accuracy: 0.2552 - val_loss: 1.9458 - val_accuracy: 0.2552\n",
      "Epoch 6/30\n",
      "17349/17348 [==============================] - 664s 38ms/step - loss: 1.9434 - accuracy: 0.2565 - val_loss: 1.8819 - val_accuracy: 0.2705\n",
      "Epoch 7/30\n",
      "17349/17348 [==============================] - 664s 38ms/step - loss: 1.9478 - accuracy: 0.2586 - val_loss: 1.9992 - val_accuracy: 0.2557\n",
      "Epoch 8/30\n",
      "17349/17348 [==============================] - 665s 38ms/step - loss: 1.9378 - accuracy: 0.2608 - val_loss: 1.9523 - val_accuracy: 0.2605\n",
      "Epoch 9/30\n",
      "17349/17348 [==============================] - 665s 38ms/step - loss: 1.9315 - accuracy: 0.2629 - val_loss: 1.8214 - val_accuracy: 0.2769\n",
      "Epoch 10/30\n",
      "17349/17348 [==============================] - 665s 38ms/step - loss: 1.9320 - accuracy: 0.2624 - val_loss: 1.9086 - val_accuracy: 0.2971\n",
      "Epoch 11/30\n",
      "17349/17348 [==============================] - 665s 38ms/step - loss: 1.9346 - accuracy: 0.2634 - val_loss: 1.8957 - val_accuracy: 0.2963\n",
      "Epoch 12/30\n",
      "17349/17348 [==============================] - 665s 38ms/step - loss: 1.9370 - accuracy: 0.2631 - val_loss: 1.9369 - val_accuracy: 0.2745\n",
      "Epoch 13/30\n",
      "17349/17348 [==============================] - 665s 38ms/step - loss: 1.9299 - accuracy: 0.2658 - val_loss: 1.9979 - val_accuracy: 0.2964\n",
      "Epoch 14/30\n",
      "17349/17348 [==============================] - 664s 38ms/step - loss: 1.9260 - accuracy: 0.2688 - val_loss: 2.0574 - val_accuracy: 0.2752\n",
      "Epoch 15/30\n",
      "17349/17348 [==============================] - 666s 38ms/step - loss: 1.9278 - accuracy: 0.2673 - val_loss: 1.8523 - val_accuracy: 0.3001\n",
      "Epoch 16/30\n",
      "17349/17348 [==============================] - 665s 38ms/step - loss: 1.9249 - accuracy: 0.2671 - val_loss: 1.8638 - val_accuracy: 0.2709\n",
      "Epoch 17/30\n",
      "17349/17348 [==============================] - 665s 38ms/step - loss: 1.9229 - accuracy: 0.2688 - val_loss: 1.8816 - val_accuracy: 0.2862\n",
      "Epoch 18/30\n",
      "17349/17348 [==============================] - 666s 38ms/step - loss: 1.9189 - accuracy: 0.2690 - val_loss: 1.8027 - val_accuracy: 0.3025\n",
      "Epoch 19/30\n",
      "17349/17348 [==============================] - 665s 38ms/step - loss: 1.9228 - accuracy: 0.2689 - val_loss: 1.9967 - val_accuracy: 0.2376\n",
      "Epoch 20/30\n",
      "17349/17348 [==============================] - 666s 38ms/step - loss: 1.9210 - accuracy: 0.2706 - val_loss: 1.8613 - val_accuracy: 0.2827\n",
      "Epoch 21/30\n",
      "17349/17348 [==============================] - 665s 38ms/step - loss: 1.9220 - accuracy: 0.2708 - val_loss: 1.8618 - val_accuracy: 0.2882\n",
      "Epoch 22/30\n",
      "17349/17348 [==============================] - 665s 38ms/step - loss: 1.9243 - accuracy: 0.2698 - val_loss: 1.9563 - val_accuracy: 0.2657\n",
      "Epoch 23/30\n",
      "17349/17348 [==============================] - 666s 38ms/step - loss: 1.9152 - accuracy: 0.2721 - val_loss: 2.1856 - val_accuracy: 0.2259\n",
      "Epoch 24/30\n",
      "17349/17348 [==============================] - 665s 38ms/step - loss: 1.9162 - accuracy: 0.2729 - val_loss: 1.8964 - val_accuracy: 0.2720\n",
      "Epoch 25/30\n",
      "17349/17348 [==============================] - 666s 38ms/step - loss: 1.9155 - accuracy: 0.2732 - val_loss: 1.8481 - val_accuracy: 0.2930\n",
      "Epoch 26/30\n",
      "17349/17348 [==============================] - 666s 38ms/step - loss: 1.9181 - accuracy: 0.2742 - val_loss: 1.8552 - val_accuracy: 0.2731\n",
      "Epoch 27/30\n",
      "17349/17348 [==============================] - 665s 38ms/step - loss: 1.9193 - accuracy: 0.2708 - val_loss: 1.9075 - val_accuracy: 0.3187\n",
      "Epoch 28/30\n",
      "17349/17348 [==============================] - 666s 38ms/step - loss: 1.9157 - accuracy: 0.2735 - val_loss: 1.8178 - val_accuracy: 0.2942\n"
     ]
    }
   ],
   "source": [
    "hist3 = model_3.fit(train_generator,\n",
    "                    steps_per_epoch=step_size_train,\n",
    "                    epochs=epochs,\n",
    "                    validation_data=validation_generator,\n",
    "                    validation_steps=step_size_valid,\n",
    "                    callbacks=[es,model_3_checkpoint_callback])"
   ]
  },
  {
   "cell_type": "markdown",
   "metadata": {},
   "source": [
    "# Evaluating Initial Results"
   ]
  },
  {
   "cell_type": "code",
   "execution_count": 40,
   "metadata": {},
   "outputs": [],
   "source": [
    "def plot_results(hist,title):\n",
    "    plt.figure(figsize=(10,10))\n",
    "    plt.subplot(2,2,1)\n",
    "    plt.plot(hist.history['loss'],label='train loss')\n",
    "    plt.plot(hist.history['val_loss'],label='val loss')\n",
    "    plt.title(title + ' Loss')\n",
    "    plt.legend()\n",
    "    plt.subplot(2,2,2)\n",
    "    plt.plot(hist.history['accuracy'],label='train accuracy')\n",
    "    plt.plot(hist.history['val_accuracy'],label='val accuracy')\n",
    "    plt.title(title + ' Accuracy')\n",
    "    plt.legend()\n",
    "    plt.show()"
   ]
  },
  {
   "cell_type": "code",
   "execution_count": 41,
   "metadata": {
    "scrolled": true
   },
   "outputs": [
    {
     "data": {
      "image/png": "[encoded data removed]",
      "text/plain": [
       "<Figure size 720x720 with 2 Axes>"
      ]
     },
     "metadata": {
      "needs_background": "light"
     },
     "output_type": "display_data"
    }
   ],
   "source": [
    "plot_results(hist1, 'ResNet34 FairFace')"
   ]
  },
  {
   "cell_type": "code",
   "execution_count": 94,
   "metadata": {},
   "outputs": [
    {
     "name": "stdout",
     "output_type": "stream",
     "text": [
      "Model 1 accuracy: 24.06%\n",
      "Model 1 loss:\t224.15%\n"
     ]
    }
   ],
   "source": [
    "print('Model 1 accuracy: {:2.2%}'.format(0.2406))\n",
    "print('Model 1 loss:\\t{:2.2%}'.format(2.2415))"
   ]
  },
  {
   "cell_type": "code",
   "execution_count": 42,
   "metadata": {
    "scrolled": false
   },
   "outputs": [
    {
     "data": {
      "image/png": "[encoded data removed]",
      "text/plain": [
       "<Figure size 720x720 with 2 Axes>"
      ]
     },
     "metadata": {
      "needs_background": "light"
     },
     "output_type": "display_data"
    }
   ],
   "source": [
    "plot_results(hist2, 'ResNet34 w/Dropout FairFace')"
   ]
  },
  {
   "cell_type": "code",
   "execution_count": 95,
   "metadata": {},
   "outputs": [
    {
     "name": "stdout",
     "output_type": "stream",
     "text": [
      "Model 2 accuracy: 17.34%\n",
      "Model 2 loss:\t245.94%\n"
     ]
    }
   ],
   "source": [
    "print('Model 2 accuracy: {:2.2%}'.format(0.1734))\n",
    "print('Model 2 loss:\\t{:2.2%}'.format(2.4594))"
   ]
  },
  {
   "cell_type": "code",
   "execution_count": 43,
   "metadata": {
    "scrolled": true
   },
   "outputs": [
    {
     "data": {
      "image/png": "[encoded data removed]",
      "text/plain": [
       "<Figure size 720x720 with 2 Axes>"
      ]
     },
     "metadata": {
      "needs_background": "light"
     },
     "output_type": "display_data"
    }
   ],
   "source": [
    "plot_results(hist3, 'ResNet34 w/Bayesian Dropout FairFace')"
   ]
  },
  {
   "cell_type": "code",
   "execution_count": 96,
   "metadata": {},
   "outputs": [
    {
     "name": "stdout",
     "output_type": "stream",
     "text": [
      "Model 3 accuracy: 29.42%\n",
      "Model 3 loss:\t181.78%\n"
     ]
    }
   ],
   "source": [
    "print('Model 3 accuracy: {:2.2%}'.format(0.2942))\n",
    "print('Model 3 loss:\\t{:2.2%}'.format(1.8178))"
   ]
  },
  {
   "cell_type": "markdown",
   "metadata": {},
   "source": [
    "#### We can see that while there is an improvement in models 1 and 3, a regular dropout layer has a negative impact on model 2's loss and accuracy. Now that the classifier level is trained, we can save these models and set all parameters to trainable, to see if this can improve accuracy. Currently, the accuracy even on training is still very low and the loss on training still very high."
   ]
  },
  {
   "cell_type": "code",
   "execution_count": 44,
   "metadata": {
    "scrolled": true
   },
   "outputs": [
    {
     "name": "stdout",
     "output_type": "stream",
     "text": [
      "INFO:tensorflow:Assets written to: ./models/model_1/assets\n",
      "INFO:tensorflow:Assets written to: ./models/model_2/assets\n",
      "INFO:tensorflow:Assets written to: ./models/model_3/assets\n"
     ]
    }
   ],
   "source": [
    "model_1.save('./models/model_1/')\n",
    "model_2.save('./models/model_2/')\n",
    "model_3.save('./models/model_3/')"
   ]
  },
  {
   "cell_type": "code",
   "execution_count": 62,
   "metadata": {},
   "outputs": [],
   "source": [
    "model_1 = M.load_model('./models/model_1/')\n",
    "model_2 = M.load_model('./models/model_2/')\n",
    "model_3 = M.load_model('./models/model_3/')"
   ]
  },
  {
   "cell_type": "code",
   "execution_count": 63,
   "metadata": {},
   "outputs": [],
   "source": [
    "for i, layer in enumerate(model_1.layers):\n",
    "    if layer.name == 'fc':\n",
    "        layer.trainable = False \n",
    "#         print(f\"Layer {i} (Trainable): {layer}\")\n",
    "    else:\n",
    "        layer.trainable = True \n",
    "#         print(f\"Layer {i} (Non-trainable): {layer}\")"
   ]
  },
  {
   "cell_type": "code",
   "execution_count": 64,
   "metadata": {},
   "outputs": [],
   "source": [
    "for i, layer in enumerate(model_2.layers):\n",
    "    if layer.name == 'fc':\n",
    "        layer.trainable = False\n",
    "    elif layer.name == 'AddedDropout':\n",
    "        layer.trainable = False\n",
    "#         print(f\"Layer {i} (Trainable): {layer}\")\n",
    "    else:\n",
    "        layer.trainable = True\n",
    "#         print(f\"Layer {i} (Non-trainable): {layer}\")"
   ]
  },
  {
   "cell_type": "code",
   "execution_count": 65,
   "metadata": {},
   "outputs": [],
   "source": [
    "for i, layer in enumerate(model_3.layers):\n",
    "    if layer.name == 'fc':\n",
    "        layer.trainable = False\n",
    "#         print(f\"Layer {i} (Trainable): {layer}\")\n",
    "    elif layer.name == 'tf_op_layer_MatMul_4':\n",
    "        layer.trainable = False\n",
    "#         print(f\"Layer {i} (Trainable): {layer}\")\n",
    "    elif layer.name == 'tf_op_layer_AddV2_4':\n",
    "        layer.trainable = False\n",
    "#         print(f\"Layer {i} (Trainable): {layer}\")\n",
    "    elif layer.name == 'tf_op_layer_Identity_4':\n",
    "        layer.trainable = False\n",
    "#         print(f\"Layer {i} (Trainable): {layer}\")\n",
    "    else:\n",
    "        layer.trainable = True\n",
    "#         print(f\"Layer {i} (Non-trainable): {layer}\")"
   ]
  },
  {
   "cell_type": "markdown",
   "metadata": {},
   "source": [
    "# Training again, with hidden layers trainable."
   ]
  },
  {
   "cell_type": "code",
   "execution_count": 66,
   "metadata": {},
   "outputs": [],
   "source": [
    "epochs = 20"
   ]
  },
  {
   "cell_type": "code",
   "execution_count": 67,
   "metadata": {
    "scrolled": false
   },
   "outputs": [
    {
     "name": "stdout",
     "output_type": "stream",
     "text": [
      "Epoch 1/20\n",
      "    2/17348 [..............................] - ETA: 10:11 - loss: 6.4420 - accuracy: 0.3000WARNING:tensorflow:Callbacks method `on_train_batch_end` is slow compared to the batch time (batch time: 0.0233s vs `on_train_batch_end` time: 0.0472s). Check your callbacks.\n",
      "17349/17348 [==============================] - 1279s 74ms/step - loss: 2.0084 - accuracy: 0.1975 - val_loss: 1.9304 - val_accuracy: 0.2376\n",
      "Epoch 2/20\n",
      "17349/17348 [==============================] - 1277s 74ms/step - loss: 1.9053 - accuracy: 0.2372 - val_loss: 6.9022 - val_accuracy: 0.2387\n",
      "Epoch 3/20\n",
      "17349/17348 [==============================] - 1277s 74ms/step - loss: 1.7178 - accuracy: 0.3266 - val_loss: 12.0381 - val_accuracy: 0.2916\n",
      "Epoch 4/20\n",
      "17349/17348 [==============================] - 1277s 74ms/step - loss: 1.4336 - accuracy: 0.4433 - val_loss: 1.6628 - val_accuracy: 0.4619\n",
      "Epoch 5/20\n",
      "17349/17348 [==============================] - 1277s 74ms/step - loss: 1.2703 - accuracy: 0.5083 - val_loss: 1.2289 - val_accuracy: 0.5278\n",
      "Epoch 6/20\n",
      "17349/17348 [==============================] - 1276s 74ms/step - loss: 1.1771 - accuracy: 0.5453 - val_loss: 1.1562 - val_accuracy: 0.5552\n",
      "Epoch 7/20\n",
      "17349/17348 [==============================] - 1276s 74ms/step - loss: 1.1183 - accuracy: 0.5682 - val_loss: 1.1088 - val_accuracy: 0.5769\n",
      "Epoch 8/20\n",
      "17349/17348 [==============================] - 1276s 74ms/step - loss: 1.0774 - accuracy: 0.5845 - val_loss: 1.6616 - val_accuracy: 0.5186\n",
      "Epoch 9/20\n",
      "17349/17348 [==============================] - 1276s 74ms/step - loss: 1.0393 - accuracy: 0.5989 - val_loss: 1.1466 - val_accuracy: 0.5753\n",
      "Epoch 10/20\n",
      "17349/17348 [==============================] - 1277s 74ms/step - loss: 1.0104 - accuracy: 0.6106 - val_loss: 1.0148 - val_accuracy: 0.6150\n",
      "Epoch 11/20\n",
      "17349/17348 [==============================] - 1275s 74ms/step - loss: 0.9867 - accuracy: 0.6213 - val_loss: 1.0799 - val_accuracy: 0.5923\n",
      "Epoch 12/20\n",
      "17349/17348 [==============================] - 1274s 73ms/step - loss: 0.9667 - accuracy: 0.6273 - val_loss: 1.0634 - val_accuracy: 0.6009\n",
      "Epoch 13/20\n",
      "17349/17348 [==============================] - 1276s 74ms/step - loss: 0.9465 - accuracy: 0.6362 - val_loss: 0.9819 - val_accuracy: 0.6322\n",
      "Epoch 14/20\n",
      "17349/17348 [==============================] - 1275s 73ms/step - loss: 0.9286 - accuracy: 0.6431 - val_loss: 1.0114 - val_accuracy: 0.6166\n",
      "Epoch 15/20\n",
      "17349/17348 [==============================] - 1276s 74ms/step - loss: 0.9126 - accuracy: 0.6487 - val_loss: 1.0024 - val_accuracy: 0.6201\n",
      "Epoch 16/20\n",
      "17349/17348 [==============================] - 1281s 74ms/step - loss: 0.8968 - accuracy: 0.6543 - val_loss: 1.2718 - val_accuracy: 0.6042\n",
      "Epoch 17/20\n",
      "17349/17348 [==============================] - 1280s 74ms/step - loss: 0.8838 - accuracy: 0.6608 - val_loss: 1.0495 - val_accuracy: 0.6097\n",
      "Epoch 18/20\n",
      "17349/17348 [==============================] - 1275s 73ms/step - loss: 0.8726 - accuracy: 0.6654 - val_loss: 0.9695 - val_accuracy: 0.6311\n",
      "Epoch 19/20\n",
      "17349/17348 [==============================] - 1275s 73ms/step - loss: 0.8587 - accuracy: 0.6715 - val_loss: 0.9978 - val_accuracy: 0.6254\n",
      "Epoch 20/20\n",
      "17349/17348 [==============================] - 1276s 74ms/step - loss: 0.8468 - accuracy: 0.6760 - val_loss: 0.9498 - val_accuracy: 0.6424\n"
     ]
    }
   ],
   "source": [
    "hist1_1 = model_1.fit(train_generator,\n",
    "                    steps_per_epoch=step_size_train,\n",
    "                    epochs=epochs,\n",
    "                    validation_data=validation_generator,\n",
    "                    validation_steps=step_size_valid,\n",
    "                    callbacks=[es,model_1_checkpoint_callback])"
   ]
  },
  {
   "cell_type": "code",
   "execution_count": 71,
   "metadata": {},
   "outputs": [
    {
     "name": "stdout",
     "output_type": "stream",
     "text": [
      "Epoch 1/20\n",
      "    2/17348 [..............................] - ETA: 13:39 - loss: 2.1415 - accuracy: 0.2000WARNING:tensorflow:Callbacks method `on_train_batch_end` is slow compared to the batch time (batch time: 0.0328s vs `on_train_batch_end` time: 0.0617s). Check your callbacks.\n",
      "17349/17348 [==============================] - 1694s 98ms/step - loss: 1.7549 - accuracy: 0.3129 - val_loss: 1.6561 - val_accuracy: 0.3589\n",
      "Epoch 2/20\n",
      "17349/17348 [==============================] - 1709s 99ms/step - loss: 1.5675 - accuracy: 0.3925 - val_loss: 2.7422 - val_accuracy: 0.4149\n",
      "Epoch 3/20\n",
      "17349/17348 [==============================] - 1688s 97ms/step - loss: 1.4006 - accuracy: 0.4610 - val_loss: 1.2999 - val_accuracy: 0.5029\n",
      "Epoch 4/20\n",
      "17349/17348 [==============================] - 1407s 81ms/step - loss: 1.2860 - accuracy: 0.5038 - val_loss: 1.2708 - val_accuracy: 0.5121\n",
      "Epoch 5/20\n",
      "17349/17348 [==============================] - 1291s 74ms/step - loss: 1.2174 - accuracy: 0.5323 - val_loss: 1.2177 - val_accuracy: 0.5359\n",
      "Epoch 6/20\n",
      "17349/17348 [==============================] - 1280s 74ms/step - loss: 1.1714 - accuracy: 0.5509 - val_loss: 1.2448 - val_accuracy: 0.5303\n",
      "Epoch 7/20\n",
      "17349/17348 [==============================] - 1280s 74ms/step - loss: 1.1280 - accuracy: 0.5675 - val_loss: 1.1605 - val_accuracy: 0.5514\n",
      "Epoch 8/20\n",
      "17349/17348 [==============================] - 1279s 74ms/step - loss: 1.0947 - accuracy: 0.5804 - val_loss: 1.1353 - val_accuracy: 0.5773\n",
      "Epoch 9/20\n",
      "17349/17348 [==============================] - 1279s 74ms/step - loss: 1.0644 - accuracy: 0.5907 - val_loss: 1.0616 - val_accuracy: 0.5899\n",
      "Epoch 10/20\n",
      "17349/17348 [==============================] - 1279s 74ms/step - loss: 1.0438 - accuracy: 0.5997 - val_loss: 1.1424 - val_accuracy: 0.5829\n",
      "Epoch 11/20\n",
      "17349/17348 [==============================] - 1279s 74ms/step - loss: 1.0220 - accuracy: 0.6081 - val_loss: 1.1624 - val_accuracy: 0.5844\n",
      "Epoch 12/20\n",
      "17349/17348 [==============================] - 1278s 74ms/step - loss: 1.0066 - accuracy: 0.6128 - val_loss: 10.9125 - val_accuracy: 0.5197\n",
      "Epoch 13/20\n",
      "17349/17348 [==============================] - 1277s 74ms/step - loss: 0.9856 - accuracy: 0.6217 - val_loss: 4.9755 - val_accuracy: 0.5154\n",
      "Epoch 14/20\n",
      "17349/17348 [==============================] - 1278s 74ms/step - loss: 0.9743 - accuracy: 0.6272 - val_loss: 1.0118 - val_accuracy: 0.6170\n",
      "Epoch 15/20\n",
      "17349/17348 [==============================] - 1277s 74ms/step - loss: 0.9605 - accuracy: 0.6321 - val_loss: 4.9478 - val_accuracy: 0.4966\n",
      "Epoch 16/20\n",
      "17349/17348 [==============================] - 1277s 74ms/step - loss: 0.9457 - accuracy: 0.6394 - val_loss: 1.3469 - val_accuracy: 0.6054\n",
      "Epoch 17/20\n",
      "17349/17348 [==============================] - 1278s 74ms/step - loss: 0.9367 - accuracy: 0.6437 - val_loss: 1.0083 - val_accuracy: 0.6134\n",
      "Epoch 18/20\n",
      "17349/17348 [==============================] - 1278s 74ms/step - loss: 0.9248 - accuracy: 0.6481 - val_loss: 0.9975 - val_accuracy: 0.6215\n",
      "Epoch 19/20\n",
      "17349/17348 [==============================] - 1279s 74ms/step - loss: 0.9132 - accuracy: 0.6523 - val_loss: 0.9662 - val_accuracy: 0.6350\n",
      "Epoch 20/20\n",
      "17349/17348 [==============================] - 1278s 74ms/step - loss: 0.9024 - accuracy: 0.6567 - val_loss: 1.5285 - val_accuracy: 0.6115\n"
     ]
    }
   ],
   "source": [
    "hist2_1 = model_2.fit(train_generator,\n",
    "                    steps_per_epoch=step_size_train,\n",
    "                    epochs=epochs,\n",
    "                    validation_data=validation_generator,\n",
    "                    validation_steps=step_size_valid,\n",
    "                    callbacks=[es,model_2_checkpoint_callback])"
   ]
  },
  {
   "cell_type": "code",
   "execution_count": 72,
   "metadata": {
    "scrolled": false
   },
   "outputs": [
    {
     "name": "stdout",
     "output_type": "stream",
     "text": [
      "Epoch 1/20\n",
      "    2/17348 [..............................] - ETA: 11:03 - loss: 2.6584 - accuracy: 0.1000 WARNING:tensorflow:Callbacks method `on_train_batch_end` is slow compared to the batch time (batch time: 0.0258s vs `on_train_batch_end` time: 0.0507s). Check your callbacks.\n",
      "17349/17348 [==============================] - 1269s 73ms/step - loss: 1.8572 - accuracy: 0.2577 - val_loss: 1.8583 - val_accuracy: 0.3276\n",
      "Epoch 2/20\n",
      "17349/17348 [==============================] - 1270s 73ms/step - loss: 1.5121 - accuracy: 0.4140 - val_loss: 1.5242 - val_accuracy: 0.4410\n",
      "Epoch 3/20\n",
      "17349/17348 [==============================] - 1278s 74ms/step - loss: 1.2886 - accuracy: 0.5011 - val_loss: 1.2741 - val_accuracy: 0.5307\n",
      "Epoch 4/20\n",
      "17349/17348 [==============================] - 1277s 74ms/step - loss: 1.1782 - accuracy: 0.5442 - val_loss: 1.1588 - val_accuracy: 0.5550\n",
      "Epoch 5/20\n",
      "17349/17348 [==============================] - 1277s 74ms/step - loss: 1.1133 - accuracy: 0.5711 - val_loss: 1.0819 - val_accuracy: 0.5844\n",
      "Epoch 6/20\n",
      "17349/17348 [==============================] - 1278s 74ms/step - loss: 1.0659 - accuracy: 0.5887 - val_loss: 1.0648 - val_accuracy: 0.5889\n",
      "Epoch 7/20\n",
      "17349/17348 [==============================] - 1277s 74ms/step - loss: 1.0299 - accuracy: 0.6020 - val_loss: 1.0918 - val_accuracy: 0.5949\n",
      "Epoch 8/20\n",
      "17349/17348 [==============================] - 1277s 74ms/step - loss: 0.9998 - accuracy: 0.6146 - val_loss: 1.1097 - val_accuracy: 0.6008\n",
      "Epoch 9/20\n",
      "17349/17348 [==============================] - 1276s 74ms/step - loss: 0.9757 - accuracy: 0.6252 - val_loss: 1.0568 - val_accuracy: 0.5917\n",
      "Epoch 10/20\n",
      "17349/17348 [==============================] - 1277s 74ms/step - loss: 0.9530 - accuracy: 0.6315 - val_loss: 0.9841 - val_accuracy: 0.6270\n",
      "Epoch 11/20\n",
      "17349/17348 [==============================] - 1277s 74ms/step - loss: 0.9338 - accuracy: 0.6432 - val_loss: 0.9765 - val_accuracy: 0.6305\n",
      "Epoch 12/20\n",
      "17349/17348 [==============================] - 1276s 74ms/step - loss: 0.9147 - accuracy: 0.6487 - val_loss: 0.9801 - val_accuracy: 0.6237\n",
      "Epoch 13/20\n",
      "17349/17348 [==============================] - 1277s 74ms/step - loss: 0.8967 - accuracy: 0.6575 - val_loss: 0.9428 - val_accuracy: 0.6399\n",
      "Epoch 14/20\n",
      "17349/17348 [==============================] - 1277s 74ms/step - loss: 0.8824 - accuracy: 0.6617 - val_loss: 0.9322 - val_accuracy: 0.6456\n",
      "Epoch 15/20\n",
      "17349/17348 [==============================] - 1277s 74ms/step - loss: 0.8714 - accuracy: 0.6661 - val_loss: 0.9721 - val_accuracy: 0.6375\n",
      "Epoch 16/20\n",
      "17349/17348 [==============================] - 1277s 74ms/step - loss: 0.8568 - accuracy: 0.6717 - val_loss: 0.9816 - val_accuracy: 0.6320\n",
      "Epoch 17/20\n",
      "17349/17348 [==============================] - 1276s 74ms/step - loss: 0.8433 - accuracy: 0.6780 - val_loss: 0.9574 - val_accuracy: 0.6344\n",
      "Epoch 18/20\n",
      "17349/17348 [==============================] - 1276s 74ms/step - loss: 0.8318 - accuracy: 0.6841 - val_loss: 0.9425 - val_accuracy: 0.6420\n",
      "Epoch 19/20\n",
      "17349/17348 [==============================] - 1287s 74ms/step - loss: 0.8197 - accuracy: 0.6870 - val_loss: 0.9831 - val_accuracy: 0.6380\n",
      "Epoch 20/20\n",
      "17349/17348 [==============================] - 1260s 73ms/step - loss: 0.8107 - accuracy: 0.6900 - val_loss: 0.9547 - val_accuracy: 0.6450\n"
     ]
    }
   ],
   "source": [
    "hist3_1 = model_3.fit(train_generator,\n",
    "                    steps_per_epoch=step_size_train,\n",
    "                    epochs=epochs,\n",
    "                    validation_data=validation_generator,\n",
    "                    validation_steps=step_size_valid,\n",
    "                    callbacks=[es,model_3_checkpoint_callback])"
   ]
  },
  {
   "cell_type": "markdown",
   "metadata": {},
   "source": [
    "### Lets see the results of this training, where everything but the last layers were trainable."
   ]
  },
  {
   "cell_type": "code",
   "execution_count": 74,
   "metadata": {
    "scrolled": true
   },
   "outputs": [
    {
     "data": {
      "image/png": "[encoded data removed]",
      "text/plain": [
       "<Figure size 720x720 with 2 Axes>"
      ]
     },
     "metadata": {
      "needs_background": "light"
     },
     "output_type": "display_data"
    }
   ],
   "source": [
    "plot_results(hist1_1, 'ResNet34 FairFace')"
   ]
  },
  {
   "cell_type": "code",
   "execution_count": 97,
   "metadata": {},
   "outputs": [
    {
     "name": "stdout",
     "output_type": "stream",
     "text": [
      "Model 1 accuracy: 64.24%\n",
      "Model 1 loss:\t94.98%\n"
     ]
    }
   ],
   "source": [
    "print('Model 1 accuracy: {:2.2%}'.format(0.6424))\n",
    "print('Model 1 loss:\\t{:2.2%}'.format(0.9498))"
   ]
  },
  {
   "cell_type": "code",
   "execution_count": 77,
   "metadata": {
    "scrolled": true
   },
   "outputs": [
    {
     "data": {
      "image/png": "[encoded data removed]",
      "text/plain": [
       "<Figure size 720x720 with 2 Axes>"
      ]
     },
     "metadata": {
      "needs_background": "light"
     },
     "output_type": "display_data"
    }
   ],
   "source": [
    "plot_results(hist2_1, 'ResNet34 w/Dropout FairFace')"
   ]
  },
  {
   "cell_type": "code",
   "execution_count": 98,
   "metadata": {},
   "outputs": [
    {
     "name": "stdout",
     "output_type": "stream",
     "text": [
      "Model 2 accuracy: 61.15%\n",
      "Model 2 loss:\t152.85%\n"
     ]
    }
   ],
   "source": [
    "print('Model 2 accuracy: {:2.2%}'.format(0.6115))\n",
    "print('Model 2 loss:\\t{:2.2%}'.format(1.5285))"
   ]
  },
  {
   "cell_type": "code",
   "execution_count": 79,
   "metadata": {
    "scrolled": true
   },
   "outputs": [
    {
     "data": {
      "image/png": "[encoded data removed]",
      "text/plain": [
       "<Figure size 720x720 with 2 Axes>"
      ]
     },
     "metadata": {
      "needs_background": "light"
     },
     "output_type": "display_data"
    }
   ],
   "source": [
    "plot_results(hist3_1, 'ResNet34 w/Bayesian Dropout FairFace')"
   ]
  },
  {
   "cell_type": "code",
   "execution_count": 99,
   "metadata": {},
   "outputs": [
    {
     "name": "stdout",
     "output_type": "stream",
     "text": [
      "Model 3 accuracy: 64.50%\n",
      "Model 3 loss:\t95.47%\n"
     ]
    }
   ],
   "source": [
    "print('Model 3 accuracy: {:2.2%}'.format(0.6450))\n",
    "print('Model 3 loss:\\t{:2.2%}'.format(0.9547))"
   ]
  },
  {
   "cell_type": "markdown",
   "metadata": {},
   "source": [
    "#### There is marked improvement in the models, but it seems as though much more training is needed. None of them utilized any early stopping, and accuracy gains have not plateaued. I will train one final time, with all layers trainable."
   ]
  },
  {
   "cell_type": "markdown",
   "metadata": {},
   "source": [
    "# Training one last time, with all layers trainable."
   ]
  },
  {
   "cell_type": "code",
   "execution_count": 81,
   "metadata": {
    "scrolled": true
   },
   "outputs": [
    {
     "name": "stdout",
     "output_type": "stream",
     "text": [
      "INFO:tensorflow:Assets written to: ./models/model_1_1/assets\n",
      "INFO:tensorflow:Assets written to: ./models/model_2_1/assets\n",
      "INFO:tensorflow:Assets written to: ./models/model_3_1/assets\n"
     ]
    }
   ],
   "source": [
    "model_1.save('./models/model_1_1/')\n",
    "model_2.save('./models/model_2_1/')\n",
    "model_3.save('./models/model_3_1/')"
   ]
  },
  {
   "cell_type": "code",
   "execution_count": 82,
   "metadata": {},
   "outputs": [],
   "source": [
    "for i, layer in enumerate(model_1.layers):\n",
    "    layer.trainable = True \n",
    "for i, layer in enumerate(model_2.layers):\n",
    "    layer.trainable = True \n",
    "for i, layer in enumerate(model_3.layers):\n",
    "    layer.trainable = True "
   ]
  },
  {
   "cell_type": "code",
   "execution_count": 87,
   "metadata": {},
   "outputs": [],
   "source": [
    "epochs = 12"
   ]
  },
  {
   "cell_type": "code",
   "execution_count": 88,
   "metadata": {
    "scrolled": false
   },
   "outputs": [
    {
     "name": "stdout",
     "output_type": "stream",
     "text": [
      "Epoch 1/12\n",
      "    2/17348 [..............................] - ETA: 10:46 - loss: 1.0044 - accuracy: 0.6000WARNING:tensorflow:Callbacks method `on_train_batch_end` is slow compared to the batch time (batch time: 0.0247s vs `on_train_batch_end` time: 0.0498s). Check your callbacks.\n",
      "17349/17348 [==============================] - 1220s 70ms/step - loss: 0.7930 - accuracy: 0.6977 - val_loss: 0.9545 - val_accuracy: 0.6498\n",
      "Epoch 2/12\n",
      "17349/17348 [==============================] - 1221s 70ms/step - loss: 0.7170 - accuracy: 0.7273 - val_loss: 0.9133 - val_accuracy: 0.6604\n",
      "Epoch 3/12\n",
      "17349/17348 [==============================] - 1220s 70ms/step - loss: 0.6404 - accuracy: 0.7566 - val_loss: 0.9906 - val_accuracy: 0.6449\n",
      "Epoch 4/12\n",
      "17349/17348 [==============================] - 1220s 70ms/step - loss: 0.5626 - accuracy: 0.7873 - val_loss: 1.0037 - val_accuracy: 0.6592\n",
      "Epoch 5/12\n",
      "17349/17348 [==============================] - 1220s 70ms/step - loss: 0.4871 - accuracy: 0.8171 - val_loss: 1.1507 - val_accuracy: 0.6410\n",
      "Epoch 6/12\n",
      "17349/17348 [==============================] - 1227s 71ms/step - loss: 0.4148 - accuracy: 0.8431 - val_loss: 1.2144 - val_accuracy: 0.6321\n",
      "Epoch 7/12\n",
      "17349/17348 [==============================] - 1230s 71ms/step - loss: 0.3509 - accuracy: 0.8678 - val_loss: 1.3267 - val_accuracy: 0.6397\n",
      "Epoch 8/12\n",
      "17349/17348 [==============================] - 1221s 70ms/step - loss: 0.2953 - accuracy: 0.8907 - val_loss: 1.5265 - val_accuracy: 0.6345\n",
      "Epoch 9/12\n",
      "17349/17348 [==============================] - 1221s 70ms/step - loss: 0.2535 - accuracy: 0.9057 - val_loss: 1.4575 - val_accuracy: 0.6286\n",
      "Epoch 10/12\n",
      "17349/17348 [==============================] - 1222s 70ms/step - loss: 0.2188 - accuracy: 0.9197 - val_loss: 1.5588 - val_accuracy: 0.6169\n",
      "Epoch 11/12\n",
      "17349/17348 [==============================] - 1225s 71ms/step - loss: 0.1928 - accuracy: 0.9297 - val_loss: 1.7794 - val_accuracy: 0.6145\n",
      "Epoch 12/12\n",
      "17349/17348 [==============================] - 1223s 70ms/step - loss: 0.1740 - accuracy: 0.9357 - val_loss: 1.7050 - val_accuracy: 0.6263\n"
     ]
    }
   ],
   "source": [
    "hist1_2 = model_1.fit(train_generator,\n",
    "                    steps_per_epoch=step_size_train,\n",
    "                    epochs=epochs,\n",
    "                    validation_data=validation_generator,\n",
    "                    validation_steps=step_size_valid,\n",
    "                    callbacks=[es,model_1_checkpoint_callback])"
   ]
  },
  {
   "cell_type": "code",
   "execution_count": 89,
   "metadata": {},
   "outputs": [
    {
     "name": "stdout",
     "output_type": "stream",
     "text": [
      "Epoch 1/12\n",
      "    2/17348 [..............................] - ETA: 9:57 - loss: 1.1797 - accuracy: 0.6000WARNING:tensorflow:Callbacks method `on_train_batch_end` is slow compared to the batch time (batch time: 0.0233s vs `on_train_batch_end` time: 0.0455s). Check your callbacks.\n",
      "17349/17348 [==============================] - 1222s 70ms/step - loss: 0.8543 - accuracy: 0.6761 - val_loss: 0.9546 - val_accuracy: 0.6452\n",
      "Epoch 2/12\n",
      "17349/17348 [==============================] - 1222s 70ms/step - loss: 0.7961 - accuracy: 0.6986 - val_loss: 12.2512 - val_accuracy: 0.5111\n",
      "Epoch 3/12\n",
      "17349/17348 [==============================] - 1221s 70ms/step - loss: 0.7430 - accuracy: 0.7182 - val_loss: 3.8576 - val_accuracy: 0.5975\n",
      "Epoch 4/12\n",
      "17349/17348 [==============================] - 1222s 70ms/step - loss: 0.6943 - accuracy: 0.7382 - val_loss: 1.0189 - val_accuracy: 0.6376\n",
      "Epoch 5/12\n",
      "17349/17348 [==============================] - 1221s 70ms/step - loss: 0.6362 - accuracy: 0.7600 - val_loss: 5.8862 - val_accuracy: 0.5375\n",
      "Epoch 6/12\n",
      "17349/17348 [==============================] - 1228s 71ms/step - loss: 0.5816 - accuracy: 0.7830 - val_loss: 1.4461 - val_accuracy: 0.6276\n",
      "Epoch 7/12\n",
      "17349/17348 [==============================] - 1227s 71ms/step - loss: 0.5279 - accuracy: 0.8026 - val_loss: 1.1174 - val_accuracy: 0.6486\n",
      "Epoch 8/12\n",
      "17349/17348 [==============================] - 1222s 70ms/step - loss: 0.4806 - accuracy: 0.8209 - val_loss: 2.4831 - val_accuracy: 0.5927\n",
      "Epoch 9/12\n",
      "17349/17348 [==============================] - 1226s 71ms/step - loss: 0.4332 - accuracy: 0.8406 - val_loss: 2.0224 - val_accuracy: 0.6139\n",
      "Epoch 10/12\n",
      "17349/17348 [==============================] - 1222s 70ms/step - loss: 0.3920 - accuracy: 0.8551 - val_loss: 1.3423 - val_accuracy: 0.6242\n",
      "Epoch 11/12\n",
      "17349/17348 [==============================] - 1224s 71ms/step - loss: 0.3549 - accuracy: 0.8692 - val_loss: 1.4075 - val_accuracy: 0.6118\n"
     ]
    }
   ],
   "source": [
    "hist2_2 = model_2.fit(train_generator,\n",
    "                    steps_per_epoch=step_size_train,\n",
    "                    epochs=epochs,\n",
    "                    validation_data=validation_generator,\n",
    "                    validation_steps=step_size_valid,\n",
    "                    callbacks=[es,model_2_checkpoint_callback])"
   ]
  },
  {
   "cell_type": "code",
   "execution_count": 90,
   "metadata": {
    "scrolled": false
   },
   "outputs": [
    {
     "name": "stdout",
     "output_type": "stream",
     "text": [
      "Epoch 1/12\n",
      "    2/17348 [..............................] - ETA: 9:56 - loss: 1.2202 - accuracy: 0.6000WARNING:tensorflow:Callbacks method `on_train_batch_end` is slow compared to the batch time (batch time: 0.0221s vs `on_train_batch_end` time: 0.0466s). Check your callbacks.\n",
      "17349/17348 [==============================] - 1227s 71ms/step - loss: 0.7554 - accuracy: 0.7126 - val_loss: 0.9149 - val_accuracy: 0.6582\n",
      "Epoch 2/12\n",
      "17349/17348 [==============================] - 1230s 71ms/step - loss: 0.6671 - accuracy: 0.7462 - val_loss: 0.9528 - val_accuracy: 0.6628\n",
      "Epoch 3/12\n",
      "17349/17348 [==============================] - 1229s 71ms/step - loss: 0.5792 - accuracy: 0.7825 - val_loss: 1.1258 - val_accuracy: 0.6473\n",
      "Epoch 4/12\n",
      "17349/17348 [==============================] - 1229s 71ms/step - loss: 0.4920 - accuracy: 0.8146 - val_loss: 1.1692 - val_accuracy: 0.6395\n",
      "Epoch 5/12\n",
      "17349/17348 [==============================] - 1229s 71ms/step - loss: 0.4111 - accuracy: 0.8477 - val_loss: 1.1158 - val_accuracy: 0.6420\n",
      "Epoch 6/12\n",
      "17349/17348 [==============================] - 1229s 71ms/step - loss: 0.3381 - accuracy: 0.8740 - val_loss: 1.3091 - val_accuracy: 0.6366\n",
      "Epoch 7/12\n",
      "17349/17348 [==============================] - 1230s 71ms/step - loss: 0.2808 - accuracy: 0.8962 - val_loss: 1.3613 - val_accuracy: 0.6411\n",
      "Epoch 8/12\n",
      "17349/17348 [==============================] - 1225s 71ms/step - loss: 0.2349 - accuracy: 0.9138 - val_loss: 1.6160 - val_accuracy: 0.6336\n",
      "Epoch 9/12\n",
      "17349/17348 [==============================] - 1225s 71ms/step - loss: 0.1994 - accuracy: 0.9264 - val_loss: 1.7076 - val_accuracy: 0.6272\n",
      "Epoch 10/12\n",
      "17349/17348 [==============================] - 1236s 71ms/step - loss: 0.1761 - accuracy: 0.9357 - val_loss: 1.6933 - val_accuracy: 0.6190\n",
      "Epoch 11/12\n",
      "17349/17348 [==============================] - 1279s 74ms/step - loss: 0.1540 - accuracy: 0.9440 - val_loss: 1.6968 - val_accuracy: 0.6169\n"
     ]
    }
   ],
   "source": [
    "hist3_2 = model_3.fit(train_generator,\n",
    "                    steps_per_epoch=step_size_train,\n",
    "                    epochs=epochs,\n",
    "                    validation_data=validation_generator,\n",
    "                    validation_steps=step_size_valid,\n",
    "                    callbacks=[es,model_3_checkpoint_callback])"
   ]
  },
  {
   "cell_type": "markdown",
   "metadata": {},
   "source": [
    "### Finally, lets visualise the results of the training where all layers were trainable."
   ]
  },
  {
   "cell_type": "code",
   "execution_count": 91,
   "metadata": {
    "scrolled": true
   },
   "outputs": [
    {
     "data": {
      "image/png": "[encoded data removed]",
      "text/plain": [
       "<Figure size 720x720 with 2 Axes>"
      ]
     },
     "metadata": {
      "needs_background": "light"
     },
     "output_type": "display_data"
    }
   ],
   "source": [
    "plot_results(hist1_2, 'ResNet34 FairFace')"
   ]
  },
  {
   "cell_type": "code",
   "execution_count": 100,
   "metadata": {},
   "outputs": [
    {
     "name": "stdout",
     "output_type": "stream",
     "text": [
      "Model 1 accuracy: 62.63%\n",
      "Model 1 loss:\t170.50%\n"
     ]
    }
   ],
   "source": [
    "print('Model 1 accuracy: {:2.2%}'.format(0.6263))\n",
    "print('Model 1 loss:\\t{:2.2%}'.format(1.7050))"
   ]
  },
  {
   "cell_type": "code",
   "execution_count": 92,
   "metadata": {
    "scrolled": true
   },
   "outputs": [
    {
     "data": {
      "image/png": "[encoded data removed]",
      "text/plain": [
       "<Figure size 720x720 with 2 Axes>"
      ]
     },
     "metadata": {
      "needs_background": "light"
     },
     "output_type": "display_data"
    }
   ],
   "source": [
    "plot_results(hist2_2, 'ResNet34 w/Dropout FairFace')"
   ]
  },
  {
   "cell_type": "code",
   "execution_count": 101,
   "metadata": {},
   "outputs": [
    {
     "name": "stdout",
     "output_type": "stream",
     "text": [
      "Model 2 accuracy: 61.18%\n",
      "Model 2 loss:\t140.75%\n"
     ]
    }
   ],
   "source": [
    "print('Model 2 accuracy: {:2.2%}'.format(0.6118))\n",
    "print('Model 2 loss:\\t{:2.2%}'.format(1.4075))"
   ]
  },
  {
   "cell_type": "code",
   "execution_count": 93,
   "metadata": {
    "scrolled": true
   },
   "outputs": [
    {
     "data": {
      "image/png": "[encoded data removed]",
      "text/plain": [
       "<Figure size 720x720 with 2 Axes>"
      ]
     },
     "metadata": {
      "needs_background": "light"
     },
     "output_type": "display_data"
    }
   ],
   "source": [
    "plot_results(hist3_2, 'ResNet34 w/Bayesian Dropout FairFace')"
   ]
  },
  {
   "cell_type": "code",
   "execution_count": 102,
   "metadata": {
    "scrolled": true
   },
   "outputs": [
    {
     "name": "stdout",
     "output_type": "stream",
     "text": [
      "Model 3 accuracy: 61.69%\n",
      "Model 3 loss:\t169.68%\n"
     ]
    }
   ],
   "source": [
    "print('Model 3 accuracy: {:2.2%}'.format(0.6169))\n",
    "print('Model 3 loss:\\t{:2.2%}'.format(1.6968))"
   ]
  },
  {
   "cell_type": "code",
   "execution_count": 103,
   "metadata": {
    "scrolled": true
   },
   "outputs": [
    {
     "name": "stdout",
     "output_type": "stream",
     "text": [
      "INFO:tensorflow:Assets written to: ./models/model_1_2/assets\n",
      "INFO:tensorflow:Assets written to: ./models/model_2_2/assets\n",
      "INFO:tensorflow:Assets written to: ./models/model_3_2/assets\n"
     ]
    }
   ],
   "source": [
    "model_1.save('./models/model_1_2/')\n",
    "model_2.save('./models/model_2_2/')\n",
    "model_3.save('./models/model_3_2/')"
   ]
  },
  {
   "cell_type": "markdown",
   "metadata": {},
   "source": [
    "# Conclusion"
   ]
  },
  {
   "cell_type": "markdown",
   "metadata": {},
   "source": [
    "As we can see by the graphs for the final training iteration, there is definitely an over fitting to the training data. I suspect there were too many epochs, in total, across all 3 training iterations. However, we did see in the second iteration that the accuracy for both training and validation improved, and we saw that the loss for both the training and the validation decreased. Additionally, we saw that the addition of the variational dense layer (Dropout as a Bayesian Approximation) did have a marked improvement in accuracy when comepared to the control model (model 1)"
   ]
  }
 ],
 "metadata": {
  "anaconda-cloud": {},
  "colab": {
   "name": "t81_558_class_06_3_resnet.ipynb",
   "provenance": []
  },
  "kernelspec": {
   "display_name": "Python 3",
   "language": "python",
   "name": "python3"
  }
 },
 "nbformat": 4,
 "nbformat_minor": 1
}
